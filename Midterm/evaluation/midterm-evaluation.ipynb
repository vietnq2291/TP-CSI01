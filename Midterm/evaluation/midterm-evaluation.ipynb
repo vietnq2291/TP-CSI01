{
 "cells": [
  {
   "cell_type": "markdown",
   "metadata": {},
   "source": [
    "## <center>Computer Science Intensive Course - MindX</center>\n",
    "![](./assets/logo.png)\n",
    "# <center>KIỂM TRA GIỮA KHÓA - ĐÁNH GIÁ ĐIỂM</center>"
   ]
  },
  {
   "cell_type": "code",
   "execution_count": 1,
   "metadata": {},
   "outputs": [],
   "source": [
    "import pandas as pd\n",
    "from os import listdir\n",
    "from os.path import isfile, join"
   ]
  },
  {
   "cell_type": "markdown",
   "metadata": {},
   "source": [
    "## Load bài giải mẫu và test case\n",
    "\n",
    "Chạy phần **Chấm điểm** ngay sau khi chạy phần này để kiểm tra test case hoạt động đúng. Sau đó mới chạy phần **Load bài nộp** để chấm điểm học viên."
   ]
  },
  {
   "cell_type": "code",
   "execution_count": 2,
   "metadata": {},
   "outputs": [],
   "source": [
    "%run midterm-solutions.ipynb import find_mode, buy_icecream, has_sequence_with_sum, count_swap, find_word, find_closest_distance\n",
    "%run midterm-testcases.ipynb\n",
    "\n",
    "current_submission = 'midterm-solutions.ipynb'"
   ]
  },
  {
   "cell_type": "markdown",
   "metadata": {},
   "source": [
    "## Load bài nộp\n",
    "\n",
    "- Load các bài nộp trong thư mục <code>path</code>.\n",
    "- Chấm điểm từng bài bằng cách thay đổi index khi gán giá trị cho biến <code>current_submission</code>."
   ]
  },
  {
   "cell_type": "code",
   "execution_count": 3,
   "metadata": {},
   "outputs": [
    {
     "data": {
      "text/plain": [
       "['../submissions/NguyenCanhNhan-CSIMidtermTest.ipynb',\n",
       " '../submissions/NCN-CSIMidtermTest.ipynb']"
      ]
     },
     "execution_count": 3,
     "metadata": {},
     "output_type": "execute_result"
    }
   ],
   "source": [
    "path = '../submissions'  # change this path\n",
    "submissions = ['../submissions/{}'.format(f) for f in listdir(path) if isfile(join(path, f))]\n",
    "submissions"
   ]
  },
  {
   "cell_type": "code",
   "execution_count": 4,
   "metadata": {},
   "outputs": [
    {
     "name": "stdout",
     "output_type": "stream",
     "text": [
      "Correct answer on sample test!\n",
      "Correct answer on sample test!\n",
      "Correct answer on sample test!\n",
      "Correct answer on sample test!\n",
      "Invalid submission or Wrong answer!\n",
      "Correct answer on sample test!\n"
     ]
    }
   ],
   "source": [
    "current_submission = submissions[1]  # change the index\n",
    "%run $current_submission import find_mode, buy_icecream, has_sequence_with_sum, count_swap, find_word, find_closest_distance"
   ]
  },
  {
   "cell_type": "markdown",
   "metadata": {},
   "source": [
    "## Chấm điểm"
   ]
  },
  {
   "cell_type": "code",
   "execution_count": 5,
   "metadata": {},
   "outputs": [
    {
     "name": "stdout",
     "output_type": "stream",
     "text": [
      "Testing on ../submissions/NCN-CSIMidtermTest.ipynb\n",
      "===============================================\n",
      "Testing on problem 1/6...\n",
      "Testing on problem 2/6...\n",
      "Testing on problem 3/6...\n",
      "Testing on problem 4/6...\n",
      "Testing on problem 5/6...\n",
      "Testing on problem 6/6...\n",
      "===============================================\n",
      "Total Test Cases Passed: 41/60\n",
      "Total Points: 82/120\n"
     ]
    },
    {
     "data": {
      "text/html": [
       "<div>\n",
       "<style scoped>\n",
       "    .dataframe tbody tr th:only-of-type {\n",
       "        vertical-align: middle;\n",
       "    }\n",
       "\n",
       "    .dataframe tbody tr th {\n",
       "        vertical-align: top;\n",
       "    }\n",
       "\n",
       "    .dataframe thead th {\n",
       "        text-align: right;\n",
       "    }\n",
       "</style>\n",
       "<table border=\"1\" class=\"dataframe\">\n",
       "  <thead>\n",
       "    <tr style=\"text-align: right;\">\n",
       "      <th></th>\n",
       "      <th>Problem 1</th>\n",
       "      <th>Problem 2</th>\n",
       "      <th>Problem 3</th>\n",
       "      <th>Problem 4</th>\n",
       "      <th>Problem 5</th>\n",
       "      <th>Problem 6</th>\n",
       "    </tr>\n",
       "  </thead>\n",
       "  <tbody>\n",
       "    <tr>\n",
       "      <th>Test 1</th>\n",
       "      <td>WRONG ANSWER</td>\n",
       "      <td>PASSED</td>\n",
       "      <td>PASSED</td>\n",
       "      <td>PASSED</td>\n",
       "      <td>EXCEPTION: name 'k' is not defined</td>\n",
       "      <td>PASSED</td>\n",
       "    </tr>\n",
       "    <tr>\n",
       "      <th>Test 2</th>\n",
       "      <td>WRONG ANSWER</td>\n",
       "      <td>PASSED</td>\n",
       "      <td>PASSED</td>\n",
       "      <td>PASSED</td>\n",
       "      <td>EXCEPTION: name 'k' is not defined</td>\n",
       "      <td>PASSED</td>\n",
       "    </tr>\n",
       "    <tr>\n",
       "      <th>Test 3</th>\n",
       "      <td>WRONG ANSWER</td>\n",
       "      <td>PASSED</td>\n",
       "      <td>PASSED</td>\n",
       "      <td>PASSED</td>\n",
       "      <td>EXCEPTION: name 'k' is not defined</td>\n",
       "      <td>PASSED</td>\n",
       "    </tr>\n",
       "    <tr>\n",
       "      <th>Test 4</th>\n",
       "      <td>PASSED</td>\n",
       "      <td>PASSED</td>\n",
       "      <td>PASSED</td>\n",
       "      <td>PASSED</td>\n",
       "      <td>EXCEPTION: name 'k' is not defined</td>\n",
       "      <td>PASSED</td>\n",
       "    </tr>\n",
       "    <tr>\n",
       "      <th>Test 5</th>\n",
       "      <td>PASSED</td>\n",
       "      <td>PASSED</td>\n",
       "      <td>PASSED</td>\n",
       "      <td>PASSED</td>\n",
       "      <td>EXCEPTION: name 'k' is not defined</td>\n",
       "      <td>PASSED</td>\n",
       "    </tr>\n",
       "    <tr>\n",
       "      <th>Test 6</th>\n",
       "      <td>PASSED</td>\n",
       "      <td>PASSED</td>\n",
       "      <td>PASSED</td>\n",
       "      <td>PASSED</td>\n",
       "      <td>EXCEPTION: name 'k' is not defined</td>\n",
       "      <td>PASSED</td>\n",
       "    </tr>\n",
       "    <tr>\n",
       "      <th>Test 7</th>\n",
       "      <td>PASSED</td>\n",
       "      <td>PASSED</td>\n",
       "      <td>PASSED</td>\n",
       "      <td>PASSED</td>\n",
       "      <td>EXCEPTION: name 'k' is not defined</td>\n",
       "      <td>PASSED</td>\n",
       "    </tr>\n",
       "    <tr>\n",
       "      <th>Test 8</th>\n",
       "      <td>PASSED</td>\n",
       "      <td>PASSED</td>\n",
       "      <td>PASSED</td>\n",
       "      <td>TIME LIMIT EXCEEDED</td>\n",
       "      <td>EXCEPTION: name 'k' is not defined</td>\n",
       "      <td>TIME LIMIT EXCEEDED</td>\n",
       "    </tr>\n",
       "    <tr>\n",
       "      <th>Test 9</th>\n",
       "      <td>PASSED</td>\n",
       "      <td>PASSED</td>\n",
       "      <td>PASSED</td>\n",
       "      <td>TIME LIMIT EXCEEDED</td>\n",
       "      <td>EXCEPTION: name 'k' is not defined</td>\n",
       "      <td>TIME LIMIT EXCEEDED</td>\n",
       "    </tr>\n",
       "    <tr>\n",
       "      <th>Test 10</th>\n",
       "      <td>PASSED</td>\n",
       "      <td>PASSED</td>\n",
       "      <td>PASSED</td>\n",
       "      <td>TIME LIMIT EXCEEDED</td>\n",
       "      <td>EXCEPTION: name 'k' is not defined</td>\n",
       "      <td>TIME LIMIT EXCEEDED</td>\n",
       "    </tr>\n",
       "    <tr>\n",
       "      <th>Total</th>\n",
       "      <td>7</td>\n",
       "      <td>10</td>\n",
       "      <td>10</td>\n",
       "      <td>7</td>\n",
       "      <td>0</td>\n",
       "      <td>7</td>\n",
       "    </tr>\n",
       "  </tbody>\n",
       "</table>\n",
       "</div>"
      ],
      "text/plain": [
       "            Problem 1 Problem 2 Problem 3            Problem 4  \\\n",
       "Test 1   WRONG ANSWER    PASSED    PASSED               PASSED   \n",
       "Test 2   WRONG ANSWER    PASSED    PASSED               PASSED   \n",
       "Test 3   WRONG ANSWER    PASSED    PASSED               PASSED   \n",
       "Test 4         PASSED    PASSED    PASSED               PASSED   \n",
       "Test 5         PASSED    PASSED    PASSED               PASSED   \n",
       "Test 6         PASSED    PASSED    PASSED               PASSED   \n",
       "Test 7         PASSED    PASSED    PASSED               PASSED   \n",
       "Test 8         PASSED    PASSED    PASSED  TIME LIMIT EXCEEDED   \n",
       "Test 9         PASSED    PASSED    PASSED  TIME LIMIT EXCEEDED   \n",
       "Test 10        PASSED    PASSED    PASSED  TIME LIMIT EXCEEDED   \n",
       "Total               7        10        10                    7   \n",
       "\n",
       "                                  Problem 5            Problem 6  \n",
       "Test 1   EXCEPTION: name 'k' is not defined               PASSED  \n",
       "Test 2   EXCEPTION: name 'k' is not defined               PASSED  \n",
       "Test 3   EXCEPTION: name 'k' is not defined               PASSED  \n",
       "Test 4   EXCEPTION: name 'k' is not defined               PASSED  \n",
       "Test 5   EXCEPTION: name 'k' is not defined               PASSED  \n",
       "Test 6   EXCEPTION: name 'k' is not defined               PASSED  \n",
       "Test 7   EXCEPTION: name 'k' is not defined               PASSED  \n",
       "Test 8   EXCEPTION: name 'k' is not defined  TIME LIMIT EXCEEDED  \n",
       "Test 9   EXCEPTION: name 'k' is not defined  TIME LIMIT EXCEEDED  \n",
       "Test 10  EXCEPTION: name 'k' is not defined  TIME LIMIT EXCEEDED  \n",
       "Total                                     0                    7  "
      ]
     },
     "execution_count": 5,
     "metadata": {},
     "output_type": "execute_result"
    }
   ],
   "source": [
    "def evaluate():\n",
    "    \n",
    "    print('Testing on {}'.format(current_submission))\n",
    "    print('===============================================')\n",
    "\n",
    "    func_list = [find_mode, buy_icecream, has_sequence_with_sum, count_swap, find_word, find_closest_distance]\n",
    "    test_func_list = [test1, test2, test3, test4, test5, test6]\n",
    "    result_df = pd.DataFrame()\n",
    "\n",
    "    for i, func in enumerate(func_list):\n",
    "        print('Testing on problem {}/6...'.format(i+1))\n",
    "        result_df['Problem {}'.format(i+1)] = test_func_list[i](func)\n",
    "\n",
    "    index_list = ['Test {}'.format(i+1) for i in range(10)]\n",
    "    index_list += ['Total']\n",
    "    result_df.set_index(pd.Index(index_list), inplace=True)\n",
    "\n",
    "    tests_passed = result_df.loc['Total', :].sum()\n",
    "    print('===============================================')\n",
    "    print('Total Test Cases Passed: {}/60'.format(tests_passed))\n",
    "    print('Total Points: {}/120'.format(tests_passed*2))\n",
    "\n",
    "    return result_df\n",
    "\n",
    "\n",
    "evaluate()"
   ]
  },
  {
   "cell_type": "code",
   "execution_count": null,
   "metadata": {},
   "outputs": [],
   "source": []
  }
 ],
 "metadata": {
  "kernelspec": {
   "display_name": "Python 3.9.13 ('base')",
   "language": "python",
   "name": "python3"
  },
  "language_info": {
   "codemirror_mode": {
    "name": "ipython",
    "version": 3
   },
   "file_extension": ".py",
   "mimetype": "text/x-python",
   "name": "python",
   "nbconvert_exporter": "python",
   "pygments_lexer": "ipython3",
   "version": "3.10.9"
  },
  "vscode": {
   "interpreter": {
    "hash": "245cc435fe8701059561108fec3fd7c748240250fa2e2b5e714b4f6827c3f344"
   }
  }
 },
 "nbformat": 4,
 "nbformat_minor": 4
}
