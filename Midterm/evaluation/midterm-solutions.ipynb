{
 "cells": [
  {
   "cell_type": "markdown",
   "metadata": {},
   "source": [
    "## <center>Computer Science Intensive Course - MindX</center>\n",
    "![](./assets/logo.png)\n",
    "# <center>KIỂM TRA GIỮA KHÓA - ĐÁP ÁN</center>"
   ]
  },
  {
   "cell_type": "markdown",
   "metadata": {},
   "source": [
    "## Bài 1. Tìm Mode\n",
    "\n",
    "**Thuật toán**:  \n",
    "Vừa đếm tần suất các phần tử vừa kiểm tra phần tử đang đếm có xuất hiện nhiều nhất không.\n",
    "  + Nếu xuất hiện nhiều hơn mode hiện tại: Cập nhật tần suất cao nhất; Cập nhật danh sách mode chỉ còn phần tử đang đếm.\n",
    "  + Nếu xuất hiện bằng mode hiện tại: Thêm phần tử hiện tại vào danh sách mode."
   ]
  },
  {
   "cell_type": "code",
   "execution_count": 16,
   "metadata": {},
   "outputs": [
    {
     "name": "stdout",
     "output_type": "stream",
     "text": [
      "3\n"
     ]
    }
   ],
   "source": [
    "# SOLUTION\n",
    "def find_mode(arr):\n",
    "\n",
    "    # handle trivial cases\n",
    "    if len(arr) < 2:\n",
    "        return None\n",
    "    \n",
    "    # init\n",
    "    count = {}      # occurences of each value\n",
    "    max_occur = 2   # largest number of occurences\n",
    "    mode_list = []  # list of modes in the sequence\n",
    "    \n",
    "    # traverse arr to find modes\n",
    "    for el in arr:\n",
    "        count[el] = count.get(el, 0) + 1  # count the element\n",
    "        if count[el] > max_occur:         # found element with more occurences\n",
    "            max_occur = count[el]         # => update max_occur and reset mode_list\n",
    "            mode_list = [el]\n",
    "        elif count[el] == max_occur:      # found element with same occurences as current modes\n",
    "            mode_list.append(el)          # => add to mode_list\n",
    "    \n",
    "    # return result\n",
    "    if len(mode_list) == 0:\n",
    "        return None\n",
    "    \n",
    "    mode_list.sort()    \n",
    "    return mode_list[-1]\n",
    "\n",
    "\n",
    "# driver code\n",
    "# print(find_mode([1, 2, 3, 3, 2]))"
   ]
  },
  {
   "cell_type": "markdown",
   "metadata": {},
   "source": [
    "## Bài 2. Mua Kem\n",
    "\n",
    "**Thuật toán**:  \n",
    "- Thử mua từng loại kem.\n",
    "- Tại loại kem thứ i, tìm loại kem j sao cho prices[i] + prices[j] == budget. Nếu tìm được, trả về i, j."
   ]
  },
  {
   "cell_type": "code",
   "execution_count": 1,
   "metadata": {},
   "outputs": [
    {
     "data": {
      "text/plain": [
       "(0, 3)"
      ]
     },
     "execution_count": 1,
     "metadata": {},
     "output_type": "execute_result"
    }
   ],
   "source": [
    "# SOLUTION\n",
    "def buy_icecream(budget, prices):\n",
    "    # traverse the price list\n",
    "    for i, el in enumerate(prices):\n",
    "        if budget > el:  # if budget is enough for another icecream...\n",
    "            try:\n",
    "                index = prices.index(budget-el)  # ... find that icecream\n",
    "                if i != index:\n",
    "                    return i, index\n",
    "            except:\n",
    "                pass\n",
    "            \n",
    "            \n",
    "# driver code\n",
    "# buy_icecream(4, [1, 4, 5, 3, 2])"
   ]
  },
  {
   "cell_type": "markdown",
   "metadata": {},
   "source": [
    "## Bài 3. Tìm Tổng\n",
    "\n",
    "**Thuật toán**:  \n",
    "- Sử dụng hai biến left, right là index bắt đầu và kết thúc của dãy con.\n",
    "- Cho biến right và left chạy từ đầu đến cuối dãy, right chạy trước, left chạy sau sao cho:\n",
    "  + Mỗi lần thay đổi left hoặc right, ta thay đổi tổng hiện tại của dãy con bằng cách cộng hoặc trừ giá trị thay đổi\n",
    "  + Mỗi lần chạy, tăng right lên 1, sau đó tăng left lên sao cho tổng hiện tại không lớn hơn tổng cần đạt được\n",
    "  + Kiểm tra tổng hiện tại có bằng tổng cần đạt được hay không"
   ]
  },
  {
   "cell_type": "code",
   "execution_count": 26,
   "metadata": {},
   "outputs": [
    {
     "data": {
      "text/plain": [
       "False"
      ]
     },
     "execution_count": 26,
     "metadata": {},
     "output_type": "execute_result"
    }
   ],
   "source": [
    "# SOLUTION\n",
    "def has_sequence_with_sum(target_sum, arr):\n",
    "    \n",
    "    # init\n",
    "    current_sum = 0   # the sum of the subsequence\n",
    "    left = right = 0  # the left and right indices of the subsequence\n",
    "    \n",
    "    # traverse `right` on `arr`\n",
    "    while right < len(arr):\n",
    "        \n",
    "        # add new element to the subsequence\n",
    "        current_sum += arr[right]\n",
    "        \n",
    "        # if adding new value make `current_sum` > `target_sum` ...\n",
    "        # ... shrink the subsequence until `current_sum` <= `target_sum`\n",
    "        while current_sum > target_sum and left < right:\n",
    "            current_sum -= arr[left]\n",
    "            left += 1\n",
    "        \n",
    "        # found the subsequence\n",
    "        if current_sum == target_sum:\n",
    "            return True\n",
    "        \n",
    "        right += 1\n",
    "    \n",
    "    # no sequence found\n",
    "    return False\n",
    "\n",
    "\n",
    "# driver code\n",
    "# has_sequence_with_sum(8, [1, 2, 3, 4, 5])"
   ]
  },
  {
   "cell_type": "markdown",
   "metadata": {},
   "source": [
    "## Bài 4. Đổi Chỗ\n",
    "\n",
    "**Thuật toán**:  \n",
    "- Bài toán này thực chất là đếm số nhóm của các phần tử chưa nằm đúng vị trí và số lượng phần tử trong từng nhóm.\n",
    "- Ví dụ:\n",
    "  + <code>arr = [3, 4, 1, 5, 2, 6]</code>, sau khi sắp xếp là <code>sorted_arr = [1, 2, 3, 4, 5, 6]</code>.\n",
    "  + Dãy trên có hai nhóm (theo giá trị) là <code>[3, 1]</code> và <code>[4, 5, 2]</code>. Ta có thể sắp xếp dãy bằng cách sắp xếp riêng từng nhóm. Số lần swap nhỏ nhất của một nhóm bằng số lượng phần tử trừ đi 1. Tổng số lần swap trên toàn dãy bằng tổng số lần swap của các nhóm.\n",
    "- Dùng ví dụ trên, ta tìm nhóm như sau:\n",
    "  + Chạy từ đầu đến cuối dãy, so sánh <code>arr</code> và <code>sorted_arr</code> để kiểm tra phần tử đã nằm đúng vị trí chưa.\n",
    "  + Nếu chưa đúng, bắt đầu tìm nhóm của phần tử hiện tại. Ta dùng mảng boolean <code>counted</code> để đánh dấu những phần tử đã được đếm. Ví dụ với <code>arr[0] = 3</code>:\n",
    "    <pre>\n",
    "    arr[0] != sorted_arr[0]  -->  set counted[0] as True\n",
    "        arr[0] = 3 --> binary_search(sorted_arr, 3) = 2 --> set counted[2] as True\n",
    " --> arr[2] = 1 --> binary_search(sorted_arr, 1) = 0 --> counted[0] is already True\n",
    " --> end, the group has 2 elements\n",
    "    </pre>\n",
    "  + Ví dụ 2: với <code>arr[1] = 4</code>:\n",
    "    <pre>\n",
    "    arr[1] != sorted_arr[1]  -->  set counted[1] as True\n",
    "        arr[1] = 4 --> binary_search(sorted_arr, 4) = 3 --> set counted[3] as True\n",
    " --> arr[3] = 5 --> binary_search(sorted_arr, 5) = 4 --> set counted[4] as True\n",
    " --> arr[4] = 2 --> binary_search(sorted_arr, 2) = 1 --> counted[1] is already True\n",
    " --> end --> the group has 3 elements\n",
    "    </pre>"
   ]
  },
  {
   "cell_type": "code",
   "execution_count": 21,
   "metadata": {},
   "outputs": [
    {
     "data": {
      "text/plain": [
       "2"
      ]
     },
     "execution_count": 21,
     "metadata": {},
     "output_type": "execute_result"
    }
   ],
   "source": [
    "# SOLUTION\n",
    "\n",
    "# binary search for ascending-sorted list\n",
    "def binary_search(data_list, value):\n",
    "\n",
    "    left = 0\n",
    "    right = len(data_list)-1\n",
    "    while left <= right:\n",
    "        \n",
    "        mid = (left + right) // 2\n",
    "        mid_item = data_list[mid]\n",
    "        \n",
    "        if mid_item < value:\n",
    "            left = mid + 1\n",
    "        elif mid_item > value:\n",
    "            right = mid - 1\n",
    "        else:\n",
    "            return mid\n",
    "\n",
    "    return -1\n",
    "\n",
    "\n",
    "def count_swap(arr):\n",
    "    \n",
    "    # init\n",
    "    sorted_arr = sorted(arr)  # create a sorted list for comparison\n",
    "    \n",
    "    n = len(arr)\n",
    "    counted = [False] * n  # for checking if an index is counted for swapping\n",
    "    count = 0\n",
    "    \n",
    "    # traverse both lists\n",
    "    for i in range(n):\n",
    "        if (arr[i] != sorted_arr[i]) and (not counted[i]):  # if an element is in the wrong position ...\n",
    "            current_index = i\n",
    "            while not counted[current_index]:  # ... find the group of every other elements that are\n",
    "                count += 1                     #                  linked to that first found element\n",
    "                counted[current_index] = True\n",
    "                current_index = binary_search(sorted_arr, arr[current_index])\n",
    "            count -= 1  # total swaps for this group equals to number of elements minus 1\n",
    "    \n",
    "    return count\n",
    "\n",
    "\n",
    "# driver code\n",
    "# count_swap([2, 5, 3, 1])"
   ]
  },
  {
   "cell_type": "markdown",
   "metadata": {},
   "source": [
    "## Bài 5. Tìm Từ\n",
    "\n",
    "**Thuật toán**:  \n",
    "- Lọc các từ trong string.\n",
    "- Đếm từng từ.\n",
    "- Nhập các từ có tần suất mong đợi vào kết quả."
   ]
  },
  {
   "cell_type": "code",
   "execution_count": 37,
   "metadata": {},
   "outputs": [
    {
     "data": {
      "text/plain": [
       "'is chasing rat'"
      ]
     },
     "execution_count": 37,
     "metadata": {},
     "output_type": "execute_result"
    }
   ],
   "source": [
    "# SOLUTION\n",
    "def find_word(frequency, inp_str):\n",
    "    \n",
    "    # get list of words from string\n",
    "    word_list = inp_str.lower().split(' ')    \n",
    "    for i, word in enumerate(word_list):\n",
    "        word_list[i] = ''.join(c for c in word if c.isalpha())\n",
    "    \n",
    "    # count occurences of each words\n",
    "    word_count = {}\n",
    "    for word in word_list:\n",
    "        if word != '':\n",
    "            word_count[word] = word_count.get(word, 0) + 1\n",
    "    \n",
    "    # get result\n",
    "    result = []\n",
    "    for word, count in word_count.items():\n",
    "        if count == frequency:\n",
    "            result += [word]\n",
    "    result.sort()\n",
    "\n",
    "    return ' '.join(result)\n",
    "\n",
    "\n",
    "# driver code\n",
    "# find_word(2, \"The cat is chasing the rat. The dog is also chasing the rat.\")"
   ]
  },
  {
   "cell_type": "markdown",
   "metadata": {},
   "source": [
    "## Bài 6. Khoảng Cách Ngắn Nhất\n",
    "\n",
    "**Thuật toán**:  \n",
    "- Sắp xếp dãy tăng dần.\n",
    "- Sau khi sắp xếp, khoảng cách ngắn nhất giữa hai phần tử bất kì bằng khoảng cách ngắn nhất giữa hai phần tử *liên tiếp* bất kì => giảm từ O(n<sup>2</sup>) còn O(n).\n",
    "- Tìm khoảng cách ngắn nhất giữa hai phần tử liên tiếp."
   ]
  },
  {
   "cell_type": "code",
   "execution_count": 31,
   "metadata": {},
   "outputs": [
    {
     "data": {
      "text/plain": [
       "1"
      ]
     },
     "execution_count": 31,
     "metadata": {},
     "output_type": "execute_result"
    }
   ],
   "source": [
    "def find_closest_distance(arr):\n",
    "    \n",
    "    # sort the array first\n",
    "    arr.sort()\n",
    "    \n",
    "    # find the minimal distance between adjacent elements\n",
    "    min_dis = arr[1] - arr[0]\n",
    "    for i in range(2, len(arr)):\n",
    "        if arr[i] - arr[i-1] < min_dis:\n",
    "            min_dis = arr[i] - arr[i-1]\n",
    "            \n",
    "    return min_dis\n",
    "\n",
    "\n",
    "# driver code\n",
    "# find_closest_distance([1, 5, 3, 2])"
   ]
  },
  {
   "cell_type": "code",
   "execution_count": null,
   "metadata": {},
   "outputs": [],
   "source": []
  }
 ],
 "metadata": {
  "kernelspec": {
   "display_name": "Python 3.10.4 64-bit",
   "language": "python",
   "name": "python3"
  },
  "language_info": {
   "codemirror_mode": {
    "name": "ipython",
    "version": 3
   },
   "file_extension": ".py",
   "mimetype": "text/x-python",
   "name": "python",
   "nbconvert_exporter": "python",
   "pygments_lexer": "ipython3",
   "version": "3.10.4"
  },
  "vscode": {
   "interpreter": {
    "hash": "916dbcbb3f70747c44a77c7bcd40155683ae19c65e1c03b4aa3499c5328201f1"
   }
  }
 },
 "nbformat": 4,
 "nbformat_minor": 4
}
