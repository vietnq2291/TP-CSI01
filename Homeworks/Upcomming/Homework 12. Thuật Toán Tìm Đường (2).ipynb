{
 "cells": [
  {
   "cell_type": "markdown",
   "metadata": {},
   "source": [
    "## <center>Computer Science Intensive Course - MindX</center>\n",
    "![](./assets/logo.png)\n",
    "# <center>HOMEWORK 12. THUẬT TOÁN TÌM ĐƯỜNG (2)</center>"
   ]
  },
  {
   "cell_type": "markdown",
   "metadata": {},
   "source": [
    "## Bài Tập: Dò Mìn\n",
    "\n",
    "Dò Mìn (Minesweeper) là một trò chơi khá nổi tiếng trong hệ điều hành Windows. Luật chơi rất đơn giản: Cho một bản đồ gồm các ô, hãy mở tất cả các ô không chứa mìn. Biết mỗi ô không chứa mìn hiển thị một số nguyên là tổng số mìn trong 8 ô xung quanh nó.  Ô không có số tương ứng với số 0.\n",
    "\n",
    "Bên dưới là ví dụ của một lượt chơi dò mìn:\n",
    "\n",
    "![](./assets/gameplay2.gif)\n",
    "\n",
    "Trong hình minh họa là phiên bản mới được tv trên Microsoft Store. Trò chơi cũng có phiên bản online tại đây: https://minesweeperonline.com/.  \n",
    "\n",
    "Để đảm bảo người chơi không ấn phải mìn trong click đầu tiên, thuật toán chỉ khởi tạo bản đồ trò chơi sau khi người chơi mở ô đầu. Do đó, nếu ta chọn chơi lại một bản đồ đã được khởi tạo, ta sẽ có khả năng ấn phải mìn.\n",
    "\n",
    "![](./assets/mine2.gif)\n",
    "\n",
    "**Yêu cầu**: Cho một bản đồ trò chơi đã được khởi tạo và vị trí click đầu tiên của người dùng. Biết ban đầu mỗi ô đều đóng, hãy mở các ô trong bản đồ theo quy tắc:\n",
    "- Nếu ô được click là ô 0, mở các ô xung quanh cho đến khi gặp ô số > 0\n",
    "- Nếu ô được click là ô số > 0, chỉ mở ô đó\n",
    "- Nếu ô được click là ô mìn, chỉ mở ô đó\n",
    "\n",
    "**Input**: Một bản đồ 9x9 dưới dạng list chứa các list. Mỗi giá trị trong bản đồ tương ứng với số của mỗi ô, riêng ô mìn có giá trị là -1.  \n",
    "**Output**: Một list chứa các list với cùng kích thước như bản đồ, với giá trị True thể hiện ô đóng và giá trị False thể hiện ô đã được mở.  \n",
    "\n",
    "Hàm <code>plot_map()</code> để vẽ bản đồ và bản đồ game đã được cho sẵn bên dưới."
   ]
  },
  {
   "cell_type": "code",
   "execution_count": 1,
   "metadata": {},
   "outputs": [],
   "source": [
    "import matplotlib.pyplot as plt\n",
    "import numpy as np\n",
    "\n",
    "plt.style.use('default')\n",
    "\n",
    "def plot_map(game_map, cover_map):\n",
    "    \n",
    "    # init maps\n",
    "    n = len(game_map)\n",
    "    game_map = np.array(game_map)\n",
    "    mine_map = np.array(game_map).astype(float)\n",
    "    cover_map = np.array(cover_map).astype(float)\n",
    "    \n",
    "    # process maps\n",
    "    game_map[game_map == -1] = 0\n",
    "    mine_map[mine_map != -1] = 0\n",
    "    mine_map[mine_map == -1] = 1\n",
    "    # cover_map[:, :] = False\n",
    "\n",
    "    # show value map & mine map\n",
    "    plt.figure(figsize=(5, 5))\n",
    "    plt.imshow(game_map, cmap='Blues')\n",
    "    plt.imshow(mine_map, cmap='coolwarm', alpha=mine_map)\n",
    "    \n",
    "    # add texts\n",
    "    for i in range(n):\n",
    "        for j in range(n):\n",
    "            if game_map[i, j] != 0 and cover_map[i, j] != 1:\n",
    "                color = {True: 'white', False: 'black'}[game_map[i, j] == 3]\n",
    "                text = plt.text(j, i, game_map[i, j], ha=\"center\", va=\"center\", size=12, color=color)\n",
    "            if mine_map[i, j] == 1 and cover_map[i, j] != 1:\n",
    "                text = plt.text(j, i, '✵', ha=\"center\", va=\"center\", size=15, color='white')\n",
    "    \n",
    "    # overlay cover map on top\n",
    "    plt.imshow(cover_map, cmap='Set2', alpha=cover_map)\n",
    "    \n",
    "    # draw borders\n",
    "    for i in range(n-1):\n",
    "        plt.plot((i+0.5, i+0.5), (-0.5, n-0.5), color='gray')\n",
    "        plt.plot((-0.5, n-0.5), (i+0.5, i+0.5), color='gray')\n",
    "    \n",
    "    plt.xticks([])\n",
    "    plt.yticks([])\n",
    "    plt.show()"
   ]
  },
  {
   "cell_type": "code",
   "execution_count": 3,
   "metadata": {},
   "outputs": [
    {
     "name": "stdout",
     "output_type": "stream",
     "text": [
      "Bản đồ game đã được khởi tạo trước:\n"
     ]
    },
    {
     "data": {
      "image/png": "[encoded data removed]",
      "text/plain": [
       "<Figure size 500x500 with 1 Axes>"
      ]
     },
     "metadata": {},
     "output_type": "display_data"
    }
   ],
   "source": [
    "n = 9\n",
    "game_map = [\n",
    "    [1, 1, 0, 0, 0, 0, 0, 1, 1],\n",
    "    [-1, 1, 0, 0, 1, 1, 2, 2, -1],\n",
    "    [1, 1, 0, 0, 1, -1, 2, -1, 3],\n",
    "    [0, 0, 0, 0, 1, 1, 2, 2, -1],\n",
    "    [1, 1, 0, 0, 0, 1, 1, 3, 2],\n",
    "    [-1, 1, 0, 0, 0, 1, -1, 2, -1],\n",
    "    [1, 1, 0, 1, 1, 2, 1, 2, 1],\n",
    "    [0, 0, 0, 1, -1, 1, 1, 1, 1],\n",
    "    [0, 0, 0, 1, 1, 1, 1, -1, 1]\n",
    "]\n",
    "\n",
    "print('Bản đồ game đã được khởi tạo trước:')\n",
    "cover_map = [[False]*n for _ in range(n)]\n",
    "plot_map(game_map, cover_map)"
   ]
  },
  {
   "cell_type": "code",
   "execution_count": 9,
   "metadata": {},
   "outputs": [
    {
     "name": "stdout",
     "output_type": "stream",
     "text": [
      "Bản đồ hiển thị với người chơi sau khi click vào ô chứa số:\n"
     ]
    },
    {
     "data": {
      "image/png": "[encoded data removed]",
      "text/plain": [
       "<Figure size 500x500 with 1 Axes>"
      ]
     },
     "metadata": {},
     "output_type": "display_data"
    }
   ],
   "source": [
    "print('Bản đồ hiển thị với người chơi sau khi click vào ô chứa số:')\n",
    "cover_map = [[True, True, True, True, True, True, True, True, True], [True, True, True, True, True, True, True, True, True], [True, True, True, True, True, True, True, True, True], [True, True, True, True, True, True, True, True, True], [True, True, True, True, True, True, True, True, True], [True, True, True, True, True, True, True, True, True], [True, True, True, False, True, True, True, True, True], [True, True, True, True, True, True, True, True, True], [True, True, True, True, True, True, True, True, True]]\n",
    "plot_map(game_map, cover_map)"
   ]
  },
  {
   "cell_type": "code",
   "execution_count": 5,
   "metadata": {},
   "outputs": [
    {
     "name": "stdout",
     "output_type": "stream",
     "text": [
      "Bản đồ hiển thị với người chơi sau khi click vào ô chứa mìn:\n"
     ]
    },
    {
     "data": {
      "image/png": "[encoded data removed]",
      "text/plain": [
       "<Figure size 500x500 with 1 Axes>"
      ]
     },
     "metadata": {},
     "output_type": "display_data"
    }
   ],
   "source": [
    "print('Bản đồ hiển thị với người chơi sau khi click vào ô chứa mìn:')\n",
    "cover_map = [[True, True, True, True, True, True, True, True, True], [True, True, True, True, True, True, True, True, True], [True, True, True, True, True, False, True, True, True], [True, True, True, True, True, True, True, True, True], [True, True, True, True, True, True, True, True, True], [True, True, True, True, True, True, True, True, True], [True, True, True, True, True, True, True, True, True], [True, True, True, True, True, True, True, True, True], [True, True, True, True, True, True, True, True, True]]\n",
    "plot_map(game_map, cover_map)"
   ]
  },
  {
   "cell_type": "code",
   "execution_count": 6,
   "metadata": {},
   "outputs": [
    {
     "name": "stdout",
     "output_type": "stream",
     "text": [
      "Bản đồ hiển thị với người chơi sau khi click vào ô 0:\n"
     ]
    },
    {
     "data": {
      "image/png": "[encoded data removed]",
      "text/plain": [
       "<Figure size 500x500 with 1 Axes>"
      ]
     },
     "metadata": {},
     "output_type": "display_data"
    }
   ],
   "source": [
    "print('Bản đồ hiển thị với người chơi sau khi click vào ô 0:')\n",
    "cover_map = [[True, False, False, False, False, False, False, False, True], [True, False, False, False, False, False, False, True, True], [False, False, False, False, False, True, True, True, True], [False, False, False, False, False, True, True, True, True], [False, False, False, False, False, False, True, True, True], [True, False, False, False, False, False, True, True, True], [False, False, False, False, False, True, True, True, True], [False, False, False, False, True, True, True, True, True], [False, False, False, False, True, True, True, True, True]]\n",
    "plot_map(game_map, cover_map)"
   ]
  },
  {
   "cell_type": "markdown",
   "metadata": {},
   "source": [
    "**Nội dung bài làm**:  \n",
    "Hoàn thiện hàm <code>uncover()</code> để trả về <code>cover_map</code> là một list của list với định dạng đã nêu phía trên.  \n",
    "Hàm nhận vào bản đồ trò chơi, <code>row</code> và <code>col</code> là vị trí ô đầu tiên người chơi mở.\n",
    "\n",
    "Học viên có thể viết thêm bất kì hàm nào khác để hỗ trợ."
   ]
  },
  {
   "cell_type": "code",
   "execution_count": 2,
   "metadata": {},
   "outputs": [],
   "source": [
    "def uncover(game_map, row, col):\n",
    "    \n",
    "    # YOUR CODE HERE\n",
    "                \n",
    "    return cover_map"
   ]
  },
  {
   "cell_type": "markdown",
   "metadata": {},
   "source": [
    "Kết quả mong đợi như bên dưới:"
   ]
  },
  {
   "cell_type": "code",
   "execution_count": 16,
   "metadata": {},
   "outputs": [
    {
     "data": {
      "image/png": "[encoded data removed]",
      "text/plain": [
       "<Figure size 500x500 with 1 Axes>"
      ]
     },
     "metadata": {},
     "output_type": "display_data"
    }
   ],
   "source": [
    "cover_map = uncover(game_map, 1, 2)\n",
    "plot_map(game_map, cover_map)"
   ]
  },
  {
   "cell_type": "markdown",
   "metadata": {},
   "source": [
    "=============================================================================="
   ]
  }
 ],
 "metadata": {
  "kernelspec": {
   "display_name": "Python 3",
   "language": "python",
   "name": "python3"
  },
  "language_info": {
   "codemirror_mode": {
    "name": "ipython",
    "version": 3
   },
   "file_extension": ".py",
   "mimetype": "text/x-python",
   "name": "python",
   "nbconvert_exporter": "python",
   "pygments_lexer": "ipython3",
   "version": "3.8.3"
  }
 },
 "nbformat": 4,
 "nbformat_minor": 4
}
