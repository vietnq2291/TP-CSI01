{
 "cells": [
  {
   "cell_type": "markdown",
   "metadata": {},
   "source": [
    "## <center>Computer Science Intensive Course - MindX</center>\n",
    "![](./assets/logo.png)\n",
    "# <center>HOMEWORK 9. STACK VÀ QUEUE</center>"
   ]
  },
  {
   "cell_type": "markdown",
   "metadata": {},
   "source": [
    "## Bài Tập: Tính Toán Trên Chuỗi.\n",
    "\n",
    "**Bài toán**: Cho một chuỗi ký tự bao gồm số nguyên dương và các toán tử hai ngôi <code>+ - * /</code>, hãy tính giá trị của biểu thức trong chuỗi.\n",
    "\n",
    "**Input**: Một biểu thức dưới dạng string, mỗi toán tử và toán hạng cách nhau bằng đúng một dấu cách.  \n",
    "**Output**: Một số thực là giá trị của biểu thức. Test case đảm bảo mọi biểu thức đều hợp lệ và có giá trị là số thực.  \n",
    "**Ví dụ**:\n",
    "- Input: \"2 * 3 - 20 / 5\"\n",
    "- Output: 2.0\n",
    "- Giải thích: <code>2*3 - 20/5 = 6 - 4 = 2</code>\n",
    "\n",
    "**Hướng dẫn**: Nếu không có khác biệt về độ ưu tiên của phép cộng, trừ và nhân, chia, ta có thể thực hiện tính toán tuần tự đơn giản từ trái sang phải. Tuy nhiên, do các phép tính có độ ưu tiên khác nhau, ta có thể thêm các bước xử lý để thực hiện đúng thứ tự:\n",
    "1. Duyệt biểu thức từ trái sang phải.\n",
    "2. Nếu gặp toán tử, thực hiện các toán tử nằm trước mà có độ ưu tiên cao hơn hoặc bằng toán tử đang xét.\n",
    "3. Cuối cùng, thực hiện tính toán trên các toán tử chưa xử lý theo thứ tự từ phải sang trái.\n",
    "\n",
    "Quá trình này sẽ thuận tiện hơn nếu ta tách chuỗi thành mảng các phần tử và lưu danh sách các toán hạng và toán tử đã duyệt.  \n",
    "\n",
    "**Ví dụ**: tính giá trị biểu thức <code>2 * 3 - 20 / 5</code>\n",
    "- Toán tử đầu tiên là <code>*</code>, không có toán tử nào trước nó, ta tạm thời bỏ qua.\n",
    "- Toán tử tiếp theo là <code>-</code>, có toán tử <code>*</code> trước nó với độ ưu tiên cao hơn => thực hiện phép nhân => biểu thức trở thành <code>6 - 20 / 5</code>\n",
    "- Toán tử tiếp theo là <code>/</code>, có toán tử <code>-</code> trước nó nhưng độ ưu tiên thấp hơn => bỏ qua.\n",
    "- Đã duyệt hết biểu thức, thực hiện tính toán theo thứ tự từ phải sang trái:\n",
    "  <code>6 - 20 / 5 = 6 - 4 = 2</code>"
   ]
  },
  {
   "cell_type": "code",
   "execution_count": 1,
   "metadata": {},
   "outputs": [
    {
     "data": {
      "text/plain": [
       "2.0"
      ]
     },
     "execution_count": 1,
     "metadata": {},
     "output_type": "execute_result"
    }
   ],
   "source": [
    "\n",
    "from collections import deque\n",
    "\n",
    "# evaluate an expression\n",
    "def evaluate(expression):\n",
    "    \n",
    "    # Your code here\n",
    "\n",
    "\n",
    "evaluate(\"2 * 3 - 20 / 5\")"
   ]
  },
  {
   "cell_type": "code",
   "execution_count": null,
   "metadata": {},
   "outputs": [],
   "source": []
  }
 ],
 "metadata": {
  "kernelspec": {
   "display_name": "Python 3",
   "language": "python",
   "name": "python3"
  },
  "language_info": {
   "codemirror_mode": {
    "name": "ipython",
    "version": 3
   },
   "file_extension": ".py",
   "mimetype": "text/x-python",
   "name": "python",
   "nbconvert_exporter": "python",
   "pygments_lexer": "ipython3",
   "version": "3.8.3"
  }
 },
 "nbformat": 4,
 "nbformat_minor": 4
}
