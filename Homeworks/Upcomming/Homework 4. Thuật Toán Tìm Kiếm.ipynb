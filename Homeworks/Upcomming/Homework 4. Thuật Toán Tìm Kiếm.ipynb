{
 "cells": [
  {
   "cell_type": "markdown",
   "metadata": {},
   "source": [
    "## <center>Computer Science Intensive Course - MindX</center>\n",
    "![](./assets/logo.png)\n",
    "# <center>HOMEWORK 4. THUẬT TOÁN TÌM KIẾM</center>"
   ]
  },
  {
   "cell_type": "markdown",
   "metadata": {},
   "source": [
    "## Bài Tập: Tìm Hàng\n",
    "\n",
    "Một siêu thị lưu danh sách các mặt hàng dưới dạng *list*, mỗi mặt hàng là một *dictionary* như sau:  \n",
    "&nbsp;&nbsp;&nbsp;{\"id\": 354, \"name\": \"Vinamilk Icecream\", \"price\": 35000}  \n",
    "\n",
    "Cho danh sách mặt hàng đã được sắp xếp theo giá từ lớn đến nhỏ, hãy tìm tất cả mặt hàng có giá tiền *p* được nhập.  \n",
    "\n",
    "**Input**: Danh sách các mặt hàng và giá tiền *p* cần tìm.  \n",
    "**Output**: Danh sách các mặt hàng có giá tiền *p*, hoặc \"Not found\".  \n",
    "**Ví dụ**:  \n",
    "- Input: *sample_input_list*, p = 20000\n",
    "- Output: *sample_output_list*"
   ]
  },
  {
   "cell_type": "code",
   "execution_count": 13,
   "metadata": {},
   "outputs": [],
   "source": [
    "sample_input_list = [\n",
    "    {\"id\": 613, \"name\": \"Television\", \"price\": 12000000},\n",
    "    {\"id\": 982, \"name\": \"Headphone\", \"price\": 1000000},\n",
    "    {\"id\":  24, \"name\": \"Backpack\", \"price\": 250000},\n",
    "    {\"id\": 389, \"name\": \"Vinamilk Icecream\", \"price\": 35000},\n",
    "    {\"id\": 432, \"name\": \"Big Cola\", \"price\": 20000},\n",
    "    {\"id\": 678, \"name\": \"Chocopie\", \"price\": 20000},\n",
    "    {\"id\": 354, \"name\": \"Mint\", \"price\": 15000}\n",
    "]\n",
    "\n",
    "sample_output_list = [\n",
    "    {\"id\": 432, \"name\": \"Big Cola\", \"price\": 20000},\n",
    "    {\"id\": 678, \"name\": \"Chocopie\", \"price\": 20000}\n",
    "]"
   ]
  },
  {
   "cell_type": "code",
   "execution_count": null,
   "metadata": {},
   "outputs": [],
   "source": [
    "def find_items(item_list, price):\n",
    "    \n",
    "    # Your code here\n",
    "        \n",
    "        \n",
    "# call the function\n",
    "price = 20000\n",
    "find_items(sample_input_list, price)"
   ]
  },
  {
   "cell_type": "code",
   "execution_count": null,
   "metadata": {},
   "outputs": [],
   "source": []
  }
 ],
 "metadata": {
  "kernelspec": {
   "display_name": "Python 3",
   "language": "python",
   "name": "python3"
  },
  "language_info": {
   "codemirror_mode": {
    "name": "ipython",
    "version": 3
   },
   "file_extension": ".py",
   "mimetype": "text/x-python",
   "name": "python",
   "nbconvert_exporter": "python",
   "pygments_lexer": "ipython3",
   "version": "3.8.3"
  }
 },
 "nbformat": 4,
 "nbformat_minor": 4
}
