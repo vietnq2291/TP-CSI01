{
 "cells": [
  {
   "cell_type": "markdown",
   "metadata": {},
   "source": [
    "## <center>Computer Science Intensive Course - MindX</center>\n",
    "![](./assets/logo.png)\n",
    "# <center>HOMEWORK 5. THUẬT TOÁN SẮP XẾP (1)</center>"
   ]
  },
  {
   "cell_type": "markdown",
   "metadata": {},
   "source": [
    "## Bài Tập: Danh Sách Từ\n",
    "\n",
    "Cho danh sách 100 từ tiếng Anh thông dụng nhất, mỗi từ cách nhau bằng một dấu cách. Hãy sắp xếp danh sách trên theo quy tắc sau:\n",
    "- Từ có ít chữ cái hơn đứng trước\n",
    "- Nếu hai từ có cùng số chữ cái, từ nào có thứ tự nhỏ hơn trong bảng chữ cái đứng trước (dùng phép so sánh < hoặc > trên *string*)  \n",
    "\n",
    "**Input**: *most_common_100*  \n",
    "**Output**: Một *string* với cùng định dạng, nhưng các từ được sắp xếp theo quy tắc như trên. "
   ]
  },
  {
   "cell_type": "code",
   "execution_count": 1,
   "metadata": {},
   "outputs": [],
   "source": [
    "most_common_100 = \"the of to and a in is it you that he was for on are with as I his they be at one have this from or had by hot but some what there we can out other were all your when up use word how said an each she which do their time if will way about many then them would write like so these her long make thing see him two has look more day could go come did my sound no most number who over know water than call first people may down side been now find\""
   ]
  },
  {
   "cell_type": "code",
   "execution_count": 2,
   "metadata": {},
   "outputs": [
    {
     "data": {
      "text/plain": [
       "'I a an as at be by do go he if in is it my no of on or so to up we all and are but can day did for had has her him his hot how may now one out see she the two use was way who you been call come down each find from have know like long look make many more most over said side some than that them then they this time were what when will with word your about could first other sound their there these thing water which would write number people'"
      ]
     },
     "execution_count": 2,
     "metadata": {},
     "output_type": "execute_result"
    }
   ],
   "source": [
    "\n",
    "def sort_word_list(inp_list):\n",
    "    \n",
    "    # Your code here\n",
    "\n",
    "\n",
    "sort_word_list(most_common_100)"
   ]
  },
  {
   "cell_type": "code",
   "execution_count": null,
   "metadata": {},
   "outputs": [],
   "source": []
  }
 ],
 "metadata": {
  "kernelspec": {
   "display_name": "Python 3",
   "language": "python",
   "name": "python3"
  },
  "language_info": {
   "codemirror_mode": {
    "name": "ipython",
    "version": 3
   },
   "file_extension": ".py",
   "mimetype": "text/x-python",
   "name": "python",
   "nbconvert_exporter": "python",
   "pygments_lexer": "ipython3",
   "version": "3.8.3"
  }
 },
 "nbformat": 4,
 "nbformat_minor": 4
}
