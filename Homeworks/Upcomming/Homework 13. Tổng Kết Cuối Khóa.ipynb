{
 "cells": [
  {
   "cell_type": "markdown",
   "metadata": {},
   "source": [
    "## <center>Computer Science Intensive Course - MindX</center>\n",
    "![](./assets/logo.png)\n",
    "# <center>HOMEWORK 13. TỔNG KẾT CUỐI KHÓA</center>"
   ]
  },
  {
   "cell_type": "markdown",
   "metadata": {},
   "source": [
    "## Bài 1. Danh Sách Sắp Xếp Đoạn K\n",
    "\n",
    "Danh sách sắp xếp đoạn K là một danh sách mà mỗi phần tử cách vị trí của nó trong mảng đã sắp xếp tối đa K đơn vị (mảng sắp xếp tăng dần).  \n",
    "\n",
    "**Ví dụ**: Cho mảng <code>arr = [3, 2, 1, 5, 6, 4]</code>. Ta tìm được mảng đã sắp xếp: <code>sorted_arr = [1, 2, 3, 4, 5, 6]</code>.\n",
    "- Vị trí của phần tử 3 trong *arr* là 0 và trong *sorted_arr* là 2, hay nói cách khác: arr[0] == sorted_arr[2] == 3. Khoảng cách giữa hai vị trí là |2 - 0| = 2.\n",
    "- Tương tự, ta có vị trí của phần tử 6: arr[4] == sorted_arr[5] == 6. Khoảng cách là |4 - 5| = 1.\n",
    "- Tương tự với các phần tử còn lại.\n",
    "\n",
    "Khoảng cách giữa hai vị trí của mỗi phần tử trong mảng trên đều không quá 2, do đó mảng trên là một danh sách sắp xếp đoạn 2.  \n",
    "\n",
    "**Yêu cầu**: Cho một danh sách chứa các số nguyên không trùng nhau và một số nguyên dương K, hãy kiểm tra danh sách đã cho có phải danh sách sắp xếp đoạn K không.\n",
    "\n",
    "**Input**: Một list chứa *0 < n < 10<sup>6</sup>* số nguyên và một số nguyên *0 <= K <= 10^6*.  \n",
    "**Output**: List đã cho có phải danh sách sắp xếp đoạn K hay không.  \n",
    "**Ví dụ**:  \n",
    "Ví dụ 1:\n",
    "- Input: <code>arr = [3, 2, 1, 5, 6, 4]</code>, <code>k = 2</code>\n",
    "- Output: True\n",
    "\n",
    "Ví dụ 2:\n",
    "- Input: <code>arr = [3, 2, 1, 5, 6, 4]</code>, <code>k = 1</code>\n",
    "- Output: False\n",
    "\n",
    "*Chú ý*: Một danh sách sắp xếp đoạn K cũng là danh sách sắp xếp đoạn K+1, K+2,..."
   ]
  },
  {
   "cell_type": "code",
   "execution_count": 2,
   "metadata": {},
   "outputs": [
    {
     "data": {
      "text/plain": [
       "True"
      ]
     },
     "execution_count": 2,
     "metadata": {},
     "output_type": "execute_result"
    }
   ],
   "source": [
    "\n",
    "def is_k_sorted(arr, k):\n",
    "    \n",
    "    # Your code here\n",
    "\n",
    "\n",
    "# drive code\n",
    "is_k_sorted([3, 2, 1, 5, 6, 4], 2)"
   ]
  },
  {
   "cell_type": "markdown",
   "metadata": {},
   "source": [
    "## Bài 2. Hangman\n",
    "\n",
    "Hangman là một trò chơi đoán từ khá phổ biến với luật chơi:\n",
    "- Người quản trò nghĩ một từ, người chơi đoán từng chữ cái một cho đến khi toàn bộ từ được mở.\n",
    "- Mỗi lần người chơi đoán sai, người quản trò vẽ một nét trên Hangman. Người chơi thua khi Hangman được vẽ hoàn chỉnh.\n",
    "\n",
    "Ở Việt Nam, chương trình Chiếc Nón Kì Diệu cũng có quy tắc đoán từ tương tự.  \n",
    "\n",
    "![](./assets/hangman.jpg)\n",
    "\n",
    "**Ví dụ** về một vòng chơi:\n",
    "- Người quản trò ra từ: HANGMAN. Người chơi được biết từ này có 7 chữ cái: <code>_ _ _ _ _ _ _</code>\n",
    "- Người chơi đoán chữ A. Quản trò xác nhận có 2 chữ A: <code>_ A _ _ _ A _</code>\n",
    "- Người chơi đoán chữ E. Quản trò thông báo không có chữ E: <code>_ A _ _ _ A _</code>\n",
    "- Người chơi đoán chữ N. Quản trò xác nhận có 2 chữ N: <code>_ A N _ _ A N</code>\n",
    "- Người chơi tiếp tục đoán cho đến khi tìm được từ hoàn chỉnh hoặc thua khi đoán sai đến lần thứ 5.\n",
    "\n",
    "**Yêu cầu**: Cho độ dài của từ cần đoán khi bắt đầu trò chơi và một từ điển bao gồm tất cả các từ cho phép, hãy tìm chữ cái có khả năng xuất hiện cao nhất.  \n",
    "\n",
    "**Input**: Một số nguyên *0 < n < 12* là độ dài của từ cần đoán và một từ điển dưới dạng list chứa tất cả các từ cho phép dưới dạng viết thường.  \n",
    "**Output**: Một kí tự là chữ cái có khả năng xuất hiện cao nhất. Nếu có nhiều chữ cái có cùng khả năng, trả về chữ cái có thứ tự nhỏ nhất.  \n",
    "**Ví dụ**:  \n",
    "\n",
    "Ví dụ 1:\n",
    "- Input: n = 7, words = ['age', 'animal', 'hangman', 'monitor', 'thursday']\n",
    "- Output: 'm'\n",
    "- Giải thích: Có hai từ có độ dài bằng 7 là 'hangman' và 'monitor'. Ta có hai kí tự 'm' và 'n' đều xuất hiện trong hai từ, do đó ta đoán kí tự đứng trước trong bảng chữ cái là 'm'.\n",
    "\n",
    "Ví dụ 2:\n",
    "- Input: n = 7, words = ['age', 'animal', 'hangman', 'monitor', 'thursday', 'tuesday']\n",
    "- Output: 'a'\n",
    "- Giải thích: Có ba từ có độ dài bằng 7 là 'hangman', 'monitor' và 'tuesday'. Ta có các kí tự ['a', 'm', 'n', 't'] xuất hiện trong 2 trên 3 từ, không có kí tự nào xuất hiện trên cả 3 từ. Do đó ta đoán kí tự đứng đầu là 'a'"
   ]
  },
  {
   "cell_type": "code",
   "execution_count": 3,
   "metadata": {},
   "outputs": [
    {
     "data": {
      "text/plain": [
       "'a'"
      ]
     },
     "execution_count": 3,
     "metadata": {},
     "output_type": "execute_result"
    }
   ],
   "source": [
    "def guess_letter(n, words):\n",
    "    \n",
    "    # Your code here\n",
    "\n",
    "\n",
    "# driver code\n",
    "words = ['age', 'animal', 'hangman', 'monitor', 'thursday', 'tuesday']\n",
    "guess_letter(7, words)"
   ]
  },
  {
   "cell_type": "markdown",
   "metadata": {},
   "source": [
    "## Bài 3. Đường Kính Của Cây\n",
    "\n",
    "Đường kính của một cây là số node nằm trên đường đi dài nhất giữa hai node trong một cây.  \n",
    "\n",
    "**Ví dụ**: Hình bên dưới thể hiện các node nằm ở hai đầu của đường đi dài nhất trên cây.  \n",
    "Một đường đi dài nhất có thể đi qua node gốc hoặc không.\n",
    "\n",
    "![](./assets/diameter-tree.png)\n",
    "\n",
    "**Yêu cầu**: Cho một cây nhị phân, hãy tìm đường kính của cây đó.\n",
    "\n",
    "**Input**: Một cây nhị phân có không quá 1000 node.  \n",
    "**Output**: Một số nguyên là đường kính của cây.  \n",
    "**Ví dụ**:  \n",
    "\n",
    "Ví dụ 1:\n",
    "- Input: <code>root1</code>\n",
    "- Output: 1\n",
    "\n",
    "Ví dụ 2:\n",
    "- Input: <code>root2</code> (ảnh đầu tiên)\n",
    "- Output: 9\n",
    "  \n",
    "*Gợi ý*: Đường kính của một cây nhị phân chính là giá trị lớn nhất trong ba giá trị sau:\n",
    "- Đường kính của cây con bên trái\n",
    "- Đường kính của cây con bên phải\n",
    "- Đoạn đường từ node lá xa nhất của cây con bên trái, đi qua node gốc, đến node lá xa nhất của cây con bên phải."
   ]
  },
  {
   "cell_type": "code",
   "execution_count": 4,
   "metadata": {},
   "outputs": [],
   "source": [
    "class Node:\n",
    "    def __init__(self, data):\n",
    "        self.data = data\n",
    "        self.left = None\n",
    "        self.right = None\n",
    "\n",
    "root1 = Node(0)\n",
    "\n",
    "root2 = Node(0)\n",
    "root2.left, root2.right = Node(1), Node(2)\n",
    "root2.left.left, root2.left.right = Node(3), Node(4)\n",
    "root2.left.right.left, root2.left.right.right = Node(5), Node(6)\n",
    "root2.right.right = Node(7)\n",
    "root2.right.right.right = Node(8)\n",
    "root2.right.right.right.left, root2.right.right.right.right = Node(9), Node(10)\n",
    "root2.right.right.right.left.right = Node(11)"
   ]
  },
  {
   "cell_type": "code",
   "execution_count": 5,
   "metadata": {},
   "outputs": [
    {
     "data": {
      "text/plain": [
       "9"
      ]
     },
     "execution_count": 5,
     "metadata": {},
     "output_type": "execute_result"
    }
   ],
   "source": [
    "\n",
    "def find_diameter(node):\n",
    "    \n",
    "    # Your code here\n",
    "\n",
    "# driver code\n",
    "find_diameter(root2)"
   ]
  }
 ],
 "metadata": {
  "kernelspec": {
   "display_name": "Python 3",
   "language": "python",
   "name": "python3"
  },
  "language_info": {
   "codemirror_mode": {
    "name": "ipython",
    "version": 3
   },
   "file_extension": ".py",
   "mimetype": "text/x-python",
   "name": "python",
   "nbconvert_exporter": "python",
   "pygments_lexer": "ipython3",
   "version": "3.8.3"
  }
 },
 "nbformat": 4,
 "nbformat_minor": 4
}
