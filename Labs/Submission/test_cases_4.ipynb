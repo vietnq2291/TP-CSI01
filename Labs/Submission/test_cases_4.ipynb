{
 "cells": [
  {
   "cell_type": "markdown",
   "metadata": {},
   "source": [
    "## <center>Computer Science Intensive Course - MindX</center>\n",
    "![](./assets/logo.png)\n",
    "# <center>Test Cases 3. THUẬT TOÁN TÌM KIẾM</center>"
   ]
  },
  {
   "cell_type": "code",
   "execution_count": 37,
   "metadata": {},
   "outputs": [],
   "source": [
    "def test(cases, test_func, condition_func):\n",
    "    \n",
    "    n = len(cases)\n",
    "    print(\"Testing on {} cases.\".format(n))\n",
    "    \n",
    "    count = 0\n",
    "    for i, case in enumerate(cases):\n",
    "        try:\n",
    "            passed = condition_func(test_func, case)\n",
    "            if passed:\n",
    "                print(\"- Test {} PASSED.\".format(i+1))\n",
    "                count += 1\n",
    "            else:\n",
    "                print(\"- Test {} FAILED: Wrong Answer.\".format(i+1))\n",
    "        except Exception as ex:\n",
    "            print(\"An exception occured at test {}: {}.\".format(i+1, ex))\n",
    "            \n",
    "    if count == n:\n",
    "        print(\"CONGRATULATIONS! All test cases passed!\")\n",
    "    else:\n",
    "        print(\"Some test failed. Maybe check some code?\")"
   ]
  },
  {
   "cell_type": "markdown",
   "metadata": {},
   "source": [
    "## Bài 1. Đếm Từ"
   ]
  },
  {
   "cell_type": "code",
   "execution_count": 41,
   "metadata": {},
   "outputs": [],
   "source": [
    "def test1(func):\n",
    "    \n",
    "    test_cases = [\n",
    "        {\"inp\": [\"a\", \"b\"], \"out\": 0},\n",
    "        {\"inp\": [\"a\", \"a\"], \"out\": 1},\n",
    "        {\"inp\": [\"abc def\", \"def\"], \"out\": 1},\n",
    "        {\"inp\": [\"aa aa aaa aa\", \"Aa\"], \"out\": 3},\n",
    "        {\"inp\": [\"aa aa aaa aa\", \"aaa\"], \"out\": 1},\n",
    "        {\"inp\": [\"The cat is chasing the rat. The dog is also chasing the rat.\", \"the\"], \"out\": 4},\n",
    "        {\"inp\": [\"The cat is chasing the rat in Netherlands. The dog is also chasing the rat.\", \"the\"], \"out\": 4},\n",
    "        {\"inp\": [\"The cat is chasing the rat in Netherlands. The dog is also chasing the rat. the\", \"the\"], \"out\": 5},\n",
    "        {\"inp\": [\"iiwu oiuewf oiu oief oiu oweu o\", \"oiu\"], \"out\": 2},\n",
    "        {\"inp\": [\"                                        \", \"a\"], \"out\": 0},\n",
    "    ]\n",
    "    \n",
    "    def condition_func(func, case):\n",
    "        return func(case['inp'][0], case['inp'][1]) == case['out']\n",
    "    \n",
    "    test(test_cases, func, condition_func)"
   ]
  },
  {
   "cell_type": "markdown",
   "metadata": {},
   "source": [
    "## Bài 2. Rút Gọn Phân Số"
   ]
  },
  {
   "cell_type": "code",
   "execution_count": null,
   "metadata": {},
   "outputs": [],
   "source": [
    "def test2(func):\n",
    "    \n",
    "    test_cases = [\n",
    "        {\"inp\": [1, 1], \"out\": [1, 1]},\n",
    "        {\"inp\": [1, 2], \"out\": [1, 2]},\n",
    "        {\"inp\": [2, 1], \"out\": [2, 1]},\n",
    "        {\"inp\": [2, 4], \"out\": [1, 2]},\n",
    "        {\"inp\": [6, 20], \"out\": [3, 10]},\n",
    "        {\"inp\": [20, 4], \"out\": [5, 1]},\n",
    "        {\"inp\": [7, 20], \"out\": [7, 20]},\n",
    "        {\"inp\": [187618, 1877268], \"out\": [93809, 938634]},\n",
    "        {\"inp\": [121212122, 187383928], \"out\": [60606061, 93691964]},\n",
    "        {\"inp\": [999999999, 983279828], \"out\": [999999999, 983279828]},\n",
    "    ]\n",
    "    \n",
    "    def condition_func(func, case):\n",
    "        res = func(case['inp'][0], case['inp'][1])\n",
    "        return res[0] == case['out'][0] and res[1] == case['out'][1]\n",
    "    \n",
    "    test(test_cases, func, condition_func)"
   ]
  },
  {
   "cell_type": "markdown",
   "metadata": {},
   "source": [
    "## Bài 3. Fibonacci"
   ]
  },
  {
   "cell_type": "code",
   "execution_count": 46,
   "metadata": {},
   "outputs": [],
   "source": [
    "def test3(func):\n",
    "    \n",
    "    test_cases = [\n",
    "        {\"inp\": 1, \"out\": 1},\n",
    "        {\"inp\": 2, \"out\": 1},\n",
    "        {\"inp\": 3, \"out\": 2},\n",
    "        {\"inp\": 4, \"out\": 3},\n",
    "        {\"inp\": 6, \"out\": 8},\n",
    "        {\"inp\": 11, \"out\": 89},\n",
    "        {\"inp\": 21, \"out\": 10946},\n",
    "        {\"inp\": 51, \"out\": 20365011074},\n",
    "        {\"inp\": 101, \"out\": 573147844013817084101},\n",
    "        {\"inp\": 301, \"out\": 359579325206583560961765665172189099052367214309267232255589801},\n",
    "        {\"inp\": 790, \"out\": 563314324863738664099697417792239520643331149034998398466584664204794481441166294358960115340179044476635428350981139309819214226059344150067839300714177840982498095},\n",
    "        {\"inp\": 999, \"out\": 26863810024485359386146727202142923967616609318986952340123175997617981700247881689338369654483356564191827856161443356312976673642210350324634850410377680367334151172899169723197082763985615764450078474174626}\n",
    "    ]\n",
    "    \n",
    "    def condition_func(func, case):\n",
    "        return func(case['inp']) == case['out']\n",
    "    \n",
    "    test(test_cases, func, condition_func)"
   ]
  },
  {
   "cell_type": "markdown",
   "metadata": {},
   "source": [
    "## Bài 4. Tổng Đường Chéo"
   ]
  },
  {
   "cell_type": "code",
   "execution_count": 5,
   "metadata": {},
   "outputs": [],
   "source": [
    "import numpy as np\n",
    "\n",
    "def test4(func):\n",
    "    \n",
    "    test_cases = [\n",
    "        {\"inp\": [\"a\", \"a\"], \"out\": True},\n",
    "        {\"inp\": [\"a\", \"ab\"], \"out\": False},\n",
    "        {\"inp\": [\"ab\", \"a\"], \"out\": True},\n",
    "        {\"inp\": [\"mnopq\", \"oqp\"], \"out\": True},\n",
    "        {\"inp\": [\"mmnopo\", \"opao\"], \"out\": False},\n",
    "        {\"inp\": [\"mmnopo\", \"opo\"], \"out\": True},\n",
    "        {\"inp\": [\"acbdfe\", \"face\"], \"out\": True},\n",
    "        {\"inp\": [\"aabccdef\", \"faded\"], \"out\": False},\n",
    "        {\"inp\": [\"aabccdefewherwewopewruiwiiufhhqoihefwioihqeohqoheqiohfqeiofhewihew\", \"faweiufhoihoihoihoihohowehoioided\"], \"out\": False},\n",
    "        {\"inp\": [\"aabccdefewherwewopewruiwiiufhhqoihefwlejhohlifqahksabjoqwdihowioihqeohqoheqiohfqeiofhewihew\", \"faweiehoioided\"], \"out\": True},\n",
    "    ]\n",
    "\n",
    "    def condition_func(func, case):\n",
    "        return func(case['inp'][0], case['inp'][1]) == case['out']\n",
    "    \n",
    "    test(test_cases, func, condition_func)"
   ]
  },
  {
   "cell_type": "code",
   "execution_count": null,
   "metadata": {},
   "outputs": [],
   "source": []
  }
 ],
 "metadata": {
  "kernelspec": {
   "display_name": "Python 3",
   "language": "python",
   "name": "python3"
  },
  "language_info": {
   "codemirror_mode": {
    "name": "ipython",
    "version": 3
   },
   "file_extension": ".py",
   "mimetype": "text/x-python",
   "name": "python",
   "nbconvert_exporter": "python",
   "pygments_lexer": "ipython3",
   "version": "3.8.3"
  }
 },
 "nbformat": 4,
 "nbformat_minor": 4
}
