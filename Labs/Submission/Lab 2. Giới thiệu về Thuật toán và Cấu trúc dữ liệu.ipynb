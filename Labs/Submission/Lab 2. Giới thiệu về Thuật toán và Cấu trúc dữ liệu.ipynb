{
 "cells": [
  {
   "cell_type": "markdown",
   "metadata": {},
   "source": [
    "## <center>Computer Science Intensive Course - MindX</center>\n",
    "![](./assets/logo.png)\n",
    "# <center>LAB 2. GIỚI THIỆU VỀ THUẬT TOÁN VÀ CẤU TRÚC DỮ LIỆU</center>"
   ]
  },
  {
   "cell_type": "code",
   "execution_count": 34,
   "metadata": {},
   "outputs": [],
   "source": [
    "# run this cell FIRST\n",
    "%run test_cases_2.ipynb\n"
   ]
  },
  {
   "cell_type": "markdown",
   "metadata": {},
   "source": [
    "## Bài 1. Xâu Đối Xứng\n",
    "Xâu đối xứng là một chuỗi ký tự có dạng đối xứng gương, nửa cuối của xâu bằng nửa đầu của xâu viết theo hướng ngược lại.  \n",
    "**Input**: Một chuỗi ký tự (string) với độ dài tối thiểu 1 và không quá 255 ký tự.  \n",
    "**Output**: Trả về True nếu chuỗi ký tự đối xứng, ngược lại trả về False.  \n",
    "**Ví dụ**:  \n",
    "Ví dụ 1:\n",
    "- Input: string = \"abcba\"\n",
    "- Output: True  \n",
    "\n",
    "Ví dụ 2:\n",
    "- Input: string = \"abccba\"\n",
    "- Output: True.  \n",
    "\n",
    "Ví dụ 3:\n",
    "- Input: string = \"abcabc\"\n",
    "- Output: False.  "
   ]
  },
  {
   "cell_type": "code",
   "execution_count": 35,
   "metadata": {},
   "outputs": [],
   "source": [
    "def is_symmetric(inp):\n",
    "    xau_nguoc = inp[::-1]\n",
    "\n",
    "    if inp == xau_nguoc:\n",
    "        return True\n",
    "    else:\n",
    "        return False\n"
   ]
  },
  {
   "cell_type": "code",
   "execution_count": 36,
   "metadata": {},
   "outputs": [
    {
     "name": "stdout",
     "output_type": "stream",
     "text": [
      "Testing on 9 cases.\n",
      "- Test 1 PASSED.\n",
      "- Test 2 PASSED.\n",
      "- Test 3 PASSED.\n",
      "- Test 4 PASSED.\n",
      "- Test 5 PASSED.\n",
      "- Test 6 PASSED.\n",
      "- Test 7 PASSED.\n",
      "- Test 8 PASSED.\n",
      "- Test 9 PASSED.\n",
      "CONGRATULATIONS! All test cases passed!\n"
     ]
    }
   ],
   "source": [
    "# !!! DO NOT MODIFY THIS CELL\n",
    "# Check result on test cases\n",
    "test1(is_symmetric)"
   ]
  },
  {
   "cell_type": "markdown",
   "metadata": {},
   "source": [
    "## Bài 2. Số Siêu Nguyên Tố\n",
    "Số siêu nguyên tố là một số nguyên tố với tính chất: khi ta xóa một số lượng chữ số tận cùng bất kỳ của nó, ta vẫn được một số nguyên tố.  \n",
    "**Input**: Một số nguyên *0 < n < 10^9*   \n",
    "**Output**: Trả về True nếu số vừa nhập là số siêu nguyên tố, ngược lại trả về False.   \n",
    "**Ví dụ**:  \n",
    "\n",
    "Ví dụ 1:\n",
    "- Input: n = 3739\n",
    "- Output: True\n",
    "- Giải thích: 3739, 373, 37, 3 đều là số nguyên tố\n",
    "\n",
    "Ví dụ 2:\n",
    "- Input: n = 47\n",
    "- Output: False\n",
    "- Giải thích: 47 là số nguyên tố nhưng 4 không phải số nguyên tố"
   ]
  },
  {
   "cell_type": "code",
   "execution_count": 45,
   "metadata": {},
   "outputs": [],
   "source": [
    "import math as m\n",
    "\n",
    "def is_prime(num): \n",
    "    \n",
    "    # trivial case\n",
    "    if num <= 1:\n",
    "        return False\n",
    "    \n",
    "    # common cases\n",
    "    result = True\n",
    "    for i in range(2, int(m.sqrt(num))+1):\n",
    "        if num % i == 0:\n",
    "            result = False\n",
    "            break\n",
    "            \n",
    "    return result\n",
    "\n",
    "def is_super_prime(num):\n",
    "    if is_prime(num) == False: \n",
    "        return False\n",
    "    \n",
    "    if is_prime(num) == True:\n",
    "        \n",
    "        while num > 0:\n",
    "            b = num // 10\n",
    "            if is_prime(b) == False:\n",
    "                return False\n",
    "            return True\n",
    "        \n",
    "\n",
    "        # for digit in a: \n",
    "        #     if not is_prime(int(digit)): \n",
    "        #         return False \n",
    "        # return True \n",
    "        "
   ]
  },
  {
   "cell_type": "code",
   "execution_count": 46,
   "metadata": {},
   "outputs": [
    {
     "name": "stdout",
     "output_type": "stream",
     "text": [
      "Testing on 12 cases.\n",
      "- Test 1 PASSED.\n",
      "- Test 2 FAILED: Wrong Answer.\n",
      "- Test 3 FAILED: Wrong Answer.\n",
      "- Test 4 PASSED.\n",
      "- Test 5 PASSED.\n",
      "- Test 6 PASSED.\n",
      "- Test 7 PASSED.\n",
      "- Test 8 PASSED.\n",
      "- Test 9 PASSED.\n",
      "- Test 10 PASSED.\n",
      "- Test 11 PASSED.\n",
      "- Test 12 PASSED.\n",
      "Some test failed. Maybe check some code?\n"
     ]
    }
   ],
   "source": [
    "# !!! DO NOT MODIFY THIS CELL\n",
    "# Check result on test cases\n",
    "test2(is_super_prime)"
   ]
  },
  {
   "cell_type": "markdown",
   "metadata": {},
   "source": [
    "## Bài 3. Kiểm Tra Tam Giác\n",
    "**Input**: Ba số thực -10^9 < a, b, c < 10^9.  \n",
    "**Output**: Kiểm tra a, b, c có thể là độ dài ba cạnh của tam giác hay không. Nếu có, kiểm tra tam giác được tạo thành là tam giác nhọn (1), vuông (2) hay tù (3). Trả về 0 nếu không thể tạo thành tam giác; trả về 1, 2 hoặc 3 trong các trường hợp tam giác tương ứng.  \n",
    "**Ví dụ**:\n",
    "\n",
    "Ví dụ 1:\n",
    "- Input: a = 1, b = 2, c = 5\n",
    "- Output: 0\n",
    "- Giải thích: Ba đoạn thẳng với độ dài 1, 2, 5 không thể tạo thành một tam giác\n",
    "\n",
    "Ví dụ 2:\n",
    "- Input: a = 4, b = 3, c = 6\n",
    "- Output: 3\n",
    "- Giải thích: Ba đoạn thẳng với độ dài 3, 4, 6 tạo thành một tam giác tù (có góc đối diện cạnh c > 90 độ)"
   ]
  },
  {
   "cell_type": "code",
   "execution_count": 39,
   "metadata": {},
   "outputs": [],
   "source": [
    "def get_triangle_type(a, b, c):\n",
    "    if a + b > c and b + c > a and c + a > b:\n",
    "        if a ** 2 == b ** 2 + c ** 2 or b ** 2 == a ** 2 + c ** 2 or c ** 2 == b ** 2 + a ** 2:\n",
    "            return 2\n",
    "        if a ** 2 > b ** 2 + c ** 2 or b ** 2 > a ** 2 + c ** 2 or c ** 2 > b ** 2 + a ** 2:\n",
    "            return 3\n",
    "        else:\n",
    "            return 1\n",
    "    else:\n",
    "        return 0"
   ]
  },
  {
   "cell_type": "code",
   "execution_count": 40,
   "metadata": {},
   "outputs": [
    {
     "name": "stdout",
     "output_type": "stream",
     "text": [
      "Testing on 13 cases.\n",
      "- Test 1 PASSED.\n",
      "- Test 2 PASSED.\n",
      "- Test 3 PASSED.\n",
      "- Test 4 PASSED.\n",
      "- Test 5 PASSED.\n",
      "- Test 6 PASSED.\n",
      "- Test 7 PASSED.\n",
      "- Test 8 PASSED.\n",
      "- Test 9 PASSED.\n",
      "- Test 10 PASSED.\n",
      "- Test 11 PASSED.\n",
      "- Test 12 PASSED.\n",
      "- Test 13 PASSED.\n",
      "CONGRATULATIONS! All test cases passed!\n"
     ]
    }
   ],
   "source": [
    "# !!! DO NOT MODIFY THIS CELL\n",
    "# Check result on test cases\n",
    "test3(get_triangle_type)"
   ]
  },
  {
   "cell_type": "markdown",
   "metadata": {},
   "source": [
    "## Bài 4. Đèn Tắt Mở\n",
    "Cho một dãy *n* bóng đèn. Mỗi bóng đèn có 2 trạng thái là Tắt hoặc Mở. Có *n* công tắc có thể thay đổi trạng thái của bóng đèn tương ứng (từ Tắt thành Mở và ngược lại). Tìm số lần ấn công tắc ít nhất sao cho tất cả bóng đèn đều ở cùng một trạng thái (cùng tắt hoặc cùng mở).  \n",
    "**Input**: Mảng *0 < n < 10^8* phần tử boolean, với True tương ứng trạng thái mở và False tương đương trạng thái tắt.    \n",
    "**Output**: Một số nguyên duy nhất là số lần ấn công tắc ít nhất để tất cả bóng đèn về cùng một trạng thái.    \n",
    "**Ví dụ**:\n",
    "\n",
    "Ví dụ 1:\n",
    "- Input: n = 3, arr = [True, True, False]\n",
    "- Output: result = 1\n",
    "- Giải thích: Ấn công tắc cuối cùng để tất cả bóng đèn đều mở\n",
    "\n",
    "Ví dụ 2:\n",
    "- Input: n = 4, arr = [True, True, False, False]\n",
    "- Output: result = 2\n",
    "- Giải thích: Ấn hai công tắc đầu tiên hoặc hai công tắc cuối cùng."
   ]
  },
  {
   "cell_type": "code",
   "execution_count": 41,
   "metadata": {},
   "outputs": [],
   "source": [
    "def count_switches(arr):\n",
    "    pass"
   ]
  },
  {
   "cell_type": "code",
   "execution_count": 42,
   "metadata": {},
   "outputs": [
    {
     "name": "stdout",
     "output_type": "stream",
     "text": [
      "Testing on 10 cases.\n",
      "- Test 1 FAILED: Wrong Answer.\n",
      "- Test 2 FAILED: Wrong Answer.\n",
      "- Test 3 FAILED: Wrong Answer.\n",
      "- Test 4 FAILED: Wrong Answer.\n",
      "- Test 5 FAILED: Wrong Answer.\n",
      "- Test 6 FAILED: Wrong Answer.\n",
      "- Test 7 FAILED: Wrong Answer.\n",
      "- Test 8 FAILED: Wrong Answer.\n",
      "- Test 9 FAILED: Wrong Answer.\n",
      "- Test 10 FAILED: Wrong Answer.\n",
      "Some test failed. Maybe check some code?\n"
     ]
    }
   ],
   "source": [
    "# !!! DO NOT MODIFY THIS CELL\n",
    "# Check result on test cases\n",
    "test4(count_switches)"
   ]
  },
  {
   "cell_type": "code",
   "execution_count": null,
   "metadata": {},
   "outputs": [],
   "source": []
  }
 ],
 "metadata": {
  "kernelspec": {
   "display_name": "Python 3",
   "language": "python",
   "name": "python3"
  },
  "language_info": {
   "codemirror_mode": {
    "name": "ipython",
    "version": 3
   },
   "file_extension": ".py",
   "mimetype": "text/x-python",
   "name": "python",
   "nbconvert_exporter": "python",
   "pygments_lexer": "ipython3",
   "version": "3.10.9"
  }
 },
 "nbformat": 4,
 "nbformat_minor": 4
}
