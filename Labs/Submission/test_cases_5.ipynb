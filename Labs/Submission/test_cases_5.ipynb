{
 "cells": [
  {
   "cell_type": "markdown",
   "metadata": {},
   "source": [
    "## <center>Computer Science Intensive Course - MindX</center>\n",
    "![](./assets/logo.png)\n",
    "# <center>Test Cases 5. THUẬT TOÁN SẮP XẾP (1)</center>"
   ]
  },
  {
   "cell_type": "code",
   "execution_count": 37,
   "metadata": {},
   "outputs": [],
   "source": [
    "import numpy as np\n",
    "\n",
    "def test(cases, test_func, condition_func):\n",
    "    \n",
    "    n = len(cases)\n",
    "    print(\"Testing on {} cases.\".format(n))\n",
    "    \n",
    "    count = 0\n",
    "    for i, case in enumerate(cases):\n",
    "        try:\n",
    "            passed = condition_func(test_func, case)\n",
    "            if passed:\n",
    "                print(\"- Test {} PASSED.\".format(i+1))\n",
    "                count += 1\n",
    "            else:\n",
    "                print(\"- Test {} FAILED: Wrong Answer.\".format(i+1))\n",
    "        except Exception as ex:\n",
    "            print(\"An exception occured at test {}: {}.\".format(i+1, ex))\n",
    "            \n",
    "    if count == n:\n",
    "        print(\"CONGRATULATIONS! All test cases passed!\")\n",
    "    else:\n",
    "        print(\"Some test failed. Maybe check some code?\")"
   ]
  },
  {
   "cell_type": "markdown",
   "metadata": {},
   "source": [
    "## Bài 1. Dãy Số Ngược"
   ]
  },
  {
   "cell_type": "code",
   "execution_count": 41,
   "metadata": {},
   "outputs": [],
   "source": [
    "def test1(func):\n",
    "    \n",
    "    test_cases = [1, 2, 3, 5, 10, 100, 1000, 10000, 99999]\n",
    "\n",
    "    def condition_func(func, case):\n",
    "        arr = [x for x in range(case)]\n",
    "        return func(arr)[-1] == 0\n",
    "    \n",
    "    test(test_cases, func, condition_func)"
   ]
  },
  {
   "cell_type": "markdown",
   "metadata": {},
   "source": [
    "## Bài 2. Số Phức"
   ]
  },
  {
   "cell_type": "code",
   "execution_count": null,
   "metadata": {},
   "outputs": [],
   "source": [
    "def test2(func):\n",
    "    \n",
    "    test_cases = [\n",
    "        {\"inp\": 1, \"out\": 21195655.549524397},\n",
    "        {\"inp\": 2, \"out\": -72210567.93221456},\n",
    "        {\"inp\": 3, \"out\": 50585085.24936789},\n",
    "        {\"inp\": 5, \"out\": 92479197.11728635},\n",
    "        {\"inp\": 10, \"out\": -86188744.17311679},\n",
    "        {\"inp\": 100, \"out\": -75232007.89166453},\n",
    "        {\"inp\": 999, \"out\": -97895291.90853655},\n",
    "        {\"inp\": 9999, \"out\": 99702602.30183154}\n",
    "    ]\n",
    "\n",
    "    np.random.seed(2021)\n",
    "    \n",
    "    def condition_func(func, case):\n",
    "        arr = list(zip(np.random.uniform(-99999999, 99999999, case['inp']), np.random.uniform(-99999999, 99999999, case['inp'])))\n",
    "        return func(arr)[-1][0] == case['out']\n",
    "    \n",
    "    test(test_cases, func, condition_func)"
   ]
  },
  {
   "cell_type": "markdown",
   "metadata": {},
   "source": [
    "## Bài 3. Sắp Xếp Hai Tầng"
   ]
  },
  {
   "cell_type": "code",
   "execution_count": 46,
   "metadata": {},
   "outputs": [],
   "source": [
    "def test3(func):\n",
    "    \n",
    "    test_cases = [\n",
    "        {\"inp\": 1, \"out\": 4},\n",
    "        {\"inp\": 2, \"out\": 0},\n",
    "        {\"inp\": 3, \"out\": 6},\n",
    "        {\"inp\": 5, \"out\": 1},\n",
    "        {\"inp\": 10, \"out\": 0},\n",
    "        {\"inp\": 100, \"out\": 0},\n",
    "        {\"inp\": 999, \"out\": 0},\n",
    "        {\"inp\": 9999, \"out\": 0}\n",
    "    ]\n",
    "\n",
    "    np.random.seed(2021)\n",
    "    \n",
    "    def condition_func(func, case):\n",
    "        math_list = np.random.randint(0, 11, case['inp'])\n",
    "        literature_list = np.random.randint(0, 11, case['inp'])\n",
    "        arr = [{'id': i, 'math': math_list[i], 'literature': literature_list[i]} for i in range(case['inp'])]\n",
    "        return func(arr)[-1]['math'] == case['out']\n",
    "    \n",
    "    test(test_cases, func, condition_func)"
   ]
  },
  {
   "cell_type": "markdown",
   "metadata": {},
   "source": [
    "## Bài 4. Nhập Dãy"
   ]
  },
  {
   "cell_type": "code",
   "execution_count": 5,
   "metadata": {},
   "outputs": [],
   "source": [
    "def test4(func):\n",
    "    \n",
    "    test_cases = [\n",
    "        {\"inp\": 1, \"out\": 46673871.771960914},\n",
    "        {\"inp\": 2, \"out\": -74367524.17253262},\n",
    "        {\"inp\": 3, \"out\": -88285742.09953538},\n",
    "        {\"inp\": 5, \"out\": -59629949.83677658},\n",
    "        {\"inp\": 10, \"out\": -74736462.14021558},\n",
    "        {\"inp\": 100, \"out\": 77870212.721185},\n",
    "        {\"inp\": 999, \"out\": -11241357.049406916},\n",
    "        {\"inp\": 9999, \"out\": 3180211.7770153433},\n",
    "        {\"inp\": 99999, \"out\": 55386819.91701034},\n",
    "        {\"inp\": 499999, \"out\": 10668578.656034395 },\n",
    "    ]\n",
    " \n",
    "    np.random.seed(2021)\n",
    "    \n",
    "    def condition_func(func, case):\n",
    "        arr1 = list(np.random.uniform(-99999999, 99999999, case['inp']))\n",
    "        arr2 = list(np.random.uniform(-99999999, 99999999, case['inp']))\n",
    "        return func(arr1, arr2)[-1] == case['out']\n",
    "    \n",
    "    test(test_cases, func, condition_func)"
   ]
  },
  {
   "cell_type": "code",
   "execution_count": null,
   "metadata": {},
   "outputs": [],
   "source": []
  }
 ],
 "metadata": {
  "kernelspec": {
   "display_name": "Python 3",
   "language": "python",
   "name": "python3"
  },
  "language_info": {
   "codemirror_mode": {
    "name": "ipython",
    "version": 3
   },
   "file_extension": ".py",
   "mimetype": "text/x-python",
   "name": "python",
   "nbconvert_exporter": "python",
   "pygments_lexer": "ipython3",
   "version": "3.8.3"
  }
 },
 "nbformat": 4,
 "nbformat_minor": 4
}
