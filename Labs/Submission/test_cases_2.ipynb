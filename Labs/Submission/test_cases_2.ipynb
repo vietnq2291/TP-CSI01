{
 "cells": [
  {
   "cell_type": "markdown",
   "metadata": {},
   "source": [
    "## <center>Computer Science Intensive Course - MindX</center>\n",
    "![](./assets/logo.png)\n",
    "# <center>Test Cases 2. GIỚI THIỆU VỀ THUẬT TOÁN VÀ CẤU TRÚC DỮ LIỆU</center>"
   ]
  },
  {
   "cell_type": "code",
   "execution_count": 37,
   "metadata": {},
   "outputs": [],
   "source": [
    "def test(cases, test_func, condition_func):\n",
    "    \n",
    "    n = len(cases)\n",
    "    print(\"Testing on {} cases.\".format(n))\n",
    "    \n",
    "    count = 0\n",
    "    for i, case in enumerate(cases):\n",
    "        try:\n",
    "            passed = condition_func(test_func, case)\n",
    "            if passed:\n",
    "                print(\"- Test {} PASSED.\".format(i+1))\n",
    "                count += 1\n",
    "            else:\n",
    "                print(\"- Test {} FAILED: Wrong Answer.\".format(i+1))\n",
    "        except Exception as ex:\n",
    "            print(\"An exception occured at test {}: {}.\".format(i+1, ex))\n",
    "            \n",
    "    if count == n:\n",
    "        print(\"CONGRATULATIONS! All test cases passed!\")\n",
    "    else:\n",
    "        print(\"Some test failed. Maybe check some code?\")"
   ]
  },
  {
   "cell_type": "markdown",
   "metadata": {},
   "source": [
    "## Bài 1. Xâu Đối Xứng"
   ]
  },
  {
   "cell_type": "code",
   "execution_count": 41,
   "metadata": {},
   "outputs": [],
   "source": [
    "def test1(func):\n",
    "    \n",
    "    test_cases = [\n",
    "        {\"inp\": \"a\", \"out\": True},\n",
    "        {\"inp\": \"ab\", \"out\": False},\n",
    "        {\"inp\": \"abc\", \"out\": False},\n",
    "        {\"inp\": \"abcb\", \"out\": False},\n",
    "        {\"inp\": \"abcba\", \"out\": True},\n",
    "        {\"inp\": \"1234567890987654321\", \"out\": True},\n",
    "        {\"inp\": \"aaaaaaaaaaaaaaaaaa\", \"out\": True},\n",
    "        {\"inp\": \"wieofoihrgoerjvjlrbl\", \"out\": False},\n",
    "        {\"inp\": \"qwertyuiopasdfghjklzxcvbnm,mnbvcxzlkjhgfdsapoiuytrewq\", \"out\": True},\n",
    "    ]\n",
    "    \n",
    "    def condition_func(func, case):\n",
    "        return func(case['inp']) == case['out']\n",
    "    \n",
    "    test(test_cases, func, condition_func)"
   ]
  },
  {
   "cell_type": "markdown",
   "metadata": {},
   "source": [
    "## Bài 2. Số Siêu Nguyên Tố"
   ]
  },
  {
   "cell_type": "code",
   "execution_count": null,
   "metadata": {},
   "outputs": [],
   "source": [
    "def test2(func):\n",
    "    \n",
    "    test_cases = [\n",
    "        {\"inp\": 1, \"out\": False},\n",
    "        {\"inp\": 2, \"out\": True},\n",
    "        {\"inp\": 3, \"out\": True},\n",
    "        {\"inp\": 4, \"out\": False},\n",
    "        {\"inp\": 47, \"out\": False},\n",
    "        {\"inp\": 2000, \"out\": False},\n",
    "        {\"inp\": 2333, \"out\": True},\n",
    "        {\"inp\": 31193, \"out\": True},\n",
    "        {\"inp\": 31194, \"out\": False},\n",
    "        {\"inp\": 71933, \"out\": True},\n",
    "        {\"inp\": 73939133, \"out\": True},\n",
    "        {\"inp\": 999999999, \"out\": False}\n",
    "    ]\n",
    "    \n",
    "    def condition_func(func, case):\n",
    "        return func(case['inp']) == case['out']\n",
    "    \n",
    "    test(test_cases, func, condition_func)"
   ]
  },
  {
   "cell_type": "markdown",
   "metadata": {},
   "source": [
    "## Bài 3. Kiểm Tra Tam Giác"
   ]
  },
  {
   "cell_type": "code",
   "execution_count": 46,
   "metadata": {},
   "outputs": [],
   "source": [
    "def test3(func):\n",
    "    \n",
    "    test_cases = [\n",
    "        {\"inp\": [-1000000, 1, 2], \"out\": 0},\n",
    "        {\"inp\": [1, 1, 0], \"out\": 0},\n",
    "        {\"inp\": [-9, 0, -2], \"out\": 0},\n",
    "        {\"inp\": [1, 1, 1], \"out\": 1},\n",
    "        {\"inp\": [1, 2, 3], \"out\": 0},\n",
    "        {\"inp\": [1, 2, 2.5], \"out\": 3},\n",
    "        {\"inp\": [3, 4, 5], \"out\": 2},\n",
    "        {\"inp\": [3, 4, 6], \"out\": 3},\n",
    "        {\"inp\": [3, 4, 7], \"out\": 0},\n",
    "        {\"inp\": [10, 15.6, 20.55], \"out\": 3},\n",
    "        {\"inp\": [2.0, 6.0, 5.7], \"out\": 1},\n",
    "        {\"inp\": [12.75, 12.75, 12.75], \"out\": 1},\n",
    "        {\"inp\": [10, 2, 5.5], \"out\": 0},\n",
    "    ]\n",
    "    \n",
    "    def condition_func(func, case):\n",
    "        return func(case['inp'][0], case['inp'][1], case['inp'][2]) == case['out']\n",
    "    \n",
    "    test(test_cases, func, condition_func)"
   ]
  },
  {
   "cell_type": "markdown",
   "metadata": {},
   "source": [
    "## Bài 4. Đèn Tắt Mở"
   ]
  },
  {
   "cell_type": "code",
   "execution_count": 5,
   "metadata": {},
   "outputs": [],
   "source": [
    "import numpy as np\n",
    "\n",
    "def test4(func):\n",
    "    \n",
    "    test_cases = [1, 2, 3, 5, 10, 100, 1000, 10000, 1000000, 100000000]\n",
    "    np.random.seed(2021)\n",
    "    \n",
    "    def condition_func(func, case):\n",
    "        arr = np.random.choice(a=[False, True], size=(case,)).tolist()\n",
    "        true_count = sum(arr)\n",
    "        false_count = case - true_count\n",
    "        return func(arr) == min(true_count, false_count)\n",
    "    \n",
    "    test(test_cases, func, condition_func)"
   ]
  }
 ],
 "metadata": {
  "kernelspec": {
   "display_name": "Python 3",
   "language": "python",
   "name": "python3"
  },
  "language_info": {
   "codemirror_mode": {
    "name": "ipython",
    "version": 3
   },
   "file_extension": ".py",
   "mimetype": "text/x-python",
   "name": "python",
   "nbconvert_exporter": "python",
   "pygments_lexer": "ipython3",
   "version": "3.8.3"
  }
 },
 "nbformat": 4,
 "nbformat_minor": 4
}
