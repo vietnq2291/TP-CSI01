{
 "cells": [
  {
   "cell_type": "markdown",
   "metadata": {},
   "source": [
    "## <center>Computer Science Intensive Course - MindX</center>\n",
    "![](./assets/logo.png)\n",
    "# <center>LAB 5. THUẬT TOÁN SẮP XẾP (1)</center>"
   ]
  },
  {
   "cell_type": "code",
   "execution_count": null,
   "metadata": {},
   "outputs": [],
   "source": [
    "# run this cell FIRST\n",
    "%run test_cases_5.ipynb"
   ]
  },
  {
   "cell_type": "markdown",
   "metadata": {},
   "source": [
    "## Bài 1. Dãy Số Ngược\n",
    "\n",
    "**Input**: Một dãy *0 < n < 10<sup>6</sup>* số thực đã được sắp xếp theo thứ tự giảm dần. Mỗi phần tử có giá trị trong khoảng [-10<sup>9</sup>, 10<sup>9</sup>].  \n",
    "**Output**: Dãy đã được sắp xếp theo thứ tự tăng dần.  \n",
    "**Ví dụ**:\n",
    "- Input: [90.12, 50.2, 20.0, 3.14159, 0.0, -12.2, -12.2, -1000.0, -99999999.0]\n",
    "- Output: [-99999999.0, -1000.0, -12.2, -12.2, 0.0, 3.14159, 20.0, 50.2, 90.12]"
   ]
  },
  {
   "cell_type": "code",
   "execution_count": null,
   "metadata": {},
   "outputs": [],
   "source": [
    "def sort_descending_list(inp_list):  \n",
    "    pass"
   ]
  },
  {
   "cell_type": "code",
   "execution_count": null,
   "metadata": {},
   "outputs": [],
   "source": [
    "# !!! DO NOT MODIFY THIS CELL\n",
    "# Check result on test cases\n",
    "test1(sort_descending_list)"
   ]
  },
  {
   "cell_type": "markdown",
   "metadata": {},
   "source": [
    "## Bài 2. Số Phức\n",
    "\n",
    "Một số phức có dạng:\n",
    "\\begin{equation} z = a + bi \\end{equation}\n",
    "với a, b là số thực từ âm vô cùng đến dương vô cùng  \n",
    "**Ví dụ**: z = 3.5 + 1.3i\n",
    "\n",
    "Modulo của một số phức là giá trị được tính bằng công thức:\n",
    "\\begin{equation} |z| = \\sqrt{a^2 + b^2} \\end{equation}\n",
    "\n",
    "Cho danh sách *n* số phức, hãy sắp xếp danh sách theo thứ tự tăng dần của modulo.\n",
    "\n",
    "**Input**: Một *list* gồm *0 < n < 10<sup>4</sup>* số phức, mỗi số được lưu dưới dạng tuple *(a, b)*, với *-10<sup>9</sup> < a, b < 10<sup>9</sup>*.  \n",
    "**Output**: List các số phức sau khi đã sắp xếp theo thứ tự tăng dần của modulo.  \n",
    "**Ví dụ**:\n",
    "- Input: [(32.4, -30.0), (2.57, -2.3), (-111.0, 20.2), (34.5, 20.0), (8.97, -13.2), (6.67, 12.2), (9.09, 12.0)]\n",
    "- Output: [(2.57, -2.3), (6.67, 12.2), (9.09, 12.0), (8.97, -13.2), (34.5, 20.0), (32.4, -30.0), (-111.0, 20.2)]\n",
    "- Giải thích: Ở phần tử thứ nhất của input, modulo được tính bằng\n",
    "\\begin{equation} |z| = \\sqrt{32.4^2 + (-30.0)^2} = 44.15608678313784 \\end{equation}\n",
    "Tương tự, ta tính modulo của các phần tử còn lại và sắp xếp dãy dựa theo modulo.  \n",
    "\n",
    "**Gợi ý**: Sử dụng hàm *math.sqrt()* để tính căn bậc 2"
   ]
  },
  {
   "cell_type": "code",
   "execution_count": null,
   "metadata": {},
   "outputs": [],
   "source": [
    "def sort_complex_list(arr):\n",
    "    pass"
   ]
  },
  {
   "cell_type": "code",
   "execution_count": null,
   "metadata": {},
   "outputs": [],
   "source": [
    "# !!! DO NOT MODIFY THIS CELL\n",
    "# Check result on test cases\n",
    "test2(sort_complex_list)"
   ]
  },
  {
   "cell_type": "markdown",
   "metadata": {},
   "source": [
    "## Bài 3. Sắp Xếp Hai Tầng\n",
    "\n",
    "Một báo cáo điểm cuối năm của một trường THPT cho từng học sinh có dạng:\n",
    "{'id': 984, 'math': 9.0, 'literature': 5.4}\n",
    "\n",
    "Cho danh sách điểm cuối năm, hãy sắp xếp danh sách theo quy tắc sau:\n",
    "- Học sinh có điểm toán cao hơn đứng trước\n",
    "- Nếu hai học sinh có cùng điểm toán, học sinh có điểm ngữ văn cao hơn đứng trước\n",
    "- Nếu có cùng điểm ngữ văn, học sinh nào đứng trước trong danh sách gốc đứng trước\n",
    "\n",
    "**Input**: Một *list* gồm *0 < n < 10<sup>4</sup>* báo cáo điểm của học sinh.  \n",
    "**Output**: List các báo cáo điểm sau khi đã sắp xếp.  \n",
    "**Ví dụ**:\n",
    "- Input: [{'id': 984, 'math': 9.0, 'literature': 5.4}, {'id': 12, 'math': 9.5, 'literature': 4.3}, {'id': 324, 'math': 9.0, 'literature': 5.4}]\n",
    "- Output: [{'id': 12, 'math': 9.5, 'literature': 4.3}, {'id': 984, 'math': 9.0, 'literature': 5.4}, {'id': 324, 'math': 9.0, 'literature': 5.4}]"
   ]
  },
  {
   "cell_type": "code",
   "execution_count": null,
   "metadata": {},
   "outputs": [],
   "source": [
    "def sort_student_grades(grade_list):\n",
    "    pass"
   ]
  },
  {
   "cell_type": "code",
   "execution_count": null,
   "metadata": {},
   "outputs": [],
   "source": [
    "# !!! DO NOT MODIFY THIS CELL\n",
    "# Check result on test cases\n",
    "test3(sort_student_grades)"
   ]
  },
  {
   "cell_type": "markdown",
   "metadata": {},
   "source": [
    "## Bài 4. Nhập Dãy\n",
    " \n",
    "**Input**: Hai dãy *0 < n1, n2 < 10<sup>6</sup>* số thực đã được sắp xếp theo thứ tự tăng dần. Mỗi phần tử có giá trị trong khoảng [-10<sup>9</sup>, 10<sup>9</sup>]. Hãy nhập hai dãy số này thành một dãy được sắp xếp theo thứ tự tăng dần. (Biết *n1 + n2 < 10<sup>6</sup>*)   \n",
    "**Output**: Dãy đã nhập được sắp xếp theo thứ tự tăng dần.  \n",
    "**Ví dụ**:\n",
    "- Input: arr1 = [-99999999.0, -12.2, 0.0, 20.0, 50.2, 90.12], arr2 = [-1000.0, -12.2, 3.14159]\n",
    "- Output: [-99999999.0, -1000.0, -12.2, -12.2, 0.0, 3.14159, 20.0, 50.2, 90.12]"
   ]
  },
  {
   "cell_type": "code",
   "execution_count": null,
   "metadata": {},
   "outputs": [],
   "source": [
    "def merge_lists(arr1, arr2):\n",
    "    pass"
   ]
  },
  {
   "cell_type": "code",
   "execution_count": null,
   "metadata": {},
   "outputs": [],
   "source": [
    "# !!! DO NOT MODIFY THIS CELL\n",
    "# Check result on test cases\n",
    "test4(merge_lists)"
   ]
  },
  {
   "cell_type": "code",
   "execution_count": null,
   "metadata": {},
   "outputs": [],
   "source": []
  }
 ],
 "metadata": {
  "kernelspec": {
   "display_name": "Python 3.10.4 64-bit",
   "language": "python",
   "name": "python3"
  },
  "language_info": {
   "codemirror_mode": {
    "name": "ipython",
    "version": 3
   },
   "file_extension": ".py",
   "mimetype": "text/x-python",
   "name": "python",
   "nbconvert_exporter": "python",
   "pygments_lexer": "ipython3",
   "version": "3.10.4"
  },
  "vscode": {
   "interpreter": {
    "hash": "916dbcbb3f70747c44a77c7bcd40155683ae19c65e1c03b4aa3499c5328201f1"
   }
  }
 },
 "nbformat": 4,
 "nbformat_minor": 4
}
