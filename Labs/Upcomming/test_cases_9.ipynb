{
 "cells": [
  {
   "cell_type": "markdown",
   "metadata": {},
   "source": [
    "## <center>Computer Science Intensive Course - MindX</center>\n",
    "![](./assets/logo.png)\n",
    "# <center>Test Cases 9. STACK VÀ QUEUE</center>"
   ]
  },
  {
   "cell_type": "code",
   "execution_count": 37,
   "metadata": {},
   "outputs": [],
   "source": [
    "import numpy as np\n",
    "\n",
    "def test(cases, test_func, condition_func):\n",
    "    \n",
    "    n = len(cases)\n",
    "    print(\"Testing on {} cases.\".format(n))\n",
    "    \n",
    "    count = 0\n",
    "    for i, case in enumerate(cases):\n",
    "        try:\n",
    "            passed = condition_func(test_func, case)\n",
    "            if passed:\n",
    "                print(\"- Test {} PASSED.\".format(i+1))\n",
    "                count += 1\n",
    "            else:\n",
    "                print(\"- Test {} FAILED: Wrong Answer.\".format(i+1))\n",
    "        except Exception as ex:\n",
    "            print(\"An exception occured at test {}: {}.\".format(i+1, ex))\n",
    "            \n",
    "    if count == n:\n",
    "        print(\"CONGRATULATIONS! All test cases passed!\")\n",
    "    else:\n",
    "        print(\"Some test failed. Maybe check some code?\")"
   ]
  },
  {
   "cell_type": "markdown",
   "metadata": {},
   "source": [
    "## Bài 1. Dãy Con Chẵn"
   ]
  },
  {
   "cell_type": "code",
   "execution_count": 41,
   "metadata": {},
   "outputs": [],
   "source": [
    "def test1(func):\n",
    "    \n",
    "    test_cases = [\n",
    "        {\"inp\": 1, \"out\": 1},\n",
    "        {\"inp\": 2, \"out\": 0},\n",
    "        {\"inp\": 3, \"out\": 3},\n",
    "        {\"inp\": 5, \"out\": 3},\n",
    "        {\"inp\": 10, \"out\": 0},\n",
    "        {\"inp\": 100, \"out\": 0},\n",
    "        {\"inp\": 999, \"out\": 5},\n",
    "        {\"inp\": 9999, \"out\": 133},\n",
    "        {\"inp\": 99999, \"out\": 153},\n",
    "        {\"inp\": 999999, \"out\": 1035},\n",
    "    ]\n",
    " \n",
    "    np.random.seed(2021)\n",
    "    \n",
    "    def condition_func(func, case):\n",
    "        arr = ''.join(np.random.randint(0, 2, case['inp']).astype('str'))\n",
    "        return len(func(arr)) == case['out']\n",
    "    \n",
    "    test(test_cases, func, condition_func)"
   ]
  },
  {
   "cell_type": "markdown",
   "metadata": {},
   "source": [
    "## Bài 2. Dãy Ngoặc Đúng (2)"
   ]
  },
  {
   "cell_type": "code",
   "execution_count": null,
   "metadata": {},
   "outputs": [],
   "source": [
    "def test2(func):\n",
    "    \n",
    "    test_cases = [\n",
    "        {\"inp\": \"()\", \"out\": True},\n",
    "        {\"inp\": \")(\", \"out\": False},\n",
    "        {\"inp\": \"(\", \"out\": False},\n",
    "        {\"inp\": \"(()[])\", \"out\": True},\n",
    "        {\"inp\": \"()()()()[]{}()\", \"out\": True},\n",
    "        {\"inp\": \"{{}()}{[]()}\", \"out\": True},\n",
    "        {\"inp\": \"{}{}{}{}{}{}{}[\", \"out\": False},\n",
    "        {\"inp\": \"{{}()}{]()}\", \"out\": False},\n",
    "        {\"inp\": \"([{}])({})\", \"out\": True},\n",
    "        {\"inp\": \"([{}]({})\", \"out\": False},\n",
    "    ]\n",
    " \n",
    "    def condition_func(func, case):\n",
    "        return func(case['inp']) == case['out']\n",
    "    \n",
    "    test(test_cases, func, condition_func)"
   ]
  },
  {
   "cell_type": "markdown",
   "metadata": {},
   "source": [
    "## Bài 3. Postfix"
   ]
  },
  {
   "cell_type": "code",
   "execution_count": 2,
   "metadata": {},
   "outputs": [],
   "source": [
    "def test3(func):\n",
    "    \n",
    "    test_cases = [\n",
    "        {\"inp\": \"1 1 +\", \"out\": 2},\n",
    "        {\"inp\": \"2 3 /\", \"out\": 2/3},\n",
    "        {\"inp\": \"2 3 4 * -\", \"out\": -10},\n",
    "        {\"inp\": \"2 3 4 - *\", \"out\": -2},\n",
    "        {\"inp\": \"5 2 ^ 5 2 * / 2 +\", \"out\": 4.5},\n",
    "        {\"inp\": \"2 3 * 7 2 / +\", \"out\": 9.5},\n",
    "        {\"inp\": \"2 3 - 4 + 5 6 * -\", \"out\": -27},\n",
    "        {\"inp\": \"2 3 - 4 + 5 6 7 * + *\", \"out\": 141}\n",
    "    ]\n",
    "\n",
    "    def condition_func(func, case):\n",
    "        return func(case['inp']) == case['out']\n",
    "    \n",
    "    test(test_cases, func, condition_func)"
   ]
  },
  {
   "cell_type": "markdown",
   "metadata": {},
   "source": [
    "## Bài 4. Chuyển Đổi Infix Và Postfix"
   ]
  },
  {
   "cell_type": "code",
   "execution_count": null,
   "metadata": {},
   "outputs": [],
   "source": [
    "def test4(func):\n",
    "    \n",
    "    test_cases = [\n",
    "        {\"inp\": \"1 + 1\", \"out\": 2},\n",
    "        {\"inp\": \"2 / 3\", \"out\": 2/3},\n",
    "        {\"inp\": \"2 * 3 - 4\", \"out\": 2},\n",
    "        {\"inp\": \"2 * ( 3 - 4 )\", \"out\": -2},\n",
    "        {\"inp\": \"( 5 ^ 2 ) / ( 5 * 2 ) + 2\", \"out\": 4.5},\n",
    "        {\"inp\": \"2 * 3 + 7 / 2\", \"out\": 9.5},\n",
    "        {\"inp\": \"2 - 3 + 4 - 5 * 6\", \"out\": -27},\n",
    "        {\"inp\": \"2 - 3 + 4 * ( 5 + 6 ) * 7\", \"out\": 307}\n",
    "    ]\n",
    "\n",
    "    def condition_func(func, case):\n",
    "        return func(case['inp'])[1] == case['out']\n",
    "    \n",
    "    test(test_cases, func, condition_func)"
   ]
  }
 ],
 "metadata": {
  "kernelspec": {
   "display_name": "Python 3",
   "language": "python",
   "name": "python3"
  },
  "language_info": {
   "codemirror_mode": {
    "name": "ipython",
    "version": 3
   },
   "file_extension": ".py",
   "mimetype": "text/x-python",
   "name": "python",
   "nbconvert_exporter": "python",
   "pygments_lexer": "ipython3",
   "version": "3.8.3"
  }
 },
 "nbformat": 4,
 "nbformat_minor": 4
}
