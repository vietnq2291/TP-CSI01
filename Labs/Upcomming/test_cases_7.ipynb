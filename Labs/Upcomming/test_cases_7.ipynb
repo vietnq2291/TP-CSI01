{
 "cells": [
  {
   "cell_type": "markdown",
   "metadata": {},
   "source": [
    "## <center>Computer Science Intensive Course - MindX</center>\n",
    "![](./assets/logo.png)\n",
    "# <center>Test Cases 7. THUẬT TOÁN SẮP XẾP (3)</center>"
   ]
  },
  {
   "cell_type": "code",
   "execution_count": 37,
   "metadata": {},
   "outputs": [],
   "source": [
    "import numpy as np\n",
    "\n",
    "def test(cases, test_func, condition_func):\n",
    "    \n",
    "    n = len(cases)\n",
    "    print(\"Testing on {} cases.\".format(n))\n",
    "    \n",
    "    count = 0\n",
    "    for i, case in enumerate(cases):\n",
    "        try:\n",
    "            passed = condition_func(test_func, case)\n",
    "            if passed:\n",
    "                print(\"- Test {} PASSED.\".format(i+1))\n",
    "                count += 1\n",
    "            else:\n",
    "                print(\"- Test {} FAILED: Wrong Answer.\".format(i+1))\n",
    "        except Exception as ex:\n",
    "            print(\"An exception occured at test {}: {}.\".format(i+1, ex))\n",
    "            \n",
    "    if count == n:\n",
    "        print(\"CONGRATULATIONS! All test cases passed!\")\n",
    "    else:\n",
    "        print(\"Some test failed. Maybe check some code?\")"
   ]
  },
  {
   "cell_type": "markdown",
   "metadata": {},
   "source": [
    "## Bài 1. Rating"
   ]
  },
  {
   "cell_type": "code",
   "execution_count": 41,
   "metadata": {},
   "outputs": [],
   "source": [
    "def test1(func):\n",
    "    \n",
    "    test_cases = [\n",
    "        {\"inp\": 1, \"out\": '0'},\n",
    "        {\"inp\": 2, \"out\": '0'},\n",
    "        {\"inp\": 3, \"out\": '0'},\n",
    "        {\"inp\": 5, \"out\": '4'},\n",
    "        {\"inp\": 10, \"out\": '8'},\n",
    "        {\"inp\": 100, \"out\": '99'},\n",
    "        {\"inp\": 999, \"out\": '998'},\n",
    "        {\"inp\": 9999, \"out\": '9996'},\n",
    "        {\"inp\": 99999, \"out\": '99980'},\n",
    "        {\"inp\": 999999, \"out\": '999996'},\n",
    "    ]\n",
    " \n",
    "    np.random.seed(2021)\n",
    "    \n",
    "    def condition_func(func, case):\n",
    "        ratings = np.random.randint(0, 11, case['inp'])\n",
    "        arr = [(str(i), ratings[i]/2) for i in range(case['inp'])]\n",
    "        return func(arr)[-1][0] == case['out']\n",
    "    \n",
    "    test(test_cases, func, condition_func)"
   ]
  },
  {
   "cell_type": "markdown",
   "metadata": {},
   "source": [
    "## Bài 2. Phần Tử Lớn Thứ Ba"
   ]
  },
  {
   "cell_type": "code",
   "execution_count": null,
   "metadata": {},
   "outputs": [],
   "source": [
    "def test2(func):\n",
    "    \n",
    "    test_cases = [\n",
    "        {\"inp\": 1, \"out\": 0},\n",
    "        {\"inp\": 2, \"out\": 0},\n",
    "        {\"inp\": 3, \"out\": 1},\n",
    "        {\"inp\": 5, \"out\": 1},\n",
    "        {\"inp\": 10, \"out\": 1},\n",
    "        {\"inp\": 100, \"out\": 1},\n",
    "        {\"inp\": 999, \"out\": 1},\n",
    "        {\"inp\": 9999, \"out\": 1},\n",
    "        {\"inp\": 99999, \"out\": 5},\n",
    "        {\"inp\": 999999, \"out\": 58},\n",
    "    ]\n",
    " \n",
    "    np.random.seed(2021)\n",
    "    \n",
    "    def condition_func(func, case):\n",
    "        arr = list(np.random.randint(-9999, 9999, case['inp']))\n",
    "        return func(arr) == case['out']\n",
    "    \n",
    "    test(test_cases, func, condition_func)"
   ]
  },
  {
   "cell_type": "markdown",
   "metadata": {},
   "source": [
    "## Bài 3. Hàm sorted(): So Sánh Trên Key"
   ]
  },
  {
   "cell_type": "code",
   "execution_count": 1,
   "metadata": {},
   "outputs": [],
   "source": [
    "def test3(func):\n",
    "    \n",
    "    test_cases = [\n",
    "        {\"inp\": 1, \"out\": 4},\n",
    "        {\"inp\": 2, \"out\": 0},\n",
    "        {\"inp\": 3, \"out\": 6},\n",
    "        {\"inp\": 5, \"out\": 1},\n",
    "        {\"inp\": 10, \"out\": 0},\n",
    "        {\"inp\": 100, \"out\": 0},\n",
    "        {\"inp\": 999, \"out\": 0},\n",
    "        {\"inp\": 9999, \"out\": 0}\n",
    "    ]\n",
    "\n",
    "    np.random.seed(2021)\n",
    "    \n",
    "    def condition_func(func, case):\n",
    "        math_list = np.random.randint(0, 11, case['inp'])\n",
    "        literature_list = np.random.randint(0, 11, case['inp'])\n",
    "        arr = [{'id': i, 'math': math_list[i], 'literature': literature_list[i]} for i in range(case['inp'])]\n",
    "        return func(arr)[-1]['math'] == case['out']\n",
    "    \n",
    "    test(test_cases, func, condition_func)"
   ]
  },
  {
   "cell_type": "markdown",
   "metadata": {},
   "source": [
    "## Bài 4. Hàm sorted(): So Sánh Trên Nhiều Key"
   ]
  },
  {
   "cell_type": "code",
   "execution_count": null,
   "metadata": {},
   "outputs": [],
   "source": [
    "def test4(func):\n",
    "    \n",
    "    test_cases = [\n",
    "        {\"inp\": 1, \"out\": 5},\n",
    "        {\"inp\": 2, \"out\": 5},\n",
    "        {\"inp\": 3, \"out\": 1},\n",
    "        {\"inp\": 5, \"out\": 0},\n",
    "        {\"inp\": 10, \"out\": 5},\n",
    "        {\"inp\": 100, \"out\": 1},\n",
    "        {\"inp\": 999, \"out\": 0},\n",
    "        {\"inp\": 9999, \"out\": 0}\n",
    "    ]\n",
    "\n",
    "    np.random.seed(2021)\n",
    "    \n",
    "    def condition_func(func, case):\n",
    "        math_list = np.random.randint(0, 11, case['inp'])\n",
    "        literature_list = np.random.randint(0, 11, case['inp'])\n",
    "        arr = [{'id': i, 'math': math_list[i], 'literature': literature_list[i]} for i in range(case['inp'])]\n",
    "        return func(arr)[-1]['literature'] == case['out']\n",
    "    \n",
    "    test(test_cases, func, condition_func)"
   ]
  }
 ],
 "metadata": {
  "kernelspec": {
   "display_name": "Python 3",
   "language": "python",
   "name": "python3"
  },
  "language_info": {
   "codemirror_mode": {
    "name": "ipython",
    "version": 3
   },
   "file_extension": ".py",
   "mimetype": "text/x-python",
   "name": "python",
   "nbconvert_exporter": "python",
   "pygments_lexer": "ipython3",
   "version": "3.8.3"
  }
 },
 "nbformat": 4,
 "nbformat_minor": 4
}
