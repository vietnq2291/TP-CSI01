{
 "cells": [
  {
   "cell_type": "markdown",
   "metadata": {},
   "source": [
    "## <center>Computer Science Intensive Course - MindX</center>\n",
    "![](./assets/logo.png)\n",
    "# <center>Test Cases 3. CÁC CẤU TRÚC DỮ LIỆU TRONG PYTHON</center>"
   ]
  },
  {
   "cell_type": "code",
   "execution_count": 37,
   "metadata": {},
   "outputs": [],
   "source": [
    "def test(cases, test_func, condition_func):\n",
    "    \n",
    "    n = len(cases)\n",
    "    print(\"Testing on {} cases.\".format(n))\n",
    "    \n",
    "    count = 0\n",
    "    for i, case in enumerate(cases):\n",
    "        try:\n",
    "            passed = condition_func(test_func, case)\n",
    "            if passed:\n",
    "                print(\"- Test {} PASSED.\".format(i+1))\n",
    "                count += 1\n",
    "            else:\n",
    "                print(\"- Test {} FAILED: Wrong Answer.\".format(i+1))\n",
    "        except Exception as ex:\n",
    "            print(\"An exception occured at test {}: {}.\".format(i+1, ex))\n",
    "            \n",
    "    if count == n:\n",
    "        print(\"CONGRATULATIONS! All test cases passed!\")\n",
    "    else:\n",
    "        print(\"Some test failed. Maybe check some code?\")"
   ]
  },
  {
   "cell_type": "markdown",
   "metadata": {},
   "source": [
    "## Bài 1. Lọc Từ"
   ]
  },
  {
   "cell_type": "code",
   "execution_count": 41,
   "metadata": {},
   "outputs": [],
   "source": [
    "def test1(func):\n",
    "    \n",
    "    test_cases = [\n",
    "        {\"inp\": \"\", \"out\": []},\n",
    "        {\"inp\": \"aa\", \"out\": [\"aa\"]},\n",
    "        {\"inp\": \"abc def\", \"out\": [\"abc\", \"def\"]},\n",
    "        {\"inp\": \"aa aa aaa aa\", \"out\": [\"aa\", \"aaa\"]},\n",
    "        {\"inp\": \"aa aa aaa aaa\", \"out\": [\"aa\", \"aaa\"]},\n",
    "        {\"inp\": \"The cat is chasing the rat. The dog is also chasing the rat.\", \"out\": ['also', 'cat', 'chasing', 'dog', 'is', 'rat', 'the']},\n",
    "        {\"inp\": \"iiwu oiuewf oiu oief oiu oweu o\", \"out\": [\"iiwu\", \"o\", \"oief\", \"oiu\", \"oiuewf\", \"oweu\"]},\n",
    "        {\"inp\": \"                                        \", \"out\": []},\n",
    "        {\"inp\": \"  ww ff   \", \"out\": ['ff', 'ww']}\n",
    "    ]\n",
    "    \n",
    "    def condition_func(func, case):\n",
    "        return func(case['inp']) == case['out']\n",
    "    \n",
    "    test(test_cases, func, condition_func)"
   ]
  },
  {
   "cell_type": "markdown",
   "metadata": {},
   "source": [
    "## Bài 2. Cắt Chữ"
   ]
  },
  {
   "cell_type": "code",
   "execution_count": null,
   "metadata": {},
   "outputs": [],
   "source": [
    "def test2(func):\n",
    "    \n",
    "    test_cases = [\n",
    "        {\"inp\": [\"a\", 100], \"out\": \"a\"},\n",
    "        {\"inp\": [\"a\", 1], \"out\": \"a\"},\n",
    "        {\"inp\": [\"a b c d e\", 1], \"out\": \"e\"},\n",
    "        {\"inp\": [\"a b c d e f\", 3], \"out\": \"e f\"},\n",
    "        {\"inp\": [\"8qoiu i ifu oiw oiu of\", 5], \"out\": \"of\"},\n",
    "        {\"inp\": [\"123. 93. 12489\", 7], \"out\": \"12489\"},\n",
    "        {\"inp\": [\"The cat is chasing the rat. The dog is also chasing the rat.\", 10], \"out\": \"the rat.\"},\n",
    "        {\"inp\": [\"MindX Technology School.\", 12], \"out\": \"School.\"},\n",
    "        {\"inp\": [\"MindX Technology School.\", 40], \"out\": \"MindX Technology School.\"},\n",
    "    ]\n",
    "    \n",
    "    def condition_func(func, case):\n",
    "        return func(case['inp'][0], case['inp'][1])[-1] == case['out']\n",
    "    \n",
    "    test(test_cases, func, condition_func)"
   ]
  },
  {
   "cell_type": "markdown",
   "metadata": {},
   "source": [
    "## Bài 3. Phần Tử Bất Thường"
   ]
  },
  {
   "cell_type": "code",
   "execution_count": 46,
   "metadata": {},
   "outputs": [],
   "source": [
    "def test3(func):\n",
    "    \n",
    "    test_cases = [\n",
    "        {\"inp\": [[1, 4, 5, 7, 9], [7, 4, 1, 9]], \"out\": 5},\n",
    "        {\"inp\": [[7, 4, 1, 9], [1, 4, 5, 7, 9]], \"out\": 5},\n",
    "        {\"inp\": [[1], [1, 2]], \"out\": 2},\n",
    "        {\"inp\": [[1, 2], [1]], \"out\": 2},\n",
    "        {\"inp\": [[1, 2, 3, 4, 5], [1, 2, 3, 4, 5, 6]], \"out\": 6},\n",
    "        {\"inp\": [[1, 2, 3, 4, 5, 6], [1, 2, 3, 4, 5]], \"out\": 6}\n",
    "    ]\n",
    "    \n",
    "    def condition_func(func, case):\n",
    "        return func(case['inp'][0], case['inp'][1]) == case['out']\n",
    "    \n",
    "    test(test_cases, func, condition_func)"
   ]
  },
  {
   "cell_type": "markdown",
   "metadata": {},
   "source": [
    "## Bài 4. Tổng Đường Chéo"
   ]
  },
  {
   "cell_type": "code",
   "execution_count": 5,
   "metadata": {},
   "outputs": [],
   "source": [
    "import numpy as np\n",
    "\n",
    "def test4(func):\n",
    "    \n",
    "    test_cases = [\n",
    "        {\"inp\": 1, \"out\": (-908748, -908748)},\n",
    "        {\"inp\": 2, \"out\": (-593086, 1497145)},\n",
    "        {\"inp\": 3, \"out\": (1198440, 419655)},\n",
    "        {\"inp\": 5, \"out\": (-1448893, 710737)},\n",
    "        {\"inp\": 10, \"out\": (2297089, 2179066)},\n",
    "        {\"inp\": 100, \"out\": (-10061079, -1742876)},\n",
    "        {\"inp\": 999, \"out\": (-19517207, 9753271)}\n",
    "    ]\n",
    "\n",
    "    np.random.seed(2021)\n",
    "    \n",
    "    def condition_func(func, case):\n",
    "        arr = np.random.randint(-1000000, 1000000, (case['inp'], case['inp'])).tolist()\n",
    "        return func(arr) == case['out']\n",
    "    \n",
    "    test(test_cases, func, condition_func)"
   ]
  },
  {
   "cell_type": "code",
   "execution_count": null,
   "metadata": {},
   "outputs": [],
   "source": []
  }
 ],
 "metadata": {
  "kernelspec": {
   "display_name": "Python 3",
   "language": "python",
   "name": "python3"
  },
  "language_info": {
   "codemirror_mode": {
    "name": "ipython",
    "version": 3
   },
   "file_extension": ".py",
   "mimetype": "text/x-python",
   "name": "python",
   "nbconvert_exporter": "python",
   "pygments_lexer": "ipython3",
   "version": "3.8.3"
  }
 },
 "nbformat": 4,
 "nbformat_minor": 4
}
