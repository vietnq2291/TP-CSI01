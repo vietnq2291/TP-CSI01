{
 "cells": [
  {
   "cell_type": "markdown",
   "metadata": {},
   "source": [
    "## <center>Computer Science Intensive Course - MindX</center>\n",
    "![](./assets/logo.png)\n",
    "# <center>LAB 11. THUẬT TOÁN TÌM ĐƯỜNG (1)</center>"
   ]
  },
  {
   "cell_type": "code",
   "execution_count": null,
   "metadata": {},
   "outputs": [],
   "source": [
    "# run this cell FIRST\n",
    "%run test_cases_11.ipynb"
   ]
  },
  {
   "cell_type": "markdown",
   "metadata": {},
   "source": [
    "## Bài 1. Tìm Đường\n",
    "\n",
    "Cho một tập hợp đảo và các tuyến tàu hai chiều giữa các đảo. Ta chỉ có thể di chuyển từ đảo A đến đảo B (A khác B) nếu có ít nhất một trong ba điều kiện sau xảy ra:\n",
    "- Có tuyến tàu từ A đến B\n",
    "- Tồn tại một đảo C sao cho có tuyến tàu từ A đến C và từ C đến B\n",
    "- Tồn tại đảo D và đảo E sao cho có tuyến tàu AD, EB và ta có thể di chuyển từ D đến E\n",
    "\n",
    "**Yêu cầu**: Cho thông tin về tập hợp các đảo, tuyến tàu và hai đảo A, B khác nhau. Hãy tìm một lộ trình để đi từ đảo A đến đảo B sao cho không đảo nào được đi qua quá 1 lần.\n",
    "\n",
    "**Input**: Một đồ thị vô hướng không trọng số dưới dạng danh sách kề, với các đỉnh là các số nguyên được đánh số từ 0 tương ứng với các đảo.  \n",
    "&nbsp;&nbsp;&nbsp;&nbsp;&nbsp;&nbsp;&nbsp;&nbsp;&nbsp;&nbsp; Biết *1 < số đảo < 100* và *0 <= số tuyến tàu < 1000*.  \n",
    "**Output**: Một list là danh sách các đảo nằm trên lộ trình từ A đến B. Trả về list rỗng nếu không tồn tại đường đi từ A đến B.  \n",
    "**Ví dụ**:  \n",
    "\n",
    "- Input: <code>graph</code>, 0, 2\n",
    "- Output: [0, 1, 2] hoặc [0, 1, 3, 2] hoặc [0, 1, 4, 3, 2] hoặc [0, 4, 1, 2] hoặc [0, 4, 3, 2] hoặc [0, 4, 1, 3, 2] hoặc [0, 4, 3, 1, 2]\n",
    "\n",
    "![](./assets/graph2.png)"
   ]
  },
  {
   "cell_type": "code",
   "execution_count": null,
   "metadata": {},
   "outputs": [],
   "source": [
    "graph = {\n",
    "    0: [1, 4],\n",
    "    1: [0, 2, 3, 4],\n",
    "    2: [1, 3],\n",
    "    3: [1, 2, 4],\n",
    "    4: [0, 1, 3]\n",
    "}"
   ]
  },
  {
   "cell_type": "code",
   "execution_count": null,
   "metadata": {},
   "outputs": [],
   "source": [
    "def find_path(graph, island_a, island_b):\n",
    "    pass"
   ]
  },
  {
   "cell_type": "code",
   "execution_count": null,
   "metadata": {},
   "outputs": [],
   "source": [
    "# !!! DO NOT MODIFY THIS CELL\n",
    "# Check result on test cases\n",
    "test1(find_path)"
   ]
  },
  {
   "cell_type": "markdown",
   "metadata": {},
   "source": [
    "## Bài 2. Tạo Mê Cung\n",
    "\n",
    "Một ứng dụng thú vị của thuật toán DFS là tạo mê cung ngẫu nhiên.  \n",
    "\n",
    "Ý tưởng của thuật toán là dùng DFS để tìm đường ngẫu nhiên trên một ma trận có kích thước cho trước. Lộ trình DFS đi qua chính là mê cung được tạo.  \n",
    "\n",
    "Cụ thể hơn, ta thực hiện các bước:\n",
    "1. Khởi tạo mê cung với kích thước cho trước. Mỗi ô trong mê cung đều có tường ở 4 hướng: trên, dưới, trái, phải.\n",
    "2. Chọn điểm bắt đầu và kết thúc của mê cung. Xóa tường phía ngoài của hai điểm này để tạo đường thoát khỏi mê cung.\n",
    "3. Dùng thuật toán DFS để duyệt từ điểm bắt đầu. Ở mỗi bước duyệt:\n",
    "   - Xóa tường giữa ô đang duyệt và ô trước đó\n",
    "   - Chọn một ô ngẫu trên trong 4 ô cùng cạnh để tiếp tục duyệt\n",
    "   \n",
    "**Ví dụ** về quá trình tạo một mê cung:\n",
    "![](./assets/maze-demo.gif)\n",
    "   \n",
    "Ta lưu mê cung bằng hai mảng hai chiều dưới dạng list của list:\n",
    "- <code>vertical</code>: chứa các tường theo chiều dọc.\n",
    "- <code>horizontal</code>: chứa các tường theo chiều ngang.\n",
    "\n",
    "Xem ví dụ phía dưới. Hàm <code>plot_maze()</code> để vẽ mê cung từ <code>vertical</code> và <code>horizontal</code> đã được viết sẵn, với <code>fig_height</code> là kích thước mê cung hiển thị trên màn hình."
   ]
  },
  {
   "cell_type": "code",
   "execution_count": null,
   "metadata": {},
   "outputs": [],
   "source": [
    "import matplotlib.pyplot as plt\n",
    "\n",
    "plt.style.use('default')\n",
    "\n",
    "def plot_maze(vertical, horizontal, fig_height=8):\n",
    "\n",
    "    # init height & width\n",
    "    height = len(vertical)\n",
    "    width = len(vertical[0])\n",
    "    \n",
    "    # init figure\n",
    "    fig = plt.figure(figsize=(fig_height*2, fig_height))\n",
    "    fig.patch.set_visible(False)\n",
    "\n",
    "    # draw maze borders\n",
    "    for row in range(height):\n",
    "        for col in range(width):\n",
    "            if vertical[row][col]:\n",
    "                plt.plot((col, col), (row, row+1), color='white')\n",
    "            if horizontal[row][col]:\n",
    "                plt.plot((col, col+1), (row, row), color='white')\n",
    "\n",
    "    # draw surrounding borders on the right & bottom\n",
    "    plt.plot((width, width), (0, height-1), color='white')\n",
    "    plt.plot((0, width), (height, height), color='white')\n",
    "\n",
    "    # styling the plot\n",
    "    ax = plt.gca()\n",
    "    ax.set_facecolor((0, 0, 0))\n",
    "    ax.set_ylim(ax.get_ylim()[::-1])\n",
    "    plt.xticks([])\n",
    "    plt.yticks([])\n",
    "    \n",
    "    # add arrows\n",
    "    plt.arrow(0, 0.5, 0.8, 0, width=0.07, length_includes_head=True, color='white')\n",
    "    plt.arrow(width-0.8, height-0.5, 0.8, 0, width=0.07, length_includes_head=True, color='white')\n",
    "    \n",
    "    plt.show()"
   ]
  },
  {
   "cell_type": "markdown",
   "metadata": {},
   "source": [
    "Mỗi phần tử trong <code>vertical</code> tương ứng với mảng tường bên trái của một ô.  \n",
    "Mỗi phần tử trong <code>horizontal</code> tương ứng với mảng tường phía trên của một ô.\n",
    "\n",
    "**Ví dụ**: <code>vertical[0][0] = False</code> có nghĩa ô <code>[0][0]</code> không có mảng tường bên trái.  \n",
    "\n",
    "Như vậy, ta không lưu thông tin về các mảng tường dưới cùng và ngoài cùng bên phải. Phần tường này sẽ được hàm <code>plot_maze()</code> vẽ thêm.  \n",
    "\n",
    "Để đơn giản, ta mặc định điểm bắt đầu là ô trên cùng bên trái và điểm kết thúc là ô ngoài cùng bên phải.  "
   ]
  },
  {
   "cell_type": "code",
   "execution_count": null,
   "metadata": {},
   "outputs": [],
   "source": [
    "vertical = [\n",
    "    [False, True, True, True],\n",
    "    [True, True, True, True]]\n",
    "\n",
    "horizontal = [\n",
    "    [True, True, True, True],\n",
    "    [True, True, True, True]]\n",
    "\n",
    "plot_maze(vertical, horizontal, fig_height=2)"
   ]
  },
  {
   "cell_type": "markdown",
   "metadata": {},
   "source": [
    "Ví dụ của một mê cung hợp lệ:"
   ]
  },
  {
   "cell_type": "code",
   "execution_count": null,
   "metadata": {},
   "outputs": [],
   "source": [
    "vertical = [\n",
    "    [False, True, False, False],\n",
    "    [True, False, True, False]]\n",
    "\n",
    "horizontal = [\n",
    "    [True, True, True, True],\n",
    "    [False, False, False, True]]\n",
    "\n",
    "plot_maze(vertical, horizontal, fig_height=2)"
   ]
  },
  {
   "cell_type": "markdown",
   "metadata": {},
   "source": [
    "**Yêu cầu**: Hãy hiện thực hàm <code>generate_maze()</code> với các tham số:\n",
    "- <code>height</code>: Một số nguyên dương là số ô theo chiều dọc của mê cung. Để đơn giản, ta quy định số ô theo chiều ngang bằng gấp đôi số ô theo chiều dọc.  \n",
    "- <code>seed</code>: Một số nguyên dương để bắt đầu khởi tạo các giá trị ngẫu nhiên. Tham số này đảm bảo hàm luôn tạo ra cùng một mê cung nếu nhận cùng <code>height</code> và <code>seed</code>.\n",
    "\n",
    "Hàm trả về hai mảng hai chiều là thông tin về các mảng tường theo chiều dọc và chiều ngang như đã định nghĩa phía trên. Chú ý <code>vertical[0][0]</code> luôn bằng <code>False</code>.\n",
    "\n",
    "**Gợi ý**: Sử dụng hàm <code>random.shuffle()</code> để trộn ngẫu nhiên một mảng."
   ]
  },
  {
   "cell_type": "code",
   "execution_count": null,
   "metadata": {},
   "outputs": [],
   "source": [
    "import random\n",
    "\n",
    "arr = [1, 2, 3, 4]\n",
    "random.shuffle(arr)\n",
    "arr"
   ]
  },
  {
   "cell_type": "code",
   "execution_count": null,
   "metadata": {},
   "outputs": [],
   "source": [
    "def generate_maze(height, seed=2021):\n",
    "    \n",
    "    random.seed(seed)\n",
    "    \n",
    "    # YOUR CODE HERE\n",
    "    \n",
    "    return vertical, horizontal"
   ]
  },
  {
   "cell_type": "markdown",
   "metadata": {},
   "source": [
    "Kết quả mong đợi như bên dưới:"
   ]
  },
  {
   "cell_type": "code",
   "execution_count": null,
   "metadata": {},
   "outputs": [],
   "source": [
    "vertical, horizontal = generate_maze(4)\n",
    "plot_maze(vertical, horizontal, fig_height=4)"
   ]
  },
  {
   "cell_type": "code",
   "execution_count": null,
   "metadata": {},
   "outputs": [],
   "source": [
    "vertical, horizontal = generate_maze(20, seed=42)\n",
    "plot_maze(vertical, horizontal)"
   ]
  },
  {
   "cell_type": "code",
   "execution_count": null,
   "metadata": {},
   "outputs": [],
   "source": []
  }
 ],
 "metadata": {
  "kernelspec": {
   "display_name": "Python 3.10.4 64-bit",
   "language": "python",
   "name": "python3"
  },
  "language_info": {
   "codemirror_mode": {
    "name": "ipython",
    "version": 3
   },
   "file_extension": ".py",
   "mimetype": "text/x-python",
   "name": "python",
   "nbconvert_exporter": "python",
   "pygments_lexer": "ipython3",
   "version": "3.10.4"
  },
  "vscode": {
   "interpreter": {
    "hash": "916dbcbb3f70747c44a77c7bcd40155683ae19c65e1c03b4aa3499c5328201f1"
   }
  }
 },
 "nbformat": 4,
 "nbformat_minor": 4
}
