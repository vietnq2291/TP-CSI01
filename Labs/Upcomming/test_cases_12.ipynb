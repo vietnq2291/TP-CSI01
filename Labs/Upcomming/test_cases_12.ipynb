{
 "cells": [
  {
   "cell_type": "markdown",
   "metadata": {},
   "source": [
    "## <center>Computer Science Intensive Course - MindX</center>\n",
    "![](./assets/logo.png)\n",
    "# <center>Test Cases 12. THUẬT TOÁN TÌM ĐƯỜNG (2)</center>"
   ]
  },
  {
   "cell_type": "code",
   "execution_count": 37,
   "metadata": {},
   "outputs": [],
   "source": [
    "import numpy as np\n",
    "\n",
    "def test(cases, test_func, condition_func):\n",
    "    \n",
    "    n = len(cases)\n",
    "    print(\"Testing on {} cases.\".format(n))\n",
    "    \n",
    "    count = 0\n",
    "    for i, case in enumerate(cases):\n",
    "        try:\n",
    "            passed = condition_func(test_func, case)\n",
    "            if passed:\n",
    "                print(\"- Test {} PASSED.\".format(i+1))\n",
    "                count += 1\n",
    "            else:\n",
    "                print(\"- Test {} FAILED: Wrong Answer.\".format(i+1))\n",
    "        except Exception as ex:\n",
    "            print(\"An exception occured at test {}: {}.\".format(i+1, ex))\n",
    "            \n",
    "    if count == n:\n",
    "        print(\"CONGRATULATIONS! All test cases passed!\")\n",
    "    else:\n",
    "        print(\"Some test failed. Maybe check some code?\")"
   ]
  },
  {
   "cell_type": "markdown",
   "metadata": {},
   "source": [
    "## Bài 1. Kích Thước Tầng"
   ]
  },
  {
   "cell_type": "code",
   "execution_count": 41,
   "metadata": {},
   "outputs": [],
   "source": [
    "def test1(func):\n",
    "    \n",
    "    class Node:\n",
    "        def __init__(self, data):\n",
    "            self.data = data\n",
    "            self.left = None\n",
    "            self.right = None\n",
    "\n",
    "    root = Node(8)\n",
    "    root.left, root.right = Node(3), Node(10)\n",
    "    root.left.left, root.left.right = Node(1), Node(6)\n",
    "    root.left.right.left, root.left.right.right = Node(4), Node(7)\n",
    "    root.right.right = Node(14)\n",
    "    root.right.right.left = Node(13)\n",
    "    \n",
    "    root2 = Node(1)\n",
    "    root2.left, root2.right = Node(2), Node(3)\n",
    "    root2.left.left, root2.left.right = Node(4), Node(5)\n",
    "    root2.left.left.left, root2.left.left.right = Node(8), Node(9)\n",
    "    root2.left.right.left, root2.left.right.right = Node(10), Node(11)\n",
    "    root2.right.left, root2.right.right = Node(6), Node(7)\n",
    "    root2.right.left.right = Node(13)\n",
    "    root2.right.right.left = Node(14)\n",
    "    \n",
    "    test_cases = [\n",
    "        {\"inp\": [root, -10], \"out\": 0},\n",
    "        {\"inp\": [root, 0], \"out\": 1},\n",
    "        {\"inp\": [root, 1], \"out\": 2},\n",
    "        {\"inp\": [root, 2], \"out\": 3},\n",
    "        {\"inp\": [root, 3], \"out\": 3},\n",
    "        {\"inp\": [root, 4], \"out\": 0},\n",
    "        {\"inp\": [root, 10000], \"out\": 0},\n",
    "        {\"inp\": [root2, 0], \"out\": 1},\n",
    "        {\"inp\": [root2, 1], \"out\": 2},\n",
    "        {\"inp\": [root2, 2], \"out\": 4},\n",
    "        {\"inp\": [root2, 3], \"out\": 6},\n",
    "    ]\n",
    " \n",
    "    def condition_func(func, case):\n",
    "        return func(case['inp'][0], case['inp'][1]) == case['out']\n",
    "    \n",
    "    test(test_cases, func, condition_func)"
   ]
  }
 ],
 "metadata": {
  "kernelspec": {
   "display_name": "Python 3",
   "language": "python",
   "name": "python3"
  },
  "language_info": {
   "codemirror_mode": {
    "name": "ipython",
    "version": 3
   },
   "file_extension": ".py",
   "mimetype": "text/x-python",
   "name": "python",
   "nbconvert_exporter": "python",
   "pygments_lexer": "ipython3",
   "version": "3.8.3"
  }
 },
 "nbformat": 4,
 "nbformat_minor": 4
}
