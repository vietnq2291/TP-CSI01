{
 "cells": [
  {
   "cell_type": "markdown",
   "metadata": {},
   "source": [
    "## <center>Computer Science Intensive Course - MindX</center>\n",
    "![](./assets/logo.png)\n",
    "# <center>Test Cases 6. THUẬT TOÁN SẮP XẾP (2)</center>"
   ]
  },
  {
   "cell_type": "code",
   "execution_count": 37,
   "metadata": {},
   "outputs": [],
   "source": [
    "import numpy as np\n",
    "\n",
    "def test(cases, test_func, condition_func):\n",
    "    \n",
    "    n = len(cases)\n",
    "    print(\"Testing on {} cases.\".format(n))\n",
    "    \n",
    "    count = 0\n",
    "    for i, case in enumerate(cases):\n",
    "        try:\n",
    "            passed = condition_func(test_func, case)\n",
    "            if passed:\n",
    "                print(\"- Test {} PASSED.\".format(i+1))\n",
    "                count += 1\n",
    "            else:\n",
    "                print(\"- Test {} FAILED: Wrong Answer.\".format(i+1))\n",
    "        except Exception as ex:\n",
    "            print(\"An exception occured at test {}: {}.\".format(i+1, ex))\n",
    "            \n",
    "    if count == n:\n",
    "        print(\"CONGRATULATIONS! All test cases passed!\")\n",
    "    else:\n",
    "        print(\"Some test failed. Maybe check some code?\")"
   ]
  },
  {
   "cell_type": "code",
   "execution_count": null,
   "metadata": {},
   "outputs": [],
   "source": [
    "# merge 2 sorted portions of arr\n",
    "def merge(arr, left, right, mid):\n",
    "\n",
    "    # make shallow copy of 2 portions for convenient merging\n",
    "    arr1 = arr[left:mid]\n",
    "    arr2 = arr[mid:right]\n",
    "    \n",
    "    n1 = len(arr1)\n",
    "    n2 = len(arr2)\n",
    "    i = j = 0\n",
    "    k = left\n",
    " \n",
    "    # traverse arr1 and arr2 until one is empty\n",
    "    while i < n1 and j < n2:\n",
    "        if arr1[i] < arr2[j]:\n",
    "            arr[k] = arr1[i]\n",
    "            i += 1\n",
    "        else:\n",
    "            arr[k] = arr2[j]\n",
    "            j += 1\n",
    "        k +=  1\n",
    "     \n",
    "    # get remaining elements\n",
    "    arr[k:k+n1-i] = arr1[i:n1]\n",
    "    k += n1-i\n",
    "    arr[k:k+n2-j] = arr2[j:n2]\n",
    "    \n",
    "\n",
    "def merge_sort(arr, left, right):\n",
    "    \n",
    "    # special cases, arr is sorted\n",
    "    if right-left <= 1:  # stop condition for recursion\n",
    "        return\n",
    "    \n",
    "    # split arr into 2 halves, then sort each half individually\n",
    "    mid = (left+right)//2\n",
    "    merge_sort(arr, left, mid)   # recursive call\n",
    "    merge_sort(arr, mid, right)  # recursive call\n",
    "\n",
    "    # merge 2 sorted halves\n",
    "    merge(arr, left, right, mid)"
   ]
  },
  {
   "cell_type": "code",
   "execution_count": null,
   "metadata": {},
   "outputs": [],
   "source": [
    "# choose pivot, move every smaller element to the left side\n",
    "# return the index of pivot after moving\n",
    "def partition(arr, left, right):\n",
    "    pivot = arr[left]  # choose pivot as the left-most element\n",
    "    i = left\n",
    "    for j in range(left+1, right):\n",
    "        if arr[j] < pivot:  # if found smaller element...\n",
    "            i += 1\n",
    "            arr[i], arr[j] = arr[j], arr[i]  # ... move it to the left side\n",
    "    arr[i], arr[left] = arr[left], arr[i]    # after finishing, swap pivot to its position\n",
    "    return i\n",
    "\n",
    "\n",
    "def quick_sort(arr, left, right):\n",
    "    \n",
    "    if right-left <= 1:  # array already sorted / stop condition for recursion\n",
    "        return\n",
    "    \n",
    "    # split arr into 2 parts\n",
    "    partition_index = partition(arr, left, right)\n",
    "    \n",
    "    # sort each part individually\n",
    "    quick_sort(arr, left, partition_index)     # recursive call\n",
    "    quick_sort(arr, partition_index+1, right)  # recursive call"
   ]
  },
  {
   "cell_type": "markdown",
   "metadata": {},
   "source": [
    "## Bài 1. Dãy Số Ngược"
   ]
  },
  {
   "cell_type": "code",
   "execution_count": 41,
   "metadata": {},
   "outputs": [],
   "source": [
    "def test1(func):\n",
    "    \n",
    "    test_cases = [2, 3, 5, 10, 100, 999, 9999, 99999, 999999]\n",
    " \n",
    "    np.random.seed(2021)\n",
    "    \n",
    "    def condition_func(func, case):\n",
    "        arr = list(np.random.uniform(-99999999, 99999999, case))\n",
    "        pivot = arr[(case-1)//2]\n",
    "        arr, i = func(arr)\n",
    "        arr = np.array(arr)\n",
    "        return np.sum(arr[:i] <= pivot) + np.sum(arr[i:] >= pivot) == case\n",
    "    \n",
    "    test(test_cases, func, condition_func)"
   ]
  },
  {
   "cell_type": "markdown",
   "metadata": {},
   "source": [
    "## Bài 2. Quicksort Với Pivot Giữa"
   ]
  },
  {
   "cell_type": "code",
   "execution_count": null,
   "metadata": {},
   "outputs": [],
   "source": [
    "def test2(func):\n",
    "    \n",
    "    test_cases = [\n",
    "        {\"inp\": 1, \"out\": 21195655.549524397},\n",
    "        {\"inp\": 2, \"out\": 46673871.771960914},\n",
    "        {\"inp\": 3, \"out\": 99448655.27357718},\n",
    "        {\"inp\": 5, \"out\": 56862025.85960427},\n",
    "        {\"inp\": 10, \"out\": 92768603.64744037},\n",
    "        {\"inp\": 100, \"out\": 96354017.55467099},\n",
    "        {\"inp\": 999, \"out\": 99983628.38855001},\n",
    "        {\"inp\": 9999, \"out\": 99990135.30701599},\n",
    "        {\"inp\": 99999, \"out\": 99997777.97281265},\n",
    "        {\"inp\": 999999, \"out\": 99999943.08913082},\n",
    "    ]\n",
    " \n",
    "    np.random.seed(2021)\n",
    "    \n",
    "    def condition_func(func, case):\n",
    "        arr = list(np.random.uniform(-99999999, 99999999, case['inp']))\n",
    "        return func(arr)[-1] == case['out']\n",
    "    \n",
    "    test(test_cases, func, condition_func)"
   ]
  },
  {
   "cell_type": "markdown",
   "metadata": {},
   "source": [
    "## Bài 3. Hybrid Sort"
   ]
  },
  {
   "cell_type": "code",
   "execution_count": 1,
   "metadata": {},
   "outputs": [],
   "source": [
    "def test3(func):\n",
    "    \n",
    "    test_cases = [\n",
    "        {\"inp\": 1, \"out\": 21195655.549524397},\n",
    "        {\"inp\": 2, \"out\": 46673871.771960914},\n",
    "        {\"inp\": 3, \"out\": 99448655.27357718},\n",
    "        {\"inp\": 5, \"out\": 56862025.85960427},\n",
    "        {\"inp\": 10, \"out\": 92768603.64744037},\n",
    "        {\"inp\": 100, \"out\": 96354017.55467099},\n",
    "        {\"inp\": 999, \"out\": 99983628.38855001},\n",
    "        {\"inp\": 9999, \"out\": 99990135.30701599},\n",
    "        {\"inp\": 99999, \"out\": 99997777.97281265},\n",
    "        {\"inp\": 999999, \"out\": 99999943.08913082},\n",
    "    ]\n",
    " \n",
    "    np.random.seed(2021)\n",
    "    \n",
    "    def condition_func(func, case):\n",
    "        arr = list(np.random.uniform(-99999999, 99999999, case['inp']))\n",
    "        return func(arr)[-1] == case['out']\n",
    "    \n",
    "    test(test_cases, func, condition_func)"
   ]
  },
  {
   "cell_type": "code",
   "execution_count": null,
   "metadata": {},
   "outputs": [],
   "source": []
  }
 ],
 "metadata": {
  "kernelspec": {
   "display_name": "Python 3",
   "language": "python",
   "name": "python3"
  },
  "language_info": {
   "codemirror_mode": {
    "name": "ipython",
    "version": 3
   },
   "file_extension": ".py",
   "mimetype": "text/x-python",
   "name": "python",
   "nbconvert_exporter": "python",
   "pygments_lexer": "ipython3",
   "version": "3.8.3"
  }
 },
 "nbformat": 4,
 "nbformat_minor": 4
}
