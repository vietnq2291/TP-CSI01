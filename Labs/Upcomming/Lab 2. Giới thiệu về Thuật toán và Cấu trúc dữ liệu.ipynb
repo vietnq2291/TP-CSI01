{
 "cells": [
  {
   "cell_type": "markdown",
   "metadata": {},
   "source": [
    "## <center>Computer Science Intensive Course - MindX</center>\n",
    "![](./assets/logo.png)\n",
    "# <center>LAB 2. GIỚI THIỆU VỀ THUẬT TOÁN VÀ CẤU TRÚC DỮ LIỆU</center>"
   ]
  },
  {
   "cell_type": "code",
   "execution_count": null,
   "metadata": {},
   "outputs": [],
   "source": [
    "# run this cell FIRST\n",
    "%run test_cases_2.ipynb"
   ]
  },
  {
   "cell_type": "markdown",
   "metadata": {},
   "source": [
    "## Bài 1. Xâu Đối Xứng\n",
    "Xâu đối xứng là một chuỗi ký tự có dạng đối xứng gương, nửa cuối của xâu bằng nửa đầu của xâu viết theo hướng ngược lại.  \n",
    "**Input**: Một chuỗi ký tự (string) với độ dài tối thiểu 1 và không quá 255 ký tự.  \n",
    "**Output**: Trả về True nếu chuỗi ký tự đối xứng, ngược lại trả về False.  \n",
    "**Ví dụ**:  \n",
    "Ví dụ 1:\n",
    "- Input: string = \"abcba\"\n",
    "- Output: True  \n",
    "\n",
    "Ví dụ 2:\n",
    "- Input: string = \"abccba\"\n",
    "- Output: True.  \n",
    "\n",
    "Ví dụ 3:\n",
    "- Input: string = \"abcabc\"\n",
    "- Output: False.  "
   ]
  },
  {
   "cell_type": "code",
   "execution_count": null,
   "metadata": {},
   "outputs": [],
   "source": [
    "def is_symmetric(inp):\n",
    "    pass"
   ]
  },
  {
   "cell_type": "code",
   "execution_count": null,
   "metadata": {},
   "outputs": [],
   "source": [
    "# !!! DO NOT MODIFY THIS CELL\n",
    "# Check result on test cases\n",
    "test1(is_symmetric)"
   ]
  },
  {
   "cell_type": "markdown",
   "metadata": {},
   "source": [
    "## Bài 2. Số Siêu Nguyên Tố\n",
    "Số siêu nguyên tố là một số nguyên tố với tính chất: khi ta xóa một số lượng chữ số tận cùng bất kỳ của nó, ta vẫn được một số nguyên tố.  \n",
    "**Input**: Một số nguyên *0 < n < 10^9*   \n",
    "**Output**: Trả về True nếu số vừa nhập là số siêu nguyên tố, ngược lại trả về False.   \n",
    "**Ví dụ**:  \n",
    "\n",
    "Ví dụ 1:\n",
    "- Input: n = 3739\n",
    "- Output: True\n",
    "- Giải thích: 3739, 373, 37, 3 đều là số nguyên tố\n",
    "\n",
    "Ví dụ 2:\n",
    "- Input: n = 47\n",
    "- Output: False\n",
    "- Giải thích: 47 là số nguyên tố nhưng 4 không phải số nguyên tố"
   ]
  },
  {
   "cell_type": "code",
   "execution_count": null,
   "metadata": {},
   "outputs": [],
   "source": [
    "def is_super_prime(num):\n",
    "    pass"
   ]
  },
  {
   "cell_type": "code",
   "execution_count": null,
   "metadata": {},
   "outputs": [],
   "source": [
    "# !!! DO NOT MODIFY THIS CELL\n",
    "# Check result on test cases\n",
    "test2(is_super_prime)"
   ]
  },
  {
   "cell_type": "markdown",
   "metadata": {},
   "source": [
    "## Bài 3. Kiểm Tra Tam Giác\n",
    "**Input**: Ba số thực -10^9 < a, b, c < 10^9.  \n",
    "**Output**: Kiểm tra a, b, c có thể là độ dài ba cạnh của tam giác hay không. Nếu có, kiểm tra tam giác được tạo thành là tam giác nhọn (1), vuông (2) hay tù (3). Trả về 0 nếu không thể tạo thành tam giác; trả về 1, 2 hoặc 3 trong các trường hợp tam giác tương ứng.  \n",
    "**Ví dụ**:\n",
    "\n",
    "Ví dụ 1:\n",
    "- Input: a = 1, b = 2, c = 5\n",
    "- Output: 0\n",
    "- Giải thích: Ba đoạn thẳng với độ dài 1, 2, 5 không thể tạo thành một tam giác\n",
    "\n",
    "Ví dụ 2:\n",
    "- Input: a = 4, b = 3, c = 6\n",
    "- Output: 3\n",
    "- Giải thích: Ba đoạn thẳng với độ dài 3, 4, 6 tạo thành một tam giác tù (có góc đối diện cạnh c > 90 độ)"
   ]
  },
  {
   "cell_type": "code",
   "execution_count": null,
   "metadata": {},
   "outputs": [],
   "source": [
    "def get_triangle_type(a, b, c):\n",
    "    pass"
   ]
  },
  {
   "cell_type": "code",
   "execution_count": null,
   "metadata": {},
   "outputs": [],
   "source": [
    "# !!! DO NOT MODIFY THIS CELL\n",
    "# Check result on test cases\n",
    "test3(get_triangle_type)"
   ]
  },
  {
   "cell_type": "markdown",
   "metadata": {},
   "source": [
    "## Bài 4. Đèn Tắt Mở\n",
    "Cho một dãy *n* bóng đèn. Mỗi bóng đèn có 2 trạng thái là Tắt hoặc Mở. Có *n* công tắc có thể thay đổi trạng thái của bóng đèn tương ứng (từ Tắt thành Mở và ngược lại). Tìm số lần ấn công tắc ít nhất sao cho tất cả bóng đèn đều ở cùng một trạng thái (cùng tắt hoặc cùng mở).  \n",
    "**Input**: Mảng *0 < n < 10^8* phần tử boolean, với True tương ứng trạng thái mở và False tương đương trạng thái tắt.    \n",
    "**Output**: Một số nguyên duy nhất là số lần ấn công tắc ít nhất để tất cả bóng đèn về cùng một trạng thái.    \n",
    "**Ví dụ**:\n",
    "\n",
    "Ví dụ 1:\n",
    "- Input: n = 3, arr = [True, True, False]\n",
    "- Output: result = 1\n",
    "- Giải thích: Ấn công tắc cuối cùng để tất cả bóng đèn đều mở\n",
    "\n",
    "Ví dụ 2:\n",
    "- Input: n = 4, arr = [True, True, False, False]\n",
    "- Output: result = 2\n",
    "- Giải thích: Ấn hai công tắc đầu tiên hoặc hai công tắc cuối cùng."
   ]
  },
  {
   "cell_type": "code",
   "execution_count": null,
   "metadata": {},
   "outputs": [],
   "source": [
    "def count_switches(arr):\n",
    "    pass"
   ]
  },
  {
   "cell_type": "code",
   "execution_count": null,
   "metadata": {},
   "outputs": [],
   "source": [
    "# !!! DO NOT MODIFY THIS CELL\n",
    "# Check result on test cases\n",
    "test4(count_switches)"
   ]
  },
  {
   "cell_type": "code",
   "execution_count": null,
   "metadata": {},
   "outputs": [],
   "source": []
  }
 ],
 "metadata": {
  "kernelspec": {
   "display_name": "Python 3",
   "language": "python",
   "name": "python3"
  },
  "language_info": {
   "codemirror_mode": {
    "name": "ipython",
    "version": 3
   },
   "file_extension": ".py",
   "mimetype": "text/x-python",
   "name": "python",
   "nbconvert_exporter": "python",
   "pygments_lexer": "ipython3",
   "version": "3.8.3"
  }
 },
 "nbformat": 4,
 "nbformat_minor": 4
}
