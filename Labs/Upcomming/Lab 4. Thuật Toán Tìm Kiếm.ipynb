{
 "cells": [
  {
   "cell_type": "markdown",
   "metadata": {},
   "source": [
    "## <center>Computer Science Intensive Course - MindX</center>\n",
    "![](./assets/logo.png)\n",
    "# <center>LAB 4. THUẬT TOÁN TÌM KIẾM</center>"
   ]
  },
  {
   "cell_type": "code",
   "execution_count": null,
   "metadata": {},
   "outputs": [],
   "source": [
    "# run this cell FIRST\n",
    "%run test_cases_4.ipynb"
   ]
  },
  {
   "cell_type": "markdown",
   "metadata": {},
   "source": [
    "## Bài 1. Đếm Từ\n",
    "\n",
    "Cho một đoạn văn gồm nhiều từ và dấu câu, mỗi từ trong đoạn văn cách nhau bằng ít nhất một dấu cách. Đếm tần suất xuất hiện của một từ trong đoạn văn đó (không phân biệt chữ hoa và thường). \n",
    "\n",
    "**Input**: Một đoạn văn dưới dạng *str* với độ dài < 10^6 ký tự và một từ.  \n",
    "**Output**: Tần suất xuất hiện của từ đã cho trong đoạn văn.  \n",
    "**Ví dụ**:\n",
    "- Input: \"The cat is chasing the rat in Netherlands. The dog is also chasing the rat.\", \"the\"\n",
    "- Output: 4\n",
    "- Giải thích: Từ \"the\" xuất hiện 4 lần, không phân biệt chữ hoa và thường.\n",
    "  \n",
    "**Gợi ý**: Kiểm tra một ký tự có nằm trong bảng chữ cái không:"
   ]
  },
  {
   "cell_type": "code",
   "execution_count": null,
   "metadata": {},
   "outputs": [],
   "source": [
    "ch = 'a'\n",
    "ch2 = '.'\n",
    "print(ch.isalpha())\n",
    "print(ch2.isalpha())"
   ]
  },
  {
   "cell_type": "code",
   "execution_count": null,
   "metadata": {},
   "outputs": [],
   "source": [
    "def count_word(inp_str, inp_word):\n",
    "    pass"
   ]
  },
  {
   "cell_type": "code",
   "execution_count": null,
   "metadata": {},
   "outputs": [],
   "source": [
    "# !!! DO NOT MODIFY THIS CELL\n",
    "# Check result on test cases\n",
    "test1(count_word)"
   ]
  },
  {
   "cell_type": "markdown",
   "metadata": {},
   "source": [
    "## Bài 2. Rút Gọn Phân Số\n",
    "\n",
    "**Input**: Một phân số a/b với 0 < a, b < 10^9 là số nguyên.  \n",
    "**Output**: Phân số a/b sau khi đã rút gọn.  \n",
    "**Ví dụ**:  \n",
    "Ví dụ 1:\n",
    "- Input: a = 20, b = 4\n",
    "- Output: a = 5, b = 1  \n",
    "\n",
    "Ví dụ 2:\n",
    "- Input: a = 7, b = 20\n",
    "- Output: a = 7, b = 20"
   ]
  },
  {
   "cell_type": "code",
   "execution_count": null,
   "metadata": {},
   "outputs": [],
   "source": [
    "def reduce_fraction(a, b):\n",
    "    pass"
   ]
  },
  {
   "cell_type": "code",
   "execution_count": null,
   "metadata": {},
   "outputs": [],
   "source": [
    "# !!! DO NOT MODIFY THIS CELL\n",
    "# Check result on test cases\n",
    "test2(reduce_fraction)"
   ]
  },
  {
   "cell_type": "markdown",
   "metadata": {},
   "source": [
    "## Bài 3. Fibonacci\n",
    "\n",
    "Dãy Fibonacci có dạng 1, 1, 2, 3, 5, 8, 13,... với công thức truy hồi:\n",
    "\\begin{align}\n",
    "    fibo_{n} &= fibo_{n-1} + fibo_{n-2} \\\\\n",
    "    fibo_{1} &= fibo_{2} = 1\n",
    "\\end{align}\n",
    "Sử dụng đệ quy để tìm số Fibonacci thứ *n*.  \n",
    "\n",
    "**Input**: Một số nguyên *0 < n < 1000*.  \n",
    "**Output**: Một số nguyên là số Fibonacci thứ *n*.  \n",
    "**Ví dụ**:\n",
    "\n",
    "Ví dụ 1:\n",
    "- Input: n = 3\n",
    "- Output: 2\n",
    "\n",
    "Ví dụ 2:\n",
    "- Input: n = 6\n",
    "- Output: 8"
   ]
  },
  {
   "cell_type": "code",
   "execution_count": null,
   "metadata": {},
   "outputs": [],
   "source": [
    "def fibonacci(n):\n",
    "    pass"
   ]
  },
  {
   "cell_type": "code",
   "execution_count": null,
   "metadata": {},
   "outputs": [],
   "source": [
    "# !!! DO NOT MODIFY THIS CELL\n",
    "# Check result on test cases\n",
    "test3(fibonacci)"
   ]
  },
  {
   "cell_type": "markdown",
   "metadata": {},
   "source": [
    "## Bài 4. Kiểm Tra Dãy Con\n",
    "\n",
    "Cho hai chuỗi ký tự *str1* và *str2* chỉ bao gồm các chữ cái viết thường từ 'a' đến 'z'. Kiểm tra có thể tạo thành *str2* bằng cách chọn và sắp xếp các phần tử trong *str1* hay không.\n",
    " \n",
    "**Input**: *str1* và *str2* có độ dài < 10^6  \n",
    "**Output**: *True* nếu có thể tạo thành *str2* từ *str1*, ngược lại *False*.  \n",
    "**Ví dụ**:\n",
    "\n",
    "Ví dụ 1:\n",
    "- Input: str1 = \"acbdfe\", str2 = \"face\"\n",
    "- Output: True\n",
    "- Giải thích: Ta có thể chọn các ký tự 'a', 'c', 'e', 'f' từ *str1* và sắp xếp lại để tạo thành *str2*\n",
    "\n",
    "Ví dụ 2:\n",
    "- Input: str1 = \"aabccdef\", str2 = \"faded\"\n",
    "- Output: False\n",
    "- Giải thích: *str1* chỉ có một ký tự 'd', còn *str2* cần hai ký tự 'd'"
   ]
  },
  {
   "cell_type": "code",
   "execution_count": null,
   "metadata": {},
   "outputs": [],
   "source": [
    "def check_substring(str1, str2):\n",
    "    pass"
   ]
  },
  {
   "cell_type": "code",
   "execution_count": null,
   "metadata": {},
   "outputs": [],
   "source": [
    "# !!! DO NOT MODIFY THIS CELL\n",
    "# Check result on test cases\n",
    "test4(check_substring)"
   ]
  },
  {
   "cell_type": "code",
   "execution_count": null,
   "metadata": {},
   "outputs": [],
   "source": []
  }
 ],
 "metadata": {
  "kernelspec": {
   "display_name": "Python 3.10.4 64-bit",
   "language": "python",
   "name": "python3"
  },
  "language_info": {
   "codemirror_mode": {
    "name": "ipython",
    "version": 3
   },
   "file_extension": ".py",
   "mimetype": "text/x-python",
   "name": "python",
   "nbconvert_exporter": "python",
   "pygments_lexer": "ipython3",
   "version": "3.10.4"
  },
  "vscode": {
   "interpreter": {
    "hash": "916dbcbb3f70747c44a77c7bcd40155683ae19c65e1c03b4aa3499c5328201f1"
   }
  }
 },
 "nbformat": 4,
 "nbformat_minor": 4
}
