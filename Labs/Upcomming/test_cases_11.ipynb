{
 "cells": [
  {
   "cell_type": "markdown",
   "metadata": {},
   "source": [
    "## <center>Computer Science Intensive Course - MindX</center>\n",
    "![](./assets/logo.png)\n",
    "# <center>Test Cases 11. THUẬT TOÁN TÌM ĐƯỜNG (1)</center>"
   ]
  },
  {
   "cell_type": "code",
   "execution_count": 37,
   "metadata": {},
   "outputs": [],
   "source": [
    "import numpy as np\n",
    "\n",
    "def test(cases, test_func, condition_func):\n",
    "    \n",
    "    n = len(cases)\n",
    "    print(\"Testing on {} cases.\".format(n))\n",
    "    \n",
    "    count = 0\n",
    "    for i, case in enumerate(cases):\n",
    "        try:\n",
    "            passed = condition_func(test_func, case)\n",
    "            if passed:\n",
    "                print(\"- Test {} PASSED.\".format(i+1))\n",
    "                count += 1\n",
    "            else:\n",
    "                print(\"- Test {} FAILED: Wrong Answer.\".format(i+1))\n",
    "        except Exception as ex:\n",
    "            print(\"An exception occured at test {}: {}.\".format(i+1, ex))\n",
    "            \n",
    "    if count == n:\n",
    "        print(\"CONGRATULATIONS! All test cases passed!\")\n",
    "    else:\n",
    "        print(\"Some test failed. Maybe check some code?\")"
   ]
  },
  {
   "cell_type": "markdown",
   "metadata": {},
   "source": [
    "## Bài 1. Tìm Đường"
   ]
  },
  {
   "cell_type": "code",
   "execution_count": 41,
   "metadata": {},
   "outputs": [],
   "source": [
    "def test1(func):\n",
    "    \n",
    "    graph1 = {0: [4], 1: [2], 2: [1], 3: [4], 4: [0, 3]}\n",
    "    graph2 = {0: [1, 4], 1: [0, 2, 3, 4], 2: [1, 3], 3: [1, 2, 4], 4: [0, 1, 3]}\n",
    "    \n",
    "    test_cases = [\n",
    "        {\"inp\": [{0: [], 1: []}, 0, 1], \"out\": False},\n",
    "        {\"inp\": [{0: [1], 1: [0]}, 1, 0], \"out\": True},\n",
    "        {\"inp\": [graph1, 0, 4], \"out\": True},\n",
    "        {\"inp\": [graph1, 3, 0], \"out\": True},\n",
    "        {\"inp\": [graph1, 3, 2], \"out\": False},\n",
    "        {\"inp\": [graph1, 1, 4], \"out\": False},\n",
    "        {\"inp\": [graph2, 0, 2], \"out\": True},\n",
    "        {\"inp\": [graph2, 2, 0], \"out\": True},\n",
    "        {\"inp\": [graph2, 2, 3], \"out\": True},\n",
    "        {\"inp\": [graph2, 3, 4], \"out\": True},\n",
    "    ]\n",
    " \n",
    "    np.random.seed(2021)\n",
    "    \n",
    "    def condition_func(func, case):\n",
    "        path = func(case['inp'][0], case['inp'][1], case['inp'][2])\n",
    "        if not case['out']:\n",
    "            return len(path) == 0\n",
    "        else:\n",
    "            if len(path) != len(set(path)):\n",
    "                return False\n",
    "            if path[0] != case['inp'][1] or path[-1] != case['inp'][2]:\n",
    "                return False\n",
    "            for i in range(len(path)-1):\n",
    "                if path[i+1] not in case['inp'][0][path[i]]:\n",
    "                    return False\n",
    "        return True\n",
    "    \n",
    "    test(test_cases, func, condition_func)"
   ]
  }
 ],
 "metadata": {
  "kernelspec": {
   "display_name": "Python 3",
   "language": "python",
   "name": "python3"
  },
  "language_info": {
   "codemirror_mode": {
    "name": "ipython",
    "version": 3
   },
   "file_extension": ".py",
   "mimetype": "text/x-python",
   "name": "python",
   "nbconvert_exporter": "python",
   "pygments_lexer": "ipython3",
   "version": "3.8.3"
  }
 },
 "nbformat": 4,
 "nbformat_minor": 4
}
