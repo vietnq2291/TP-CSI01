{
 "cells": [
  {
   "cell_type": "markdown",
   "metadata": {},
   "source": [
    "## <center>Computer Science Intensive Course - MindX</center>\n",
    "![](./assets/logo.png)\n",
    "# <center>Test Cases 1. ÔN TẬP PYTHON</center>"
   ]
  },
  {
   "cell_type": "code",
   "execution_count": 37,
   "metadata": {},
   "outputs": [],
   "source": [
    "def test(cases, test_func, condition_func):\n",
    "    \n",
    "    n = len(cases)\n",
    "    print(\"Testing on {} cases.\".format(n))\n",
    "    \n",
    "    count = 0\n",
    "    for i, case in enumerate(cases):\n",
    "        try:\n",
    "            passed = condition_func(test_func, case)\n",
    "            if passed:\n",
    "                print(\"- Test {} PASSED.\".format(i+1))\n",
    "                count += 1\n",
    "            else:\n",
    "                print(\"- Test {} FAILED: Wrong Answer.\".format(i+1))\n",
    "        except Exception as ex:\n",
    "            print(\"An exception occured at test {}: {}.\".format(i+1, ex))\n",
    "            \n",
    "    if count == n:\n",
    "        print(\"CONGRATULATIONS! All test cases passed!\")\n",
    "    else:\n",
    "        print(\"Some test failed. Maybe check some code?\")"
   ]
  },
  {
   "cell_type": "markdown",
   "metadata": {},
   "source": [
    "## Bài 1. Ví Dụ"
   ]
  },
  {
   "cell_type": "code",
   "execution_count": 41,
   "metadata": {},
   "outputs": [],
   "source": [
    "def test1(func):\n",
    "    \n",
    "    test_cases = [\n",
    "        {\"inp\": \"\", \"out\": \"\"},\n",
    "        {\"inp\": \" \", \"out\": \" \"},\n",
    "        {\"inp\": \"a\", \"out\": \"A\"},\n",
    "        {\"inp\": \"welcome\", \"out\": \"WELCOME\"},\n",
    "        {\"inp\": \"some TEST\", \"out\": \"SOME TEST\"},\n",
    "    ]\n",
    "    \n",
    "    def condition_func(func, case):\n",
    "        return func(case['inp']) == case['out']\n",
    "    \n",
    "    test(test_cases, func, condition_func)"
   ]
  },
  {
   "cell_type": "markdown",
   "metadata": {},
   "source": [
    "## Bài 2. Đường Chéo Hình Vuông"
   ]
  },
  {
   "cell_type": "code",
   "execution_count": null,
   "metadata": {},
   "outputs": [],
   "source": [
    "def test2(func):\n",
    "    \n",
    "    test_cases = [1, 2, 5, 10, 100, 1000, 100000000000]\n",
    "    \n",
    "    def condition_func(func, case):\n",
    "        return func(case) == math.sqrt(2)*case\n",
    "    \n",
    "    test(test_cases, func, condition_func)"
   ]
  },
  {
   "cell_type": "markdown",
   "metadata": {},
   "source": [
    "## Bài 3. Tổng Chữ Số"
   ]
  },
  {
   "cell_type": "code",
   "execution_count": 46,
   "metadata": {},
   "outputs": [],
   "source": [
    "def test3(func):\n",
    "    \n",
    "    test_cases = [\n",
    "        {\"inp\": 1234, \"out\": 10},\n",
    "        {\"inp\": 1111, \"out\": 4},\n",
    "        {\"inp\": 1212, \"out\": 6},\n",
    "        {\"inp\": 9876, \"out\": 30},\n",
    "        {\"inp\": 1000, \"out\": 1},\n",
    "        {\"inp\": 2021, \"out\": 5},\n",
    "    ]\n",
    "    \n",
    "    def condition_func(func, case):\n",
    "        return func(case['inp']) == case['out']\n",
    "    \n",
    "    test(test_cases, func, condition_func)"
   ]
  },
  {
   "cell_type": "markdown",
   "metadata": {},
   "source": [
    "## Bài 4. Thứ Trong Tuần"
   ]
  },
  {
   "cell_type": "code",
   "execution_count": null,
   "metadata": {},
   "outputs": [],
   "source": [
    "def test4(func):\n",
    "    \n",
    "    test_cases = [\n",
    "        {\"inp\": 2, \"out\": \"Monday\"},\n",
    "        {\"inp\": 3, \"out\": \"Tuesday\"},\n",
    "        {\"inp\": 4, \"out\": \"Wednesday\"},\n",
    "        {\"inp\": 5, \"out\": \"Thursday\"},\n",
    "        {\"inp\": 6, \"out\": \"Friday\"},\n",
    "        {\"inp\": 7, \"out\": \"Saturday\"},\n",
    "        {\"inp\": 8, \"out\": \"Sunday\"},\n",
    "    ]\n",
    "    \n",
    "    def condition_func(func, case):\n",
    "        return func(case['inp']) == case['out']\n",
    "    \n",
    "    test(test_cases, func, condition_func)"
   ]
  },
  {
   "cell_type": "markdown",
   "metadata": {},
   "source": [
    "## Bài 5. Tìm Dãy Con"
   ]
  },
  {
   "cell_type": "code",
   "execution_count": null,
   "metadata": {},
   "outputs": [],
   "source": [
    "def test5(func):\n",
    "    \n",
    "    test_cases = [\n",
    "        {\"inp\": [\"abcabcc\", \"c\"], \"out\": 2},\n",
    "        {\"inp\": [\"abcabcc\", \"cab\"], \"out\": 2},\n",
    "        {\"inp\": [\"abcabcc\", \"cabb\"], \"out\": -1},\n",
    "        {\"inp\": [\"a\", \"a\"], \"out\": 0},\n",
    "        {\"inp\": [\"a\", \"b\"], \"out\": -1},\n",
    "        {\"inp\": [\"weofhowihfoewewopwfoiewhoi\", \"hoi\"], \"out\": 23},\n",
    "        {\"inp\": [\"Test substring\", \"t s\"], \"out\": 3},\n",
    "    ]\n",
    "    \n",
    "    def condition_func(func, case):\n",
    "        return func(case['inp'][0], case['inp'][1]) == case['out']\n",
    "    \n",
    "    test(test_cases, func, condition_func)"
   ]
  }
 ],
 "metadata": {
  "kernelspec": {
   "display_name": "Python 3",
   "language": "python",
   "name": "python3"
  },
  "language_info": {
   "codemirror_mode": {
    "name": "ipython",
    "version": 3
   },
   "file_extension": ".py",
   "mimetype": "text/x-python",
   "name": "python",
   "nbconvert_exporter": "python",
   "pygments_lexer": "ipython3",
   "version": "3.8.3"
  }
 },
 "nbformat": 4,
 "nbformat_minor": 4
}
