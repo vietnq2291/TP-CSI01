{
 "cells": [
  {
   "cell_type": "markdown",
   "metadata": {},
   "source": [
    "## <center>Computer Science Intensive Course - MindX</center>\n",
    "![](./assets/logo.png)\n",
    "# <center>Test Cases 13. TỔNG KẾT CUỐI KHÓA</center>"
   ]
  },
  {
   "cell_type": "code",
   "execution_count": 37,
   "metadata": {},
   "outputs": [],
   "source": [
    "def test(cases, test_func, condition_func):\n",
    "    \n",
    "    n = len(cases)\n",
    "    print(\"Testing on {} cases.\".format(n))\n",
    "    \n",
    "    count = 0\n",
    "    for i, case in enumerate(cases):\n",
    "        try:\n",
    "            passed = condition_func(test_func, case)\n",
    "            if passed:\n",
    "                print(\"- Test {} PASSED.\".format(i+1))\n",
    "                count += 1\n",
    "            else:\n",
    "                print(\"- Test {} FAILED: Wrong Answer.\".format(i+1))\n",
    "        except Exception as ex:\n",
    "            print(\"An exception occured at test {}: {}.\".format(i+1, ex))\n",
    "            \n",
    "    if count == n:\n",
    "        print(\"CONGRATULATIONS! All test cases passed!\")\n",
    "    else:\n",
    "        print(\"Some tests failed. Maybe check some code?\")"
   ]
  },
  {
   "cell_type": "markdown",
   "metadata": {},
   "source": [
    "## Bài 1. Phân Số Ai Cập"
   ]
  },
  {
   "cell_type": "code",
   "execution_count": 41,
   "metadata": {},
   "outputs": [],
   "source": [
    "def test1(func):\n",
    "    \n",
    "    test_cases = [\n",
    "        {\"inp\": [1, 2], \"out\": 2},\n",
    "        {\"inp\": [1, 3], \"out\": 3},\n",
    "        {\"inp\": [1, 20], \"out\": 20},\n",
    "        {\"inp\": [2, 3], \"out\": 6},\n",
    "        {\"inp\": [3, 17], \"out\": 102},\n",
    "        {\"inp\": [17, 379], \"out\": 16458112468710820732033653},\n",
    "        {\"inp\": [999, 1000], \"out\": 1404249000},\n",
    "        {\"inp\": [32897, 32898], \"out\": 5299480756784575552120686291808},\n",
    "        {\"inp\": [2, 99999], \"out\": 4999950000},\n",
    "        {\"inp\": [99998, 99999], \"out\": 5284411025933400076310026320},\n",
    "    ]\n",
    "    \n",
    "    def condition_func(func, case):\n",
    "        return func(case['inp'][0], case['inp'][1])[-1] == case['out']\n",
    "    \n",
    "    test(test_cases, func, condition_func)"
   ]
  },
  {
   "cell_type": "markdown",
   "metadata": {},
   "source": [
    "## Bài 2. Chuỗi Đối Xứng"
   ]
  },
  {
   "cell_type": "code",
   "execution_count": null,
   "metadata": {},
   "outputs": [],
   "source": [
    "def test2(func):\n",
    "    \n",
    "    test_cases = [\n",
    "        {\"inp\": \"a\", \"out\": 0},\n",
    "        {\"inp\": \"abcabcc\", \"out\": 3},\n",
    "        {\"inp\": \"abcacba\", \"out\": 0},\n",
    "        {\"inp\": \"iwefoabcacbakdbwo\", \"out\": 5},\n",
    "        {\"inp\": \"weofhowihfoewewopwfoiewhoi\", \"out\": 13},\n",
    "        {\"inp\": \"Test substring\", \"out\": 7},\n",
    "        {\"inp\": \"abcdef\"*2 + \"fdecba\"*2, \"out\": 11},\n",
    "        {\"inp\": \"egiuiugiuh\" + \"abcdef\"*2 + \"fedcba\"*2 + \"egiuiugiuh\", \"out\": 10},\n",
    "        {\"inp\": \"egiuiugiuh\"*20 + \"abcdeffedcba\"*1000 + \"egiuiugiuh\"*20, \"out\": 200},\n",
    "        {\"inp\": \"a\"*100000, \"out\": 0},\n",
    "        {\"inp\": \"egiuiugiuh\"*5000 + \"a\"*99999 + \"egiuiugiuh\"*5000, \"out\": 50000},        \n",
    "    ]\n",
    "    \n",
    "    \n",
    "    def condition_func(func, case):\n",
    "        return func(case['inp']) == case['out']\n",
    "    \n",
    "    test(test_cases, func, condition_func)"
   ]
  },
  {
   "cell_type": "markdown",
   "metadata": {},
   "source": [
    "## Bài 3. Chuyển Đổi Chuỗi"
   ]
  },
  {
   "cell_type": "code",
   "execution_count": 5,
   "metadata": {},
   "outputs": [],
   "source": [
    "import numpy as np\n",
    "\n",
    "def test3(func):\n",
    "    \n",
    "    test_cases = [\n",
    "        {\"inp\": 1, \"out\": 1},\n",
    "        {\"inp\": 2, \"out\": 0},\n",
    "        {\"inp\": 5, \"out\": 3},\n",
    "        {\"inp\": 10, \"out\": 6},\n",
    "        {\"inp\": 50, \"out\": 21},\n",
    "        {\"inp\": 100, \"out\": 49},\n",
    "        {\"inp\": 984, \"out\": 498},\n",
    "        {\"inp\": 1000, \"out\": 502},\n",
    "        {\"inp\": 9999, \"out\": 4985},\n",
    "        {\"inp\": 99999, \"out\": 49924},\n",
    "    ]\n",
    "    \n",
    "    np.random.seed(2021)\n",
    "    \n",
    "    def condition_func(func, case):\n",
    "        arr_a = np.random.randint(2, size=case['inp'])\n",
    "        arr_b = np.random.randint(2, size=case['inp'])\n",
    "        return func(''.join(arr_a.astype(str)), ''.join(arr_b.astype(str))) == case['out']\n",
    "    \n",
    "    test(test_cases, func, condition_func)"
   ]
  },
  {
   "cell_type": "markdown",
   "metadata": {},
   "source": [
    "## Bài 4. Chuột và Mê Cung"
   ]
  },
  {
   "cell_type": "code",
   "execution_count": null,
   "metadata": {},
   "outputs": [],
   "source": [
    "def test4(func):\n",
    "    \n",
    "    test_cases = [\n",
    "        {\"inp\": 1, \"out\": 0},\n",
    "        {\"inp\": 3, \"out\": 0},\n",
    "        {\"inp\": 5, \"out\": 0},\n",
    "        {\"inp\": 7, \"out\": 0},\n",
    "        {\"inp\": 8, \"out\": 1},\n",
    "        {\"inp\": 9, \"out\": 3},\n",
    "        {\"inp\": 10, \"out\": 3},\n",
    "        {\"inp\": 14, \"out\": 3},\n",
    "        {\"inp\": 15, \"out\": 4},\n",
    "        {\"inp\": 20, \"out\": 4},\n",
    "    ]\n",
    "    \n",
    "    def condition_func(func, case):\n",
    "        \n",
    "        maze = [\n",
    "            ['X','X','X','X','X','X','X','X','X','X'],\n",
    "            ['X',' ',' ',' ',' ',' ','X',' ',' ','X'],\n",
    "            ['X',' ','X',' ',' ','M','X',' ','M','X'],\n",
    "            ['X',' ','X','X','X',' ','X',' ',' ','X'],\n",
    "            ['X','M',' ',' ','X',' ','X',' ',' ','X'],\n",
    "            ['X',' ',' ',' ','X',' ',' ',' ','X','X'],\n",
    "            ['X',' ','X','X','X',' ',' ',' ',' ','X'],\n",
    "            ['X',' ','X',' ',' ',' ','X',' ',' ','X'],\n",
    "            ['X',' ',' ','M',' ',' ','X',' ','E','X'],\n",
    "            ['X','X','X','X','X','X','X','X','X','X']\n",
    "        ]\n",
    "        \n",
    "        return func(maze, case['inp']) == case['out']\n",
    "    \n",
    "    test(test_cases, func, condition_func)"
   ]
  }
 ],
 "metadata": {
  "kernelspec": {
   "display_name": "Python 3",
   "language": "python",
   "name": "python3"
  },
  "language_info": {
   "codemirror_mode": {
    "name": "ipython",
    "version": 3
   },
   "file_extension": ".py",
   "mimetype": "text/x-python",
   "name": "python",
   "nbconvert_exporter": "python",
   "pygments_lexer": "ipython3",
   "version": "3.8.3"
  }
 },
 "nbformat": 4,
 "nbformat_minor": 4
}
