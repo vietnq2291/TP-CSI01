{
 "cells": [
  {
   "cell_type": "markdown",
   "metadata": {},
   "source": [
    "## <center>Computer Science Intensive Course - MindX</center>\n",
    "![](./assets/logo.png)\n",
    "# <center>LAB 13. TỔNG KẾT CUỐI KHÓA</center>"
   ]
  },
  {
   "cell_type": "code",
   "execution_count": null,
   "metadata": {},
   "outputs": [],
   "source": [
    "# run this cell FIRST\n",
    "%run test_cases_13.ipynb"
   ]
  },
  {
   "cell_type": "markdown",
   "metadata": {},
   "source": [
    "## Bài 1. Phân Số Ai Cập\n",
    "\n",
    "Mọi phân số dương bé hơn 1 đều có thể được biểu diễn bằng tổng của các phân số đơn vị không trùng nhau. Phân số đơn vị là một phân số có tử số bằng 1. Cách biểu diễn như vậy được gọi là phân số Ai Cập.\n",
    "\n",
    "**Ví dụ**: Dạng phân số Ai Cập của các phân số:\n",
    "- 2/3 = 1/2 + 1/6\n",
    "- 6/14 = 1/3 + 1/11 + 1/231\n",
    "- 12/13 = 1/2 + 1/3 + 1/12 + 1/156\n",
    "\n",
    "**Yêu cầu**: Cho một phân số dương với *0 < tử số < mẫu số < 10<sup>6</sup>*, hãy tìm dạng phân số Ai Cập của phân số đó.\n",
    "\n",
    "**Input**: Hai số nguyên dương là tử số và mẫu số.  \n",
    "**Output**: Một list chứa các số nguyên dương là mẫu số của các phân số trong dạng biểu diễn Ai Cập. Sắp xếp theo thứ tự tăng dần.  \n",
    "**Ví dụ**:  \n",
    "- Input: 6, 14\n",
    "- Output: [3, 11, 231]"
   ]
  },
  {
   "cell_type": "code",
   "execution_count": null,
   "metadata": {},
   "outputs": [],
   "source": [
    "def get_egyptian_fractions(numer, denor):\n",
    "    pass"
   ]
  },
  {
   "cell_type": "code",
   "execution_count": null,
   "metadata": {},
   "outputs": [],
   "source": [
    "# !!! DO NOT MODIFY THIS CELL\n",
    "# Check result on test cases\n",
    "test1(get_egyptian_fractions)"
   ]
  },
  {
   "cell_type": "markdown",
   "metadata": {},
   "source": [
    "## Bài 2. Chuỗi Đối Xứng\n",
    "\n",
    "Chuỗi đối xứng là một chuỗi sao cho khi đảo ngược các phần tử, ta thu được một chuỗi giống hệt chuỗi ban đầu.  \n",
    "Ví dụ một số chuỗi đối xứng: 'a', 'aabbaa', 'abcba', 'MindXdniM'.  \n",
    "\n",
    "**Yêu cầu**: Cho một chuỗi, hãy tìm số bước ít nhất để cắt chuỗi đã cho thành một chuỗi đối xứng. Biết ở mỗi bước cắt, ta cũng xóa một phần tử ở đầu và một phần tử ở cuối chuỗi một cách đối xứng.\n",
    "\n",
    "**Input**: Một chuỗi ký tự có độ dài *0 < n < 10<sup>6</sup>*.  \n",
    "**Output**: Một số nguyên là số lần cắt ít nhất để thu được một chuỗi đối xứng. Chú ý chuỗi rỗng cũng được coi là một chuỗi đối xứng.  \n",
    "**Ví dụ**:  \n",
    "\n",
    "Ví dụ 1:\n",
    "- Input: 'abcxyzyxabc'\n",
    "- Output: 3\n",
    "- Giải thích: ta cắt ba lần: 'abcxyzyxabc' -> 'bcxyzyxab' -> 'cxyzyxa' -> 'xyzyx'\n",
    "\n",
    "Ví dụ 2:\n",
    "- Input: 'abcba'\n",
    "- Output: 0\n",
    "\n",
    "Ví dụ 3:\n",
    "- Input: 'abcdef'\n",
    "- Output: 3"
   ]
  },
  {
   "cell_type": "code",
   "execution_count": null,
   "metadata": {},
   "outputs": [],
   "source": [
    "def count_trims(inp_str):\n",
    "    pass"
   ]
  },
  {
   "cell_type": "code",
   "execution_count": null,
   "metadata": {},
   "outputs": [],
   "source": [
    "# !!! DO NOT MODIFY THIS CELL\n",
    "# Check result on test cases\n",
    "test2(count_trims)"
   ]
  },
  {
   "cell_type": "markdown",
   "metadata": {},
   "source": [
    "## Bài 3. Chuyển Đổi Chuỗi\n",
    "\n",
    "Cho hai chuỗi nhị phân A, B có độ dài bằng nhau chỉ chứa các phần tử '0' và '1'. Hãy tìm số bước ít nhất để biến đổi A thành B. Biết ở mỗi bước, ta chọn một dãy con ngoài cùng bên trái của A và đổi tất cả phần tử trong dãy đó từ '0' thành '1' và từ '1' thành '0'.\n",
    "\n",
    "**Ví dụ**: Cho A = '0110', B = '1011'. Ta thực hiện 3 bước chuyển đổi:\n",
    "- '<b>0110</b>' -> '1001'&nbsp;&nbsp;&nbsp;(chọn dãy con 4 phần tử)\n",
    "- '<b>100</b>1' -> '0111'&nbsp;&nbsp;&nbsp;(chọn dãy con 3 phần tử)\n",
    "- '<b>01</b>11' -> '1011'&nbsp;&nbsp;&nbsp;(chọn dãy con 2 phần tử)\n",
    "\n",
    "**Input**: Hai chuỗi nhị phân A, B có độ dài *0 < n < 10<sup>6</sup>* kí tự.  \n",
    "**Output**: Một số nguyên là số bước ít nhất để biến đổi A thành B.  \n",
    "**Ví dụ**:  \n",
    "\n",
    "Ví dụ 1:\n",
    "- Input: '0110', '1011'\n",
    "- Output: 3\n",
    "\n",
    "Ví dụ 2:\n",
    "- Input: '011', '000'\n",
    "- Output: 2"
   ]
  },
  {
   "cell_type": "code",
   "execution_count": null,
   "metadata": {},
   "outputs": [],
   "source": [
    "def count_operations(str_a, str_b):\n",
    "    pass"
   ]
  },
  {
   "cell_type": "code",
   "execution_count": null,
   "metadata": {},
   "outputs": [],
   "source": [
    "# !!! DO NOT MODIFY THIS CELL\n",
    "# Check result on test cases\n",
    "test3(count_operations)"
   ]
  },
  {
   "cell_type": "markdown",
   "metadata": {},
   "source": [
    "## Bài 4. Chuột và Mê Cung\n",
    "\n",
    "Có N chú chuột được thả vào một mê cung và được cho K giây để thoát ra. Được biết các chú chuột này rất thông minh và sẽ lựa chọn đường ngắn nhất để thoát ra khỏi mê cung. Hãy đếm số chú chuột có thể thoát ra khỏi mê cung trong K giây, biết:\n",
    "- Mê cung có dạng hình chữ nhật được lưu trong biến <code>maze</code> với định dạng:\n",
    "  + 'X' là các mảng tường của mê cung. Các mảng tường này bao toàn bộ biên của mê cung và chắn các đường đi trong mê cung.\n",
    "  + '&nbsp;&nbsp;' là đường đi trong mê cung.\n",
    "  + 'E' là lối thoát duy nhất của mê cung.\n",
    "  + 'M' là vị trí bắt đầu của mỗi chú chuột.\n",
    "- Mỗi chú chuột có thể di chuyển giữa các ô không phải tường theo chiều ngang hoặc chiều dọc. Thời gian di chuyển giữa hai ô liền kề bằng đúng một giây.  \n",
    "- Khi bắt đầu, mỗi chú chuột được đặt ở một ô riêng. Tuy nhiên, trong quá trình di chuyển, nhiều chú chuột có thể ở cùng một ô trong cùng một thời điểm.\n",
    "- Một chú chuột được coi là đã thoát khỏi mê cung nếu đến được ô 'E' trong không quá K giây.  \n",
    "\n",
    "**Ví dụ**: Chú chuột ở góc trên cùng bên phải có thể đến được lối thoát nhanh nhất trong 8 giây bằng đường đi:\n",
    "- Xuống 2 ô\n",
    "- Sang trái 1 ô\n",
    "- Xuống 4 ô\n",
    "- Sang phải 1 ô\n",
    "\n",
    "**Input**: Một mê cung với định dạng bên dưới, có diện tích < 1000 và một số nguyên *0 < K < 10<sup>6</sup>* là số giây hạn định.  \n",
    "**Output**: Một số nguyên là số chú chuột có thể thoát ra khỏi mê cung trong tối đa K giây.  \n",
    "**Ví dụ**:  \n",
    "\n",
    "Ví dụ 1:\n",
    "- Input: <code>maze</code>, 7\n",
    "- Output: 0\n",
    "\n",
    "Ví dụ 2:\n",
    "- Input: <code>maze</code>, 8\n",
    "- Output: 1"
   ]
  },
  {
   "cell_type": "code",
   "execution_count": null,
   "metadata": {},
   "outputs": [],
   "source": [
    "maze = [\n",
    "    ['X','X','X','X','X','X','X','X','X','X'],\n",
    "    ['X',' ',' ',' ',' ',' ','X',' ',' ','X'],\n",
    "    ['X',' ','X',' ',' ','M','X',' ','M','X'],\n",
    "    ['X',' ','X','X','X',' ','X',' ',' ','X'],\n",
    "    ['X','M',' ',' ','X',' ','X',' ',' ','X'],\n",
    "    ['X',' ',' ',' ','X',' ',' ',' ','X','X'],\n",
    "    ['X',' ','X','X','X',' ',' ',' ',' ','X'],\n",
    "    ['X',' ','X',' ',' ',' ','X',' ',' ','X'],\n",
    "    ['X',' ',' ','M',' ',' ','X',' ','E','X'],\n",
    "    ['X','X','X','X','X','X','X','X','X','X']\n",
    "]"
   ]
  },
  {
   "cell_type": "code",
   "execution_count": null,
   "metadata": {},
   "outputs": [],
   "source": [
    "def count_escaping_mouses(maze, time):\n",
    "    pass"
   ]
  },
  {
   "cell_type": "code",
   "execution_count": null,
   "metadata": {},
   "outputs": [],
   "source": [
    "# !!! DO NOT MODIFY THIS CELL\n",
    "# Check result on test cases\n",
    "test4(count_escaping_mouses)"
   ]
  },
  {
   "cell_type": "code",
   "execution_count": null,
   "metadata": {},
   "outputs": [],
   "source": []
  }
 ],
 "metadata": {
  "kernelspec": {
   "display_name": "Python 3.10.4 64-bit",
   "language": "python",
   "name": "python3"
  },
  "language_info": {
   "codemirror_mode": {
    "name": "ipython",
    "version": 3
   },
   "file_extension": ".py",
   "mimetype": "text/x-python",
   "name": "python",
   "nbconvert_exporter": "python",
   "pygments_lexer": "ipython3",
   "version": "3.10.4"
  },
  "vscode": {
   "interpreter": {
    "hash": "916dbcbb3f70747c44a77c7bcd40155683ae19c65e1c03b4aa3499c5328201f1"
   }
  }
 },
 "nbformat": 4,
 "nbformat_minor": 4
}
