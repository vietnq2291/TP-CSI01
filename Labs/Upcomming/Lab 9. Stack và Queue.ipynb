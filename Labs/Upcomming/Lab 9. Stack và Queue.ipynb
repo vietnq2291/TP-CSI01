{
 "cells": [
  {
   "cell_type": "markdown",
   "metadata": {},
   "source": [
    "## <center>Computer Science Intensive Course - MindX</center>\n",
    "![](./assets/logo.png)\n",
    "# <center>LAB 9. STACK VÀ QUEUE</center>"
   ]
  },
  {
   "cell_type": "code",
   "execution_count": null,
   "metadata": {},
   "outputs": [],
   "source": [
    "# run this cell FIRST\n",
    "%run test_cases_9.ipynb"
   ]
  },
  {
   "cell_type": "markdown",
   "metadata": {},
   "source": [
    "## Bài 1. Dãy Con Chẵn\n",
    "\n",
    "Cho một chuỗi chỉ bao gồm các ký tự '0' và '1'. Ta có thể thay đổi chuỗi bằng cách xóa một dãy con liên tục chỉ chứa '0' hoặc '1' và có độ dài chẵn.\n",
    "\n",
    "**Yêu cầu**: Hãy thực hiện các thay đổi theo quy tắc trên lên chuỗi để thu được chuỗi kết quả ngắn nhất có thể.\n",
    "\n",
    "**Input**: Một chuỗi bao gồm các ký tự '0' và '1' có độ dài *0 < n < 10<sup>6</sup>*.  \n",
    "**Output**: Chuỗi ngắn nhất tạo được sau khi thực hiện các thay đổi.  \n",
    "**Ví dụ**:  \n",
    "\n",
    "Ví dụ 1:\n",
    "- Input: \"10100001\"\n",
    "- Output: \"10\"\n",
    "- Giải thích: Ta thực hiện các bước xóa sau: \"10100001\" => \"101**0000**1\" => \"1011\" => \"10**11**\" => \"10\".\n",
    "\n",
    "Ví dụ 2:\n",
    "- Input: \"1001\"\n",
    "- Output: \"\"\n",
    "- Giải thích: \"1001\" => \"1**00**1\" => \"11\" => \"**11**\" => \"\""
   ]
  },
  {
   "cell_type": "code",
   "execution_count": null,
   "metadata": {},
   "outputs": [],
   "source": [
    "def reduce(sequence):\n",
    "    pass"
   ]
  },
  {
   "cell_type": "code",
   "execution_count": null,
   "metadata": {},
   "outputs": [],
   "source": [
    "# !!! DO NOT MODIFY THIS CELL\n",
    "# Check result on test cases\n",
    "test1(reduce)"
   ]
  },
  {
   "cell_type": "markdown",
   "metadata": {},
   "source": [
    "## Bài 2. Dãy Ngoặc Đúng (2)\n",
    "\n",
    "**Yêu cầu**: Cho một dãy các dấu ngoặc bao gồm ngoặc đơn <code>( )</code>, ngoặc vuông <code>[ ]</code> và ngoặc nhọn <code>{ }</code>, hãy kiểm tra dãy ngoặc có hợp lệ hay không. Biết một dãy ngoặc hợp lệ khi mỗi ngoặc mở đều có ngoặc đóng tương ứng và ngược lại.\n",
    "\n",
    "**Input**: Một chuỗi bao gồm ba loại ngoặc có độ dài *0 < n < 10<sup>6</sup>*.  \n",
    "**Output**: Trả về True nếu dãy ngoặc hợp lệ, ngược lại trả về False.  \n",
    "**Ví dụ**:  \n",
    "\n",
    "Ví dụ 1:  \n",
    "- Input: \"([{}])({})\"\n",
    "- Output: True\n",
    "\n",
    "Ví dụ 2:  \n",
    "- Input: \"([{])({})\"\n",
    "- Output: False"
   ]
  },
  {
   "cell_type": "code",
   "execution_count": null,
   "metadata": {},
   "outputs": [],
   "source": [
    "def is_valid(sequence):\n",
    "    pass"
   ]
  },
  {
   "cell_type": "code",
   "execution_count": null,
   "metadata": {},
   "outputs": [],
   "source": [
    "# !!! DO NOT MODIFY THIS CELL\n",
    "# Check result on test cases\n",
    "test2(is_valid)"
   ]
  },
  {
   "cell_type": "markdown",
   "metadata": {},
   "source": [
    "## Bài 3. Postfix\n",
    "\n",
    "Trong toán học và lập trình, các biểu thức thường được viết dưới dạng *infix*, có nghĩa các toán tử nằm giữa các toán hạng.  \n",
    "Ví dụ: <code>((100 + 2^3)/2)*5 + 7</code>.  \n",
    "\n",
    "*Postfix* là một dạng khác của biểu thức. Biểu thức viết dưới dạng *postfix* có thể được xử lý dễ dàng hơn *infix* do không cần sử dụng dấu ngoặc để thể hiện độ ưu tiên. Ví dụ, biểu thức *infix* trên có thể viết dưới dạng *postfix* như sau: <code>100 2 3 ^ + 2 / 5 * 7 +</code>\n",
    "\n",
    "Ta có thể tính toán biểu thức *postfix* chỉ chứa các toán tử hai ngôi (<code>+ - * / ^</code>) bằng cách duyệt biểu thức từ trái sang phải:\n",
    "- Bỏ qua toán hạng\n",
    "- Nếu gặp toán tử, thực hiện phép toán trên hai toán hạng liền kề bên trái\n",
    "\n",
    "**Ví dụ**: tính giá trị của biểu thức <code>100 2 3 ^ + 2 / 5 * 7 +</code>\n",
    "<pre>\n",
    "  100 <b>2 3 ^</b> + 2 / 5 * 7 +\n",
    "= <b>100   <i>8</i>   +</b> 2 / 5 * 7 +\n",
    "=      <b><i>108</i>    2 /</b> 5 * 7 +     \n",
    "=          <b><i>54</i>     5 *</b> 7 +\n",
    "=            <b><i>270</i>      7 +</b>\n",
    "=                277\n",
    "</pre>\n",
    "\n",
    "**Yêu cầu**: Cho một biểu thức toán học dạng *postfix* bao gồm số thực dương và các toán tử hai ngôi (<code>+ - * / ^</code>), hãy tính giá trị của biểu thức.  \n",
    "\n",
    "**Input**: Một biểu thức *postfix* dưới dạng string, mỗi toán tử và toán hạng cách nhau bằng đúng một dấu cách.  \n",
    "**Output**: Một số thực là giá trị của biểu thức. Test case đảm bảo mọi biểu thức đều hợp lệ và có giá trị là số thực.  \n",
    "**Ví dụ**:\n",
    "- Input: \"100 2 3 ^ + 2 / 5 * 7 +\"\n",
    "- Output: 277.0"
   ]
  },
  {
   "cell_type": "code",
   "execution_count": null,
   "metadata": {},
   "outputs": [],
   "source": [
    "def eval_postfix(expression):\n",
    "    pass"
   ]
  },
  {
   "cell_type": "code",
   "execution_count": null,
   "metadata": {},
   "outputs": [],
   "source": [
    "# !!! DO NOT MODIFY THIS CELL\n",
    "# Check result on test cases\n",
    "test3(eval_postfix)"
   ]
  },
  {
   "cell_type": "markdown",
   "metadata": {},
   "source": [
    "## Bài 4. Chuyển Đổi Infix Và Postfix\n",
    "\n",
    "Ta đã biết biểu thức *postfix* có thể được xử lý dễ dàng hơn *infix*. Trong bài tập này, ta sẽ tìm hiểu cách chuyển đổi biểu thức từ dạng *infix* sang *postfix*.\n",
    "\n",
    "**Thuật toán** chuyển đổi biểu thức từ dạng *infix* sang *postfix* như sau:\n",
    "0. Ta định nghĩa độ ưu tiên của các toán tử: <code>^</code> có độ ưu tiên cao nhất, tiếp theo là <code>* /</code>, sau đó là <code>+ -</code>, cuối cùng là <code>(</code> \n",
    "1. Tạo một mảng <code>postfix</code> để lưu các phần tử trong theo thứ tự *postfix* và một stack để hỗ trợ xử lý\n",
    "2. Duyệt biểu thức *infix* từ trái sang phải:\n",
    "   - Nếu tìm thấy toán hạng, đưa thẳng vào <code>postfix</code>\n",
    "   - Nếu tìm thấy toán tử:\n",
    "      + Nếu là <code>+ - * / ^</code>, đưa tất cả toán tử có độ ưu tiên cao hơn hoặc bằng nó trong <code>stack</code> vào <code>postfix</code>, sau đó đưa toán tử đang xét vào <code>stack</code>\n",
    "      + Nếu là <code>(</code>, đưa vào <code>stack</code>\n",
    "      + Nếu là <code>)</code>, đưa tất cả toán tử nằm sau <code>(</code> trong <code>stack</code> vào <code>postfix</code>\n",
    "3. Đưa tất cả toán tử còn lại trong <code>stack</code> vào <code>postfix</code>\n",
    "     \n",
    "**Ví dụ**: chuyển đổi biểu thức \"5 ^ 2 / ( 5 * 3 ) + 2\" thành postfix\n",
    "<pre>\n",
    "       infix           |      postfix        | stack  |  giải thích\n",
    "5 ^ 2 / ( 5 * 3 ) + 2  |                     |        |\n",
    "  ^ 2 / ( 5 * 3 ) + 2  |  5                  |        | 5 là toán hạng, đưa vào postfix\n",
    "    2 / ( 5 * 3 ) + 2  |  5                  | ^      | ^ là toán tử, stack đang rỗng, đưa vào stack\n",
    "      / ( 5 * 3 ) + 2  |  5 2                | ^      | 2 là toán hạng => postfix\n",
    "        ( 5 * 3 ) + 2  |  5 2 ^              | /      | / là toán tử, cuối stack chứa ^ có độ ưu tiên cao hơn /\n",
    "          5 * 3 ) + 2  |  5 2 ^              | / (    | ngoặc mở => stack\n",
    "            * 3 ) + 2  |  5 2 ^ 5            | / (    | 5 là toán hạng => postfix\n",
    "              3 ) + 2  |  5 2 ^ 5            | / ( *  | * là toán tử, cuối stack chứa ( có độ ưu tiên thấp hơn *\n",
    "                ) + 2  |  5 2 ^ 5 3          | / ( *  | 3 là toán hạng => postfix\n",
    "                  + 2  |  5 2 ^ 5 3 *        | /      | ngoặc đóng => đưa tất cả toán tử sau ( vào postfix\n",
    "                    2  |  5 2 ^ 5 3 * /      | +      | + là toán tử, cuối stack chứa / => đưa / vào postfix\n",
    "                       |  5 2 ^ 5 3 * / 2    | +      | 2 là toán hạng => postfix\n",
    "                       |  5 2 ^ 5 3 * / 2 +  |        | đưa tất cả toán tử còn lại trong stack vào postfix\n",
    "</pre>\n",
    "\n",
    "\n",
    "**Yêu cầu**: Cho một biểu thức toán học dạng *infix*, hãy chuyển đổi biểu thức thành dạng *postfix* và tính giá trị của biểu thức bằng hàm đã viết ở bài trên. Biểu thức *infix* bao gồm số thực dương, các toán tử hai ngôi (<code>+ - * / ^</code>) và dấu ngoặc đơn <code>( )</code>.   \n",
    "\n",
    "**Input**: Một biểu thức *infix* dưới dạng string, mỗi toán tử, toán hạng và dấu ngoặc cách nhau bằng đúng một dấu cách.  \n",
    "**Output**: Một string là biểu thức dưới dạng *postfix* và một số thực là giá trị của biểu thức. Test case đảm bảo mọi biểu thức đều hợp lệ và có giá trị là số thực.  \n",
    "**Ví dụ**:\n",
    "- Input: \"5 ^ 2 / ( 5 * 3 ) + 2\"\n",
    "- Output: \"5 2 ^ 5 3 * / 2 +\", 3.666666666666667"
   ]
  },
  {
   "cell_type": "code",
   "execution_count": null,
   "metadata": {},
   "outputs": [],
   "source": [
    "def infix_to_postfix_evaluate(infix):\n",
    "    pass"
   ]
  },
  {
   "cell_type": "code",
   "execution_count": null,
   "metadata": {},
   "outputs": [],
   "source": [
    "# !!! DO NOT MODIFY THIS CELL\n",
    "# Check result on test cases\n",
    "test4(infix_to_postfix_evaluate)"
   ]
  },
  {
   "cell_type": "code",
   "execution_count": null,
   "metadata": {},
   "outputs": [],
   "source": []
  }
 ],
 "metadata": {
  "kernelspec": {
   "display_name": "Python 3.10.4 64-bit",
   "language": "python",
   "name": "python3"
  },
  "language_info": {
   "codemirror_mode": {
    "name": "ipython",
    "version": 3
   },
   "file_extension": ".py",
   "mimetype": "text/x-python",
   "name": "python",
   "nbconvert_exporter": "python",
   "pygments_lexer": "ipython3",
   "version": "3.10.4"
  },
  "vscode": {
   "interpreter": {
    "hash": "916dbcbb3f70747c44a77c7bcd40155683ae19c65e1c03b4aa3499c5328201f1"
   }
  }
 },
 "nbformat": 4,
 "nbformat_minor": 4
}
