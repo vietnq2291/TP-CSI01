{
 "cells": [
  {
   "cell_type": "markdown",
   "metadata": {},
   "source": [
    "## <center>Computer Science Intensive Course - MindX</center>\n",
    "![](./assets/logo.png)\n",
    "# <center>LAB 6. THUẬT TOÁN SẮP XẾP (2)</center>"
   ]
  },
  {
   "cell_type": "code",
   "execution_count": null,
   "metadata": {},
   "outputs": [],
   "source": [
    "# run this cell FIRST\n",
    "%run test_cases_6.ipynb"
   ]
  },
  {
   "cell_type": "markdown",
   "metadata": {},
   "source": [
    "## Bài 1. Quick Sort Partition\n",
    "\n",
    "Ta đã biết Quicksort rơi vào trường hợp xấu nhất khi *pivot* được chọn luôn luôn là phần tử lớn nhất hoặc nhỏ nhất. Đối với code trên bài học, trường hợp này xảy ra khi dãy đã được sắp xếp (tăng dần hoặc giảm dần).  \n",
    "\n",
    "Ta có thể chạy thử trường hợp này ở hai đoạn code phía dưới: sắp xếp dãy 10000 phần tử đã được sắp xếp giảm dần."
   ]
  },
  {
   "cell_type": "code",
   "execution_count": null,
   "metadata": {},
   "outputs": [],
   "source": [
    "num_arr = [i for i in range(9999, -1, -1)]\n",
    "print(\"Before sorting: {} ... {}\".format(num_arr[:10], num_arr[-10:]))\n",
    "\n",
    "merge_sort(num_arr, 0, 10000)\n",
    "print(\"After sorting: {} ... {}\".format(num_arr[:10], num_arr[-10:]))"
   ]
  },
  {
   "cell_type": "code",
   "execution_count": null,
   "metadata": {},
   "outputs": [],
   "source": [
    "num_arr = [i for i in range(9999, -1, -1)]\n",
    "print(\"Before sorting: {} ... {}\".format(num_arr[:10], num_arr[-10:]))\n",
    "\n",
    "quick_sort(num_arr, 0, 10000)\n",
    "print(\"After sorting: {} ... {}\".format(num_arr[:10], num_arr[-10:]))"
   ]
  },
  {
   "cell_type": "markdown",
   "metadata": {},
   "source": [
    "*Nhận xét*: Merge Sort có thể chạy rất tốt, trong khi Quicksort bị lỗi gọi đệ quy quá nhiều lần.  "
   ]
  },
  {
   "cell_type": "markdown",
   "metadata": {},
   "source": [
    "**Yêu cầu**: Hãy viết hàm *partition_mid* chọn *pivot* là phần tử nằm chính giữa dãy, chuyển tất cả phần tử nhỏ hơn hoặc bằng *pivot* về bên trái và tất cả phần tử lớn hơn hoặc bằng *pivot* về bên phải. Biết index của phần tử chính giữa dãy được tính bằng công thức *mid = (len(arr)-1)//2*.  \n",
    "\n",
    "**Input**: Một dãy *arr* chứa *1 < n < 10<sup>6</sup>* số thực. Mỗi phần tử có giá trị trong khoảng [-10<sup>9</sup>, 10<sup>9</sup>].  \n",
    "**Output**: Dãy đã được chia thành hai phần và một số index sao cho tất cả phần tử ở *arr[:index]* đều nhỏ hơn hoặc bằng *pivot* và *arr[index:]* đều lớn hơn hoặc bằng *pivot*.  \n",
    "**Ví dụ**:\n",
    "- Input: [5, 9, 1, 12, 30, 35, 75, 10, 15, 20, 4, 0, 20, 0, 20, 3, 6, 14]\n",
    "- Output: [5, 9, 1, 12, 14, 6, 3, 10, 0, 0, 4, 20, 20, 15, 20, 75, 35, 30], 11\n",
    "- Giải thích:\n",
    "  + Ta tính vị trí của pivot theo công thức: mid = (len(arr)-1)//2 = (18-1)//2 = 8\n",
    "  + Như vậy, pivot = arr[8] = 15\n",
    "  + Sau khi chuyển, ta có index = 11.  \n",
    "    Tất cả phần tử có index từ 0 đến 10 đều <= 15.  \n",
    "    Tất cả phần tử có index từ 11 đến 17 đều >= 15."
   ]
  },
  {
   "cell_type": "code",
   "execution_count": null,
   "metadata": {},
   "outputs": [],
   "source": [
    "def partition_mid(arr):\n",
    "    pass"
   ]
  },
  {
   "cell_type": "code",
   "execution_count": null,
   "metadata": {},
   "outputs": [],
   "source": [
    "# !!! DO NOT MODIFY THIS CELL\n",
    "# Check result on test cases\n",
    "test1(partition_mid)"
   ]
  },
  {
   "cell_type": "markdown",
   "metadata": {},
   "source": [
    "## Bài 2. Quicksort Với Pivot Giữa\n",
    "\n",
    "Dựa vào hàm *partition_mid* ở bài trên, hãy viết thuật toán Quicksort chọn phần tử chính giữa dãy làm *pivot*.\n",
    "\n",
    "**Input**: Một dãy *arr* chứa *0 < n < 10<sup>6</sup>* số thực. Mỗi phần tử có giá trị trong khoảng [-10<sup>9</sup>, 10<sup>9</sup>].  \n",
    "**Output**: Dãy đã được sắp xếp từ nhỏ đến lớn.  \n",
    "**Ví dụ**:\n",
    "- Input: [3, 2, 1]\n",
    "- Output: [1, 2, 3] \n",
    "\n",
    "Sau khi hoàn tất, hãy thử chạy lại thuật toán Quicksort với mảng đã được sắp xếp giảm dần phía dưới."
   ]
  },
  {
   "cell_type": "code",
   "execution_count": null,
   "metadata": {},
   "outputs": [],
   "source": [
    "num_arr = [i for i in range(9999, -1, -1)]\n",
    "print(\"{} ... {}\".format(num_arr[:10], num_arr[-10:]))"
   ]
  },
  {
   "cell_type": "code",
   "execution_count": null,
   "metadata": {},
   "outputs": [],
   "source": [
    "def quick_sort_mid_pivot(arr, left, right):\n",
    "    pass"
   ]
  },
  {
   "cell_type": "code",
   "execution_count": null,
   "metadata": {},
   "outputs": [],
   "source": [
    "# !!! DO NOT MODIFY THIS CELL\n",
    "# Check result on test cases\n",
    "test2(quick_sort_mid_pivot)"
   ]
  },
  {
   "cell_type": "markdown",
   "metadata": {},
   "source": [
    "## Bài 3. Hybrid Sort\n",
    "\n",
    "Trong các thư viện, người ta thường dùng các thuật toán lai (*hybrid algorithm*) cho các hàm sắp xếp, tức kết hợp các thuật toán sắp xếp với nhau.  \n",
    "\n",
    "Ví dụ, Quicksort chạy tốt trên danh sách có kích thước lớn, nhưng Insertion Sort lại chạy tốt hơn Quicksort trên các danh sách có kích thước nhỏ *(n < 10)*. Do đó, ta có thể dùng Quicksort khi danh sách có kích thước >= 10 và Insertion Sort khi kích thước < 10.\n",
    "\n",
    "Dựa vào ý tưởng trên, hãy viết một thuật toán lai giữa Quicksort và Insertion Sort. Có thể dùng code đã viết ở các bài trước.  \n",
    "\n",
    "**Input**: Một dãy *arr* chứa *0 < n < 10<sup>6</sup>* số thực. Mỗi phần tử có giá trị trong khoảng [-10<sup>9</sup>, 10<sup>9</sup>].  \n",
    "**Output**: Dãy đã được sắp xếp từ nhỏ đến lớn.  \n",
    "**Ví dụ**:\n",
    "- Input: [3, 2, 1, 5, 4, 7, 6]\n",
    "- Output: [1, 2, 3, 4, 5, 6, 7] "
   ]
  },
  {
   "cell_type": "code",
   "execution_count": null,
   "metadata": {},
   "outputs": [],
   "source": [
    "def hybird_sort(arr):\n",
    "    pass"
   ]
  },
  {
   "cell_type": "code",
   "execution_count": null,
   "metadata": {},
   "outputs": [],
   "source": [
    "# !!! DO NOT MODIFY THIS CELL\n",
    "# Check result on test cases\n",
    "test3(hybrid_sort)"
   ]
  },
  {
   "cell_type": "code",
   "execution_count": null,
   "metadata": {},
   "outputs": [],
   "source": []
  }
 ],
 "metadata": {
  "kernelspec": {
   "display_name": "Python 3.10.4 64-bit",
   "language": "python",
   "name": "python3"
  },
  "language_info": {
   "codemirror_mode": {
    "name": "ipython",
    "version": 3
   },
   "file_extension": ".py",
   "mimetype": "text/x-python",
   "name": "python",
   "nbconvert_exporter": "python",
   "pygments_lexer": "ipython3",
   "version": "3.10.4"
  },
  "vscode": {
   "interpreter": {
    "hash": "916dbcbb3f70747c44a77c7bcd40155683ae19c65e1c03b4aa3499c5328201f1"
   }
  }
 },
 "nbformat": 4,
 "nbformat_minor": 4
}
