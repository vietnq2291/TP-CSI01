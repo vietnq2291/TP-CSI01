{
 "cells": [
  {
   "cell_type": "markdown",
   "metadata": {},
   "source": [
    "## <center>Computer Science Intensive Course - MindX</center>\n",
    "![](./assets/logo.png)\n",
    "# <center>LAB 7. THUẬT TOÁN SẮP XẾP (3)</center>"
   ]
  },
  {
   "cell_type": "code",
   "execution_count": null,
   "metadata": {},
   "outputs": [],
   "source": [
    "# run this cell FIRST\n",
    "%run test_cases_7.ipynb"
   ]
  },
  {
   "cell_type": "markdown",
   "metadata": {},
   "source": [
    "## Bài 1. Rating\n",
    "\n",
    "Một trang web chứa đánh giá (rating) của các quán trà sữa theo thang điểm từ 0 đến 5. Điểm đánh giá khi hiển thị cho người dùng sẽ được làm tròn đến 0.5. Ví dụ rating thật là 4.32 sẽ được làm tròn thành 4.5; 3.21 được làm tròn thành 3.0.\n",
    "\n",
    "**Yêu cầu**: Cho danh sách rating hiển thị cho người dùng với định dạng như bên dưới. Hãy sắp xếp danh sách theo thứ tự rating giảm dần. Giữ nguyên vị trí tương đối của các quán có cùng rating (VD quán A nằm trước B nhưng có cùng rating thì sau khi sắp xếp, A vẫn nằm trước B).\n",
    "\n",
    "**Input**: Một danh sách chứa *0 < n < 10<sup>6</sup>* quán và rating đã được tổng kết để hiển thị cho người dùng. Mỗi giá trị là một số thực nằm trong khoảng [0, 5], đã được làm tròn đến 0.5.  \n",
    "**Output**: Danh sách đã được sắp xếp.  \n",
    "**Ví dụ**:\n",
    "- Input: [('Phuc Long', 4.0), ('Tocotoco', 4.0), ('Share Tea', 3.5), ('Gongcha', 4.5), ('Soya', 3.5), ('Koi Thé', 4.5), ('The Alley', 5.0)]\n",
    "- Output: [('The Alley', 5.0), ('Gongcha', 4.5), ('Koi Thé', 4.5), ('Phuc Long', 4.0), ('Tocotoco', 4.0), ('Share Tea', 3.5), ('Soya', 3.5)]"
   ]
  },
  {
   "cell_type": "code",
   "execution_count": null,
   "metadata": {},
   "outputs": [],
   "source": [
    "def counting_sort_rating(arr):\n",
    "    pass"
   ]
  },
  {
   "cell_type": "code",
   "execution_count": null,
   "metadata": {},
   "outputs": [],
   "source": [
    "# !!! DO NOT MODIFY THIS CELL\n",
    "# Check result on test cases\n",
    "test1(counting_sort_rating)"
   ]
  },
  {
   "cell_type": "markdown",
   "metadata": {},
   "source": [
    "## Bài 2. Phần Tử Lớn Thứ Ba\n",
    "\n",
    "**Yêu cầu**: Cho một dãy các số nguyên, hãy đếm số lần xuất hiện của phần tử lớn thứ 3 trong dãy.  \n",
    "\n",
    "**Input**: Một dãy *arr* chứa *0 < n < 10<sup>6</sup>* số nguyên. Mỗi phần tử có giá trị trong khoảng [-10<sup>9</sup>, 10<sup>9</sup>].  \n",
    "**Output**: Một số nguyên là số lần xuất hiện của phần tử lớn thứ ba trong dãy. Trả về 0 nếu không tìm thấy.  \n",
    "**Ví dụ**:  \n",
    "\n",
    "Ví dụ 1:  \n",
    "- Input: [3, 2, 1, 5, 4, 7, 6, 6, 5]\n",
    "- Output: 2\n",
    "- Giải thích: Phần tử lớn thứ ba trong dãy là 5. Phần tử này xuất hiện 2 lần.\n",
    "\n",
    "Ví dụ 2:  \n",
    "- Input: [3, 2, 3, 2]\n",
    "- Output: 0\n",
    "- Giải thích: Dãy không có phần tử lớn thứ 3."
   ]
  },
  {
   "cell_type": "code",
   "execution_count": null,
   "metadata": {},
   "outputs": [],
   "source": [
    "def count_third_largest(arr):\n",
    "    pass"
   ]
  },
  {
   "cell_type": "code",
   "execution_count": null,
   "metadata": {},
   "outputs": [],
   "source": [
    "# !!! DO NOT MODIFY THIS CELL\n",
    "# Check result on test cases\n",
    "test2(count_third_largest)"
   ]
  },
  {
   "cell_type": "markdown",
   "metadata": {},
   "source": [
    "## Bài 3. Hàm sorted(): So Sánh Trên Key\n",
    "\n",
    "Trong hàm *sorted()* cho sẵn của Python, ngoài việc cho hàm sắp xếp tăng và giảm, ta còn có thể truyền thông số để hàm sắp xếp các object dựa vào một thành phần của object đó.  \n",
    "\n",
    "**Ví dụ**: Bài toán sắp xếp rating các quán trà sữa, nhưng các giá trị rating không được làm tròn đến 0.5. Do đó, ta không thể dùng thuật toán Counting Sort."
   ]
  },
  {
   "cell_type": "code",
   "execution_count": null,
   "metadata": {},
   "outputs": [],
   "source": [
    "ratings = [('Phuc Long', 4.0827983),\n",
    "           ('Tocotoco', 4.198729),\n",
    "           ('Share Tea', 3.094380),\n",
    "           ('Gongcha', 4.234435434),\n",
    "           ('Soya', 3.4883484),\n",
    "           ('Koi Thé', 4.09349430),\n",
    "           ('The Alley', 4.91273687)]"
   ]
  },
  {
   "cell_type": "markdown",
   "metadata": {},
   "source": [
    "Ta có thể sắp xếp dãy trên dựa vào phần tử thứ 2 của mỗi *tuple* bằng hàm *sorted()* như sau:"
   ]
  },
  {
   "cell_type": "code",
   "execution_count": null,
   "metadata": {},
   "outputs": [],
   "source": [
    "def sort_ratings(ratings):\n",
    "    return sorted(ratings, reverse=True, key=lambda rating: rating[1])\n",
    "\n",
    "sort_ratings(ratings)"
   ]
  },
  {
   "cell_type": "markdown",
   "metadata": {},
   "source": [
    "**Giải thích**: Ta đưa vào tham số *key* một hàm được viết dưới dạng *lambda rating: rating[1]*\n",
    "- Hàm này nhận một tham số *rating* là một phần tử của dãy cần sắp xếp. VD: phần tử ('Phuc Long', 4.0827983).\n",
    "- Hàm trả về một giá trị dùng để so sánh với các phần tử khác. Trong trường hợp này, hàm trả về rating[1] là điểm đánh giá của một quán.\n",
    "- Như vậy, hàm *sorted()* có thể biết được cách để so sánh 2 object với nhau, từ đó thực hiện việc sắp xếp.  \n",
    "\n",
    "Ta còn có thể viết hàm để đưa vào tham số *key* như sau:"
   ]
  },
  {
   "cell_type": "code",
   "execution_count": null,
   "metadata": {},
   "outputs": [],
   "source": [
    "def get_compare_key(rating):\n",
    "    return rating[1]\n",
    "\n",
    "def sort_ratings(ratings):\n",
    "    return sorted(ratings, reverse=True, key=get_compare_key)"
   ]
  },
  {
   "cell_type": "markdown",
   "metadata": {},
   "source": [
    "**Yêu cầu**: Thực hiện lại bài toán sắp xếp danh sách điểm, sao cho học sinh có điểm Toán cao hơn đứng trước.  \n",
    "\n",
    "**Input**: Một *list* gồm *0 < n < 10<sup>4</sup>* báo cáo điểm của học sinh.  \n",
    "**Output**: List các báo cáo điểm sau khi đã sắp xếp."
   ]
  },
  {
   "cell_type": "code",
   "execution_count": null,
   "metadata": {},
   "outputs": [],
   "source": [
    "student_grade_list = [\n",
    "    {'id': 984, 'math': 9, 'literature': 5},\n",
    "    {'id': 12, 'math': 10, 'literature': 4},\n",
    "    {'id': 324, 'math': 10, 'literature': 5},\n",
    "    {'id': 890, 'math': 5, 'literature': 7},\n",
    "    {'id': 223, 'math': 8, 'literature': 8},\n",
    "    {'id': 543, 'math': 8, 'literature': 5},\n",
    "]"
   ]
  },
  {
   "cell_type": "code",
   "execution_count": null,
   "metadata": {},
   "outputs": [],
   "source": [
    "def sort_student_grades_math(grade_list):\n",
    "    pass"
   ]
  },
  {
   "cell_type": "code",
   "execution_count": null,
   "metadata": {},
   "outputs": [],
   "source": [
    "# !!! DO NOT MODIFY THIS CELL\n",
    "# Check result on test cases\n",
    "test3(sort_student_grades_math)"
   ]
  },
  {
   "cell_type": "markdown",
   "metadata": {},
   "source": [
    "## Bài 4. Hàm sorted(): So Sánh Trên Nhiều Key\n",
    "\n",
    "Trong bài toán ban đầu, ta cần phải sắp xếp danh sách dựa theo cả điểm Toán và Văn. Để làm được điều đó, ta có thể trả về nhiều *key* để so sánh giữa các phần tử.  \n",
    "\n",
    "**Ví dụ**: Bài toán sắp xếp rating các quán trà sữa. Nếu rating bằng nhau, ta tiếp tục sắp xếp tên quán theo thứ tự bảng chữ cái."
   ]
  },
  {
   "cell_type": "code",
   "execution_count": null,
   "metadata": {},
   "outputs": [],
   "source": [
    "ratings = [('Tocotoco', 4.0),\n",
    "           ('Phuc Long', 4.0),\n",
    "           ('Share Tea', 3.5),\n",
    "           ('Gongcha', 4.5),\n",
    "           ('Soya', 3.5),\n",
    "           ('Koi Thé', 4.5),\n",
    "           ('The Alley', 5.0)]"
   ]
  },
  {
   "cell_type": "code",
   "execution_count": null,
   "metadata": {},
   "outputs": [],
   "source": [
    "def sort_ratings(ratings):\n",
    "    return sorted(ratings, reverse=True, key=lambda rating: (rating[1], rating[0]))\n",
    "\n",
    "sort_ratings(ratings)"
   ]
  },
  {
   "cell_type": "markdown",
   "metadata": {},
   "source": [
    "Tuy nhiên, phương pháp này không cho phép ta sắp xếp xen kẽ giữa giảm dần và tăng dần. Do đó, để sắp xếp theo rating giảm dần và tên quán tăng dần, ta gọi hàm *sorted()* hai lần:"
   ]
  },
  {
   "cell_type": "code",
   "execution_count": null,
   "metadata": {},
   "outputs": [],
   "source": [
    "def sort_ratings(ratings):\n",
    "    temp = sorted(ratings, key=lambda rating: rating[0])\n",
    "    return sorted(temp, reverse=True, key=lambda rating: rating[1])\n",
    "\n",
    "sort_ratings(ratings)"
   ]
  },
  {
   "cell_type": "markdown",
   "metadata": {},
   "source": [
    "**Yêu cầu**: Thực hiện lại bài toán sắp xếp danh sách điểm, sao cho học sinh có điểm Toán cao hơn đứng trước. Nếu điểm Toán bằng nhau, học sinh có điểm Văn cao hơn đứng trước.  \n",
    "\n",
    "**Input**: Một *list* gồm *0 < n < 10<sup>4</sup>* báo cáo điểm của học sinh.  \n",
    "**Output**: List các báo cáo điểm sau khi đã sắp xếp."
   ]
  },
  {
   "cell_type": "code",
   "execution_count": null,
   "metadata": {},
   "outputs": [],
   "source": [
    "student_grade_list = [\n",
    "    {'id': 984, 'math': 9, 'literature': 5},\n",
    "    {'id': 12, 'math': 10, 'literature': 4},\n",
    "    {'id': 324, 'math': 10, 'literature': 5},\n",
    "    {'id': 890, 'math': 5, 'literature': 7},\n",
    "    {'id': 223, 'math': 8, 'literature': 8},\n",
    "    {'id': 543, 'math': 8, 'literature': 5},\n",
    "]"
   ]
  },
  {
   "cell_type": "code",
   "execution_count": null,
   "metadata": {},
   "outputs": [],
   "source": [
    "def sort_student_grades_all(grade_list):\n",
    "    pass"
   ]
  },
  {
   "cell_type": "code",
   "execution_count": null,
   "metadata": {},
   "outputs": [],
   "source": [
    "# !!! DO NOT MODIFY THIS CELL\n",
    "# Check result on test cases\n",
    "test4(sort_student_grades_all)"
   ]
  },
  {
   "cell_type": "code",
   "execution_count": null,
   "metadata": {},
   "outputs": [],
   "source": []
  }
 ],
 "metadata": {
  "kernelspec": {
   "display_name": "Python 3.10.4 64-bit",
   "language": "python",
   "name": "python3"
  },
  "language_info": {
   "codemirror_mode": {
    "name": "ipython",
    "version": 3
   },
   "file_extension": ".py",
   "mimetype": "text/x-python",
   "name": "python",
   "nbconvert_exporter": "python",
   "pygments_lexer": "ipython3",
   "version": "3.10.4"
  },
  "vscode": {
   "interpreter": {
    "hash": "916dbcbb3f70747c44a77c7bcd40155683ae19c65e1c03b4aa3499c5328201f1"
   }
  }
 },
 "nbformat": 4,
 "nbformat_minor": 4
}
