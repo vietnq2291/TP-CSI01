{
 "cells": [
  {
   "cell_type": "markdown",
   "metadata": {},
   "source": [
    "## <center>Computer Science Intensive Course - MindX</center>\n",
    "![](./assets/logo.png)\n",
    "# <center>LAB 10. TREE VÀ GRAPH</center>"
   ]
  },
  {
   "cell_type": "code",
   "execution_count": null,
   "metadata": {},
   "outputs": [],
   "source": [
    "# run this cell FIRST\n",
    "%run test_cases_10.ipynb"
   ]
  },
  {
   "cell_type": "markdown",
   "metadata": {},
   "source": [
    "## Bài 1. Quần Đảo\n",
    "\n",
    "Cho một tập hợp đảo và các tuyến tàu hai chiều giữa các đảo. Ta chỉ có thể di chuyển từ đảo A đến đảo B nếu có ít nhất một trong ba điều kiện sau xảy ra:\n",
    "- Có tuyến tàu từ A đến B\n",
    "- Tồn tại một đảo C sao cho có tuyến tàu từ A đến C và từ C đến B\n",
    "- Tồn tại đảo D và đảo E sao cho có tuyến tàu AD, EB và ta có thể di chuyển từ D đến E\n",
    "\n",
    "Ta định nghĩa một quần đảo là một tập hợp con của các đảo sao cho:\n",
    "+ Có thể di chuyển giữa hai đảo bất kỳ trong cùng quần đảo\n",
    "+ Không thể di chuyển từ một đảo trong quần đảo này đến một đảo trong quần đảo khác\n",
    "\n",
    "**Yêu cầu**: Cho thông tin về tập hợp các đảo và tuyến tàu, hãy tìm số quần đảo trong tập hợp đảo.\n",
    "\n",
    "**Input**: Một đồ thị vô hướng không trọng số dưới dạng danh sách kề, với các đỉnh là các số nguyên được đánh số từ 0 tương ứng với các đảo.  \n",
    "&nbsp;&nbsp;&nbsp;&nbsp;&nbsp;&nbsp;&nbsp;&nbsp;&nbsp;&nbsp; Biết *0 < số đảo < 100* và *0 <= số tuyến tàu < 1000*.  \n",
    "**Output**: Một số nguyên >= 1 là số quần đảo tìm thấy.  \n",
    "**Ví dụ**:  \n",
    "\n",
    "- Input: {0: [4], 1: [2], 2: [1], 3: [4], 4: [0, 3]}\n",
    "- Output: 2\n",
    "- Giải thích: Quần đảo thứ nhất bao gồm đảo *(0, 3, 4)*, quần đảo thứ hai gồm đảo *(1, 2)*\n",
    "\n",
    "![](./assets/disconnected-graph.png)"
   ]
  },
  {
   "cell_type": "code",
   "execution_count": null,
   "metadata": {},
   "outputs": [],
   "source": [
    "def count_island_groups(graph):\n",
    "    pass"
   ]
  },
  {
   "cell_type": "code",
   "execution_count": null,
   "metadata": {},
   "outputs": [],
   "source": [
    "# !!! DO NOT MODIFY THIS CELL\n",
    "# Check result on test cases\n",
    "test1(count_island_groups)"
   ]
  },
  {
   "cell_type": "markdown",
   "metadata": {},
   "source": [
    "## Bài 2. Tính Biểu Thức\n",
    "\n",
    "Một biểu thức với các toán tử hai ngôi cũng có thể được lưu trên một cây nhị phân. Ở dạng này, ta có thể dễ dàng tính giá trị của biểu thức hoặc chuyển biểu thức về các dạng *infix, postfix, prefix*.\n",
    "\n",
    "**Yêu cầu**: Cho một cây nhị phân chứa biểu thức toán học bao gồm số thực và các toán tử hai ngôi (<code>+ - * / ^</code>) với định dạng như bên dưới, hãy tính giá trị của biểu thức.  \n",
    "\n",
    "**Input**: Một cây nhị phân chứa biểu thức với *0 <= số tầng <= 10*.  \n",
    "**Output**: Một số thực là giá trị của biểu thức. Test case đảm bảo mọi biểu thức đều hợp lệ và có giá trị là số thực.  \n",
    "**Ví dụ**:\n",
    "- Input: <code>expression_tree</code>\n",
    "- Output: 31.0\n",
    "- Giải thích: <code>3 + (5 + 9) * 2 = 31</code>\n",
    "\n",
    "![](./assets/expression-tree.png)"
   ]
  },
  {
   "cell_type": "code",
   "execution_count": null,
   "metadata": {},
   "outputs": [],
   "source": [
    "class Node:\n",
    "    def __init__(self, data):\n",
    "        self.data = data\n",
    "        self.left = None\n",
    "        self.right = None\n",
    "        \n",
    "root = Node('+')\n",
    "root.left, root.right = Node(3), Node('*')\n",
    "root.right.left, root.right.right = Node('+'), Node(2)\n",
    "root.right.left.left, root.right.left.right = Node(5), Node(9)"
   ]
  },
  {
   "cell_type": "code",
   "execution_count": null,
   "metadata": {},
   "outputs": [],
   "source": [
    "def evaluate_expr(tree_root):\n",
    "    pass"
   ]
  },
  {
   "cell_type": "code",
   "execution_count": null,
   "metadata": {},
   "outputs": [],
   "source": [
    "# !!! DO NOT MODIFY THIS CELL\n",
    "# Check result on test cases\n",
    "test2(evaluate_expr)"
   ]
  },
  {
   "cell_type": "markdown",
   "metadata": {},
   "source": [
    "## Bài 3. Trang Trại\n",
    "\n",
    "Cho một khu đất hình chữ nhật được thể hiện dưới dạng ma trận, bao gồm nhiều ô có kích thước 1x1. Khu đất này chứa duy nhất một trang trại được bao quanh bởi hàng rào, mỗi rào có kích thước 1x1.\n",
    "\n",
    "**Ví dụ**: Một khu đất được biểu diễn như hình dưới. Ô có giá trị *0* thể hiện đất, ô giá trị *1* thể hiện hàng rào.\n",
    "\n",
    "![](./assets/farm.png)\n",
    "\n",
    "Một trang trại được xác định là phần đất được bao quanh hoàn toàn bởi hàng rào (phần màu xanh lá). Trang trại trong hình trên có tổng diện tích là 9 (không tính phần rào).\n",
    "\n",
    "**Yêu cầu**: Cho một bản đồ khu đất với định dạng như trên, hãy tìm diện tích của trang trại trong khu đất.  \n",
    "\n",
    "Một số ràng buộc:\n",
    "- Khu đất chỉ chứa duy nhất một trang trại.\n",
    "- Trang trại luôn được bao quanh bởi hàng rào sao cho: tất cả 4 ô liền kề của một ô bất kì trong trang trại luôn là một ô thuộc trang trại hoặc một ô thuộc hàng rào. Một ô được coi là liền kề với 4 ô xung quanh theo hướng: trên, dưới, trái, phải.\n",
    "- Từ một ô bất kì trong trang trại, ta luôn có thể đi đến tất cả các ô khác trong trang trại bằng cách đi qua các ô liền kề mà không bị vướng hàng rào.\n",
    "\n",
    "**Input**: Một bản đồ khu đất dưới dạng list chứa *m* các list *n* phần tử, với 2 < m, n < 1000.  \n",
    "**Output**: Một số nguyên là diện tích của trang trại. Test case đảm bảo mọi khu đất đều chứa duy nhất một trang trại có diện tích > 0.  \n",
    "**Ví dụ**:\n",
    "- Input: <code>land_map</code>\n",
    "- Output: 9"
   ]
  },
  {
   "cell_type": "code",
   "execution_count": null,
   "metadata": {},
   "outputs": [],
   "source": [
    "land_map = [\n",
    "    [0, 0, 0, 0, 0, 0, 0, 0, 0, 0],\n",
    "    [0, 0, 0, 0, 0, 0, 0, 0, 0, 0],\n",
    "    [0, 0, 0, 0, 1, 1, 1, 1, 0, 0],\n",
    "    [0, 0, 0, 1, 0, 0, 0, 0, 1, 0],\n",
    "    [0, 0, 1, 0, 0, 0, 0, 0, 1, 0],\n",
    "    [0, 0, 0, 1, 1, 1, 1, 1, 0, 0],\n",
    "    [0, 0, 0, 0, 0, 0, 0, 0, 0, 0]\n",
    "]"
   ]
  },
  {
   "cell_type": "code",
   "execution_count": null,
   "metadata": {},
   "outputs": [],
   "source": [
    "def find_farm_area(land_map):\n",
    "    pass"
   ]
  },
  {
   "cell_type": "code",
   "execution_count": null,
   "metadata": {},
   "outputs": [],
   "source": [
    "# !!! DO NOT MODIFY THIS CELL\n",
    "# Check result on test cases\n",
    "test3(find_farm_area)"
   ]
  },
  {
   "cell_type": "code",
   "execution_count": null,
   "metadata": {},
   "outputs": [],
   "source": []
  }
 ],
 "metadata": {
  "kernelspec": {
   "display_name": "Python 3.10.4 64-bit",
   "language": "python",
   "name": "python3"
  },
  "language_info": {
   "codemirror_mode": {
    "name": "ipython",
    "version": 3
   },
   "file_extension": ".py",
   "mimetype": "text/x-python",
   "name": "python",
   "nbconvert_exporter": "python",
   "pygments_lexer": "ipython3",
   "version": "3.10.4"
  },
  "vscode": {
   "interpreter": {
    "hash": "916dbcbb3f70747c44a77c7bcd40155683ae19c65e1c03b4aa3499c5328201f1"
   }
  }
 },
 "nbformat": 4,
 "nbformat_minor": 4
}
