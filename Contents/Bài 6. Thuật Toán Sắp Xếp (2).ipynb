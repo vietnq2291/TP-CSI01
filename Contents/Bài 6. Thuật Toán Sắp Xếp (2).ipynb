{
 "cells": [
  {
   "cell_type": "markdown",
   "metadata": {},
   "source": [
    "## <center>Computer Science Intensive Course - MindX</center>\n",
    "![](./assets/logo.png)\n",
    "# <center>BÀI 6. THUẬT TOÁN SẮP XẾP (2)</center>"
   ]
  },
  {
   "cell_type": "code",
   "execution_count": 1,
   "metadata": {},
   "outputs": [],
   "source": [
    "# run this cell FIRST\n",
    "import matplotlib.pyplot as plt\n",
    "\n",
    "def show_list(arr, title=''):\n",
    "    fig, ax = plt.subplots(figsize=(20, 4))\n",
    "    ax.bar(range(len(arr)), arr)\n",
    "    ax.set_title(title)\n",
    "    ax.set_xlabel('index')\n",
    "    ax.set_xticks(range(len(arr)))\n",
    "    ax.spines['top'].set_visible(False)\n",
    "    ax.spines['right'].set_visible(False)\n",
    "    plt.show()"
   ]
  },
  {
   "cell_type": "markdown",
   "metadata": {},
   "source": [
    "# 1. Merge Sort\n",
    "\n",
    "**Bài toán**: Như các thuật toán đã học, Merge Sort (sắp xếp trộn) xử lý bài toán sắp xếp dãy bất kỳ bằng phương pháp so sánh các phần tử.  \n",
    "Cho một dãy gồm *0 < n < 10<sup>6</sup>* số nguyên, mỗi số có giá trị trong khoảng [0, 10<sup>9</sup>], sắp xếp dãy trên theo thứ tự tăng dần."
   ]
  },
  {
   "cell_type": "code",
   "execution_count": 4,
   "metadata": {},
   "outputs": [
    {
     "data": {
      "image/png": "[encoded data removed]",
      "text/plain": [
       "<Figure size 1440x288 with 1 Axes>"
      ]
     },
     "metadata": {
      "needs_background": "light"
     },
     "output_type": "display_data"
    }
   ],
   "source": [
    "number_list = [5, 9, 1, 12, 30, 35, 75, 10, 15, 20, 4, 0, 20, 0, 20, 3, 6, 14]\n",
    "show_list(number_list, title='number_list')"
   ]
  },
  {
   "cell_type": "markdown",
   "metadata": {},
   "source": [
    "**Cách tiếp cận** của Merge Sort sử dụng phương pháp *chia để trị*:\n",
    "1. Chia dãy cần sắp xếp thành hai phần có độ dài tương đương nhau.\n",
    "2. Sắp xếp riêng từng phần.\n",
    "3. Nhập hai phần đã sắp xếp lại.  \n",
    "\n",
    "Ở bước 2, thuật toán cũng dùng Merge Sort để tiếp tục sắp xếp riêng từng phần cho đến khi các phần được chia nhỏ đến kích thước bằng 1 (xem như đã được sắp xếp).  \n",
    "\n",
    "Nhờ phương pháp này, Merge Sort có độ phức tạp về thời gian là *O(n.log(n))*, nhanh hơn rất nhiều so với các thuật toán ở bài học trước.  \n",
    "\n",
    "Sơ đồ cây thể hiện quá trình xử lý của Merge Sort:\n",
    "![](./assets/merge-sort.png)\n",
    "<div style='text-align: right'><i>Ảnh: geeksforgeeks.org/merge-sort/</i></div>\n",
    "\n",
    "Visualization: https://visualgo.net/en/sorting, thuật toán thứ tư."
   ]
  },
  {
   "cell_type": "markdown",
   "metadata": {},
   "source": [
    "### Code:"
   ]
  },
  {
   "cell_type": "code",
   "execution_count": 5,
   "metadata": {},
   "outputs": [],
   "source": [
    "# merge 2 sorted portions of arr\n",
    "def merge(arr, left, right, mid):\n",
    "\n",
    "    # make shallow copy of 2 portions for convenient merging\n",
    "    arr1 = arr[left:mid]\n",
    "    arr2 = arr[mid:right]\n",
    "    \n",
    "    n1 = len(arr1)\n",
    "    n2 = len(arr2)\n",
    "    i = j = 0\n",
    "    k = left\n",
    " \n",
    "    # traverse arr1 and arr2 until one is empty\n",
    "    while i < n1 and j < n2:\n",
    "        if arr1[i] < arr2[j]:\n",
    "            arr[k] = arr1[i]\n",
    "            i += 1\n",
    "        else:\n",
    "            arr[k] = arr2[j]\n",
    "            j += 1\n",
    "        k +=  1\n",
    "     \n",
    "    # get remaining elements\n",
    "    arr[k:k+n1-i] = arr1[i:n1]\n",
    "    k += n1-i\n",
    "    arr[k:k+n2-j] = arr2[j:n2]\n",
    "    \n",
    "\n",
    "def merge_sort(arr, left, right):\n",
    "    \n",
    "    # special cases, arr is sorted\n",
    "    if right-left <= 1:  # stop condition for recursion\n",
    "        return\n",
    "    \n",
    "    # split arr into 2 halves, then sort each half individually\n",
    "    mid = (left+right)//2\n",
    "    merge_sort(arr, left, mid)   # recursive call\n",
    "    merge_sort(arr, mid, right)  # recursive call\n",
    "\n",
    "    # merge 2 sorted halves\n",
    "    merge(arr, left, right, mid)"
   ]
  },
  {
   "cell_type": "code",
   "execution_count": 6,
   "metadata": {},
   "outputs": [
    {
     "name": "stdout",
     "output_type": "stream",
     "text": [
      "Before sorting: [5, 9, 1, 12, 30, 35, 75, 10, 15, 20, 4, 0, 20, 0, 20, 3, 6, 14]\n",
      "After sorting:  [0, 0, 1, 3, 4, 5, 6, 9, 10, 12, 14, 15, 20, 20, 20, 30, 35, 75]\n"
     ]
    },
    {
     "data": {
      "image/png": "[encoded data removed]",
      "text/plain": [
       "<Figure size 1440x288 with 1 Axes>"
      ]
     },
     "metadata": {
      "needs_background": "light"
     },
     "output_type": "display_data"
    }
   ],
   "source": [
    "number_list_2 = number_list[:]\n",
    "\n",
    "merge_sort(number_list_2, 0, len(number_list_2))\n",
    "\n",
    "print(\"Before sorting: {}\".format(number_list))\n",
    "print(\"After sorting:  {}\".format(number_list_2))\n",
    "show_list(number_list_2, title='number_list_2')"
   ]
  },
  {
   "cell_type": "markdown",
   "metadata": {},
   "source": [
    "**Độ phức tạp thời gian**:\n",
    "- Việc tính toán độ phức tạp thời gian của Merge Sort khá phức tạp, tuy nhiên ta có thể hiểu đơn giản bằng cách dựa vào hình minh họa phía trên.\n",
    "- Từ tầng trên cùng đến tầng giữa:\n",
    "  + Ở mỗi tầng, ta tách từng đoạn thành hai phần. Dù số lần tách ở mỗi tầng khác nhau, ta có thể tính được có tổng cộng *n-1* lần tách được thực hiện từ tầng trên cùng đến tầng giữa. Với code trên, mỗi lần tách có độ phức tạp *O(1)*.\n",
    "  + Như vậy, độ phức tạp từ tầng trên cùng đến tầng giữa là *O(n-1)* = *O(n)*.\n",
    "- Từ tầng giữa đến tầng cuối:\n",
    "  + Ở mỗi tầng, ta nhập hai dãy liền kề nhau thành một. Cho dù mỗi tầng có bao nhiêu dãy, ta đều truy vấn qua *n* phần tử để thực hiện phép so sánh và phép gán vào dãy mới. Do đó, độ phức tạp ở mỗi tầng là *O(n)*.\n",
    "  + Tương tự như với thuật toán *Binary Search*, ta tính được số tầng từ giữa đến cuối xấp xỉ *log<sub>2</sub>(n)*.\n",
    "  + Tổng cộng, độ phức tạp từ tầng giữa đến cuối là:\n",
    "    \\begin{equation} O(n).log_2(n) = O(n.log(n)) \\end{equation}\n",
    "- Tổng hợp, độ phức tạp về thời gian của thuật toán là:\n",
    "  \\begin{equation} O(n)+O(n.log(n)) = O(n.log(n)) \\end{equation}\n",
    "\n",
    "**Độ phức tạp không gian**:\n",
    "- Thuật toán lưu trữ danh sách gốc với *O(n)* bộ nhớ.\n",
    "- Ta thực hiện gộp hai đoạn đã được sắp xếp bằng cách tạo thêm hai mảng phụ *arr1* và *arr2*. Như vậy, trong một thời điểm, thuật toán cần ghi nhớ hai mảng phụ với tổng kích thước lớn nhất bằng danh sách gốc (khi gộp lần cuối cùng). Việc ghi nhớ chiếm *O(n)* bộ nhớ.\n",
    "- Ngoài ra, thuật toán cũng chiếm *log<sub>2</sub>(n)* vùng nhớ stack do việc gọi đệ quy.\n",
    "- Do đó, độ phức tạp về không gian của thuật toán là:\n",
    "  \\begin{equation} O(n) + O(n) + O(log_2(n)) = O(n) \\end{equation}\n",
    "\n",
    "**Mở rộng**:\n",
    "- Ta có thể thực hiện gộp hai đoạn mà không sử dụng mảng phụ bằng một thuật toán phức tạp hơn (xem thêm: *geeksforgeeks.org/merge-sort-with-o1-extra-space-merge-and-on-lg-n-time/*). Tuy nhiên phương pháp hiện tại phù hợp hơn để ta tìm hiểu về cách hoạt động chung của Merge Sort.\n",
    "- Ta cũng có thể thực hiện Merge Sort mà không gọi đệ quy.\n",
    "- Một trong những biến thể khác của Merge Sort là chia dãy cần sắp xếp thành ba phần có độ dài tương đương nhau, thay vì hai phần như hiện tại."
   ]
  },
  {
   "cell_type": "markdown",
   "metadata": {},
   "source": [
    "# 2. Quicksort\n",
    "\n",
    "**Bài toán**: Quicksort (sắp xếp nhanh) cũng xử lý bài toán như Merge Sort nhưng bằng một cách tiếp cận khác.\n",
    "\n",
    "**Cách tiếp cận** của Quicksort cũng sử dụng phương pháp *chia để trị*:\n",
    "1. Chọn một phần tử trong dãy làm mốc.\n",
    "2. Đem tất cả các phần tử nhỏ hơn hoặc bằng mốc về phía bên trái, như vậy các phần tử lớn hơn hoặc bằng mốc nằm bên phải.\n",
    "3. Sắp xếp riêng từng phần bên trái và phải.\n",
    "\n",
    "**Nhận xét**:\n",
    "- Sau khi thực hiện xong bước 2, do tất cả phần tử bên trái đều nhỏ hơn phần tử bên phải, ta không cần thực hiện bước trộn hai phần như Merge Sort.\n",
    "- Ở bước 1, ta có một số cách thông dụng để chọn mốc:\n",
    "  + Chọn phần tử đầu tiên (bên trái)\n",
    "  + Chọn phần tử cuối cùng (bên phải)\n",
    "  + Chọn phần tử chính giữa\n",
    "  + Chọn phần tử ngẫu nhiên  \n",
    "  Ảnh minh họa dùng cách chọn phần tử cuối cùng. Visualization và code phía dưới dùng cách chọn phần tử đầu tiên.\n",
    "  \n",
    "![](./assets/quick-sort.png)\n",
    "<div style='text-align: right'><i>Ảnh: geeksforgeeks.org/quick-sort/</i></div>\n",
    "\n",
    "Visualization: https://visualgo.net/en/sorting, thuật toán thứ năm."
   ]
  },
  {
   "cell_type": "markdown",
   "metadata": {},
   "source": [
    "### Code:"
   ]
  },
  {
   "cell_type": "code",
   "execution_count": 7,
   "metadata": {},
   "outputs": [],
   "source": [
    "# choose pivot, move every smaller element to the left side\n",
    "# return the index of pivot after moving\n",
    "def partition(arr, left, right):\n",
    "    pivot = arr[left]  # choose pivot as the left-most element\n",
    "    i = left\n",
    "    for j in range(left+1, right):\n",
    "        if arr[j] < pivot:  # if found smaller element...\n",
    "            i += 1\n",
    "            arr[i], arr[j] = arr[j], arr[i]  # ... move it to the left side\n",
    "    arr[i], arr[left] = arr[left], arr[i]    # after finishing, swap pivot to its position\n",
    "    return i\n",
    "\n",
    "\n",
    "def quick_sort(arr, left, right):\n",
    "    \n",
    "    if right-left <= 1:  # array already sorted / stop condition for recursion\n",
    "        return\n",
    "    \n",
    "    # split arr into 2 parts\n",
    "    partition_index = partition(arr, left, right)\n",
    "    \n",
    "    # sort each part individually\n",
    "    quick_sort(arr, left, partition_index)     # recursive call\n",
    "    quick_sort(arr, partition_index+1, right)  # recursive call"
   ]
  },
  {
   "cell_type": "code",
   "execution_count": 8,
   "metadata": {},
   "outputs": [
    {
     "name": "stdout",
     "output_type": "stream",
     "text": [
      "Before sorting: [5, 9, 1, 12, 30, 35, 75, 10, 15, 20, 4, 0, 20, 0, 20, 3, 6, 14]\n",
      "After sorting:  [0, 0, 1, 3, 4, 5, 6, 9, 10, 12, 14, 15, 20, 20, 20, 30, 35, 75]\n"
     ]
    },
    {
     "data": {
      "image/png": "[encoded data removed]",
      "text/plain": [
       "<Figure size 1440x288 with 1 Axes>"
      ]
     },
     "metadata": {
      "needs_background": "light"
     },
     "output_type": "display_data"
    }
   ],
   "source": [
    "number_list_2 = number_list[:]\n",
    "\n",
    "quick_sort(number_list_2, 0, len(number_list_2))\n",
    "\n",
    "print(\"Before sorting: {}\".format(number_list))\n",
    "print(\"After sorting:  {}\".format(number_list_2))\n",
    "show_list(number_list_2, title='number_list_2')"
   ]
  },
  {
   "cell_type": "markdown",
   "metadata": {},
   "source": [
    "**Độ phức tạp thời gian**:\n",
    "- Quicksort có độ phức tạp về thời gian trong trường hợp xấu nhất là *O(n<sup>2</sup>)*. Trường hợp này xảy ra khi giá trị mốc *pivot* được chọn luôn luôn là giá trị lớn nhất hoặc nhỏ nhất trong dãy. Khi đó, mỗi lần gọi Quicksort, ta chỉ thu hẹp được đoạn cần sắp xếp xuống một phần tử là *pivot*.\n",
    "- Tuy nhiên, trong trường hợp trung bình, Quicksort được chứng minh có độ phức tạp là *Θ(n.log(n))*, do sử dụng cơ chế *chia để trị* tương tự như Merge Sort.\n",
    "\n",
    "**Độ phức tạp không gian**:\n",
    "- Thuật toán lưu trữ danh sách gốc với *O(n)* bộ nhớ.\n",
    "- Quicksort không cần lưu mảng phụ như Merge Sort. Tuy nhiên, thuật toán cũng chiếm *log<sub>2</sub>(n)* vùng nhớ stack do việc gọi đệ quy.\n",
    "- Do đó, độ phức tạp về không gian của thuật toán là:\n",
    "  \\begin{equation} O(n) + O(log_2(n)) = O(n) \\end{equation}\n",
    "\n",
    "**Mở rộng**:\n",
    "- Quicksort theo cách cài đặt thông thường là một thuật toán *không ổn định*. Tức nếu tồn tại hai hoặc nhiều phần tử bằng nhau trong dãy, Quicksort không đảm bảo vị trí tương đối của các phần tử đó sau khi sắp xếp (phần tử ở sau có thể được đem lên trước và ngược lại).\n",
    "- Ta có thể thực hiện Quicksort mà không gọi đệ quy.\n",
    "- Mặc dù trường hợp xấu nhất của Quicksort có độ phức tạp *O(n<sup>2</sup>)*, Quicksort vẫn được dùng trong thực tế vì nó có thể chạy tốt trên nhiều kiến trúc máy tính khác nhau và trên dữ liệu thực tế.\n",
    "- Ta có thể ngăn Quicksort rơi vào trường hợp xấu nhất bằng cách thay đổi cách chọn mốc. Một trong những cách đơn giản nhất là chọn mốc ngẫu nhiên.\n",
    "- Quicksort có tên \"quick\" do nó nhanh hơn hầu hết các thuật toán sắp xếp cùng thời. Hiện nay, Quicksort vẫn được dùng phổ biến nhưng cái tên \"quick\" không thể hiện đây là thuật toán sắp xếp nhanh nhất."
   ]
  },
  {
   "cell_type": "markdown",
   "metadata": {},
   "source": [
    "# 3. Thực Hành"
   ]
  },
  {
   "cell_type": "markdown",
   "metadata": {},
   "source": [
    "## 3.1. Merge Sort\n",
    "\n",
    "**Yêu cầu**: Cho danh sách điểm của học sinh với định dạng bên dưới. Hãy thay đổi code của thuật toán Merge Sort trong bài học để sắp xếp danh sách theo thứ tự điểm Toán tăng dần."
   ]
  },
  {
   "cell_type": "code",
   "execution_count": 9,
   "metadata": {},
   "outputs": [],
   "source": [
    "student_grade_list = [\n",
    "    {'id': 984, 'math': 9.0, 'literature': 5.4},\n",
    "    {'id': 12, 'math': 9.5, 'literature': 4.3},\n",
    "    {'id': 324, 'math': 9.7, 'literature': 5.3},\n",
    "    {'id': 890, 'math': 5.0, 'literature': 7.6},\n",
    "    {'id': 223, 'math': 7.6, 'literature': 5.3},\n",
    "    {'id': 543, 'math': 7.2, 'literature': 7.7},\n",
    "]"
   ]
  },
  {
   "cell_type": "code",
   "execution_count": 10,
   "metadata": {},
   "outputs": [
    {
     "data": {
      "text/plain": [
       "[{'id': 324, 'math': 9.7, 'literature': 5.3},\n",
       " {'id': 12, 'math': 9.5, 'literature': 4.3},\n",
       " {'id': 984, 'math': 9.0, 'literature': 5.4},\n",
       " {'id': 223, 'math': 7.6, 'literature': 5.3},\n",
       " {'id': 543, 'math': 7.2, 'literature': 7.7},\n",
       " {'id': 890, 'math': 5.0, 'literature': 7.6}]"
      ]
     },
     "execution_count": 10,
     "metadata": {},
     "output_type": "execute_result"
    }
   ],
   "source": [
    "def is_before(student1, student2):\n",
    "    return student1['math'] > student2['math']\n",
    "\n",
    "def merge_v2(arr, left, right, mid):\n",
    "\n",
    "    # make shallow copy of 2 portions for convenient merging\n",
    "    arr1 = arr[left:mid]\n",
    "    arr2 = arr[mid:right]\n",
    "    \n",
    "    n1 = len(arr1)\n",
    "    n2 = len(arr2)\n",
    "    i = j = 0\n",
    "    k = left\n",
    " \n",
    "    # traverse arr1 and arr2 until one is empty\n",
    "    while i < n1 and j < n2:\n",
    "        if is_before(arr1[i], arr2[j]):\n",
    "            arr[k] = arr1[i]\n",
    "            i += 1\n",
    "        else:\n",
    "            arr[k] = arr2[j]\n",
    "            j += 1\n",
    "        k +=  1\n",
    "     \n",
    "    # get remaining elements\n",
    "    arr[k:k+n1-i] = arr1[i:n1]\n",
    "    k += n1-i\n",
    "    arr[k:k+n2-j] = arr2[j:n2]\n",
    "    \n",
    "\n",
    "def merge_sort_v2(arr, left, right):\n",
    "    \n",
    "    # special cases, arr is sorted\n",
    "    if right-left <= 1:  # stop condition for recursion\n",
    "        return\n",
    "    \n",
    "    # split arr into 2 halves, then sort each half individually\n",
    "    mid = (left+right)//2\n",
    "    merge_sort_v2(arr, left, mid)   # recursive call\n",
    "    merge_sort_v2(arr, mid, right)  # recursive call\n",
    "\n",
    "    # merge 2 sorted halves\n",
    "    merge_v2(arr, left, right, mid)\n",
    "    \n",
    "    \n",
    "# driver code\n",
    "merge_sort_v2(student_grade_list, 0 , len(student_grade_list))\n",
    "student_grade_list"
   ]
  },
  {
   "cell_type": "markdown",
   "metadata": {},
   "source": [
    "## 3.2. Quicksort\n",
    "\n",
    "**Yêu cầu**: Hãy thay đổi code của thuật toán Quicksort trong bài học để chọn *pivot* là phần tử cuối cùng bên phải của dãy."
   ]
  },
  {
   "cell_type": "code",
   "execution_count": 11,
   "metadata": {},
   "outputs": [],
   "source": [
    "def partition_right(arr, left, right):\n",
    "    pivot = arr[right-1]  # choose pivot as the right-most element\n",
    "    i = left-1\n",
    "    for j in range(left, right-1):\n",
    "        if arr[j] < pivot:  # if found smaller element...\n",
    "            i += 1\n",
    "            arr[i], arr[j] = arr[j], arr[i]  # ... move it to the left side\n",
    "    arr[i+1], arr[right-1] = arr[right-1], arr[i+1]  # after finishing, swap pivot to its position\n",
    "    return i+1\n",
    "\n",
    "\n",
    "def quick_sort_right(arr, left, right):\n",
    "    \n",
    "    if right-left <= 1:  # array already sorted / stop condition for recursion\n",
    "        return\n",
    "    \n",
    "    # split arr into 2 parts\n",
    "    partition_index = partition_right(arr, left, right)\n",
    "    \n",
    "    # sort each part individually\n",
    "    quick_sort_right(arr, left, partition_index)     # recursive call\n",
    "    quick_sort_right(arr, partition_index+1, right)  # recursive call"
   ]
  },
  {
   "cell_type": "code",
   "execution_count": 12,
   "metadata": {},
   "outputs": [
    {
     "name": "stdout",
     "output_type": "stream",
     "text": [
      "Before sorting: [5, 9, 1, 12, 30, 35, 75, 10, 15, 20, 4, 0, 20, 0, 20, 3, 6, 14]\n",
      "After sorting:  [0, 0, 1, 3, 4, 5, 6, 9, 10, 12, 14, 15, 20, 20, 20, 30, 35, 75]\n"
     ]
    },
    {
     "data": {
      "image/png": "[encoded data removed]",
      "text/plain": [
       "<Figure size 1440x288 with 1 Axes>"
      ]
     },
     "metadata": {
      "needs_background": "light"
     },
     "output_type": "display_data"
    }
   ],
   "source": [
    "number_list_2 = number_list[:]\n",
    "\n",
    "quick_sort_right(number_list_2, 0, len(number_list_2))\n",
    "\n",
    "print(\"Before sorting: {}\".format(number_list))\n",
    "print(\"After sorting:  {}\".format(number_list_2))\n",
    "show_list(number_list_2, title='number_list_2')"
   ]
  },
  {
   "cell_type": "code",
   "execution_count": null,
   "metadata": {},
   "outputs": [],
   "source": []
  }
 ],
 "metadata": {
  "kernelspec": {
   "display_name": "Python 3",
   "language": "python",
   "name": "python3"
  },
  "language_info": {
   "codemirror_mode": {
    "name": "ipython",
    "version": 3
   },
   "file_extension": ".py",
   "mimetype": "text/x-python",
   "name": "python",
   "nbconvert_exporter": "python",
   "pygments_lexer": "ipython3",
   "version": "3.8.3"
  }
 },
 "nbformat": 4,
 "nbformat_minor": 4
}
