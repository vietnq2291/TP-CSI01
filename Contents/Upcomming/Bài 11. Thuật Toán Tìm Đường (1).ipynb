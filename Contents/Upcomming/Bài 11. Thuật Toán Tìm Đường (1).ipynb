{
 "cells": [
  {
   "cell_type": "markdown",
   "metadata": {},
   "source": [
    "## <center>Computer Science Intensive Course - MindX</center>\n",
    "![](./assets/logo.png)\n",
    "# <center>BÀI 11. THUẬT TOÁN TÌM ĐƯỜNG (1)</center>"
   ]
  },
  {
   "cell_type": "markdown",
   "metadata": {},
   "source": [
    "# 1. Tìm Kiếm Theo Chiều Sâu (Depth-First Search / DFS)\n",
    "\n",
    "**DFS** là thuật toán duyệt qua các đỉnh trong một đồ thị với tư tưởng: bắt đầu từ một đỉnh bất kì, duyệt theo các đỉnh kề để đến đỉnh xa nhất có thể trên mỗi nhánh, sau đó trở lại các điểm rẽ nhánh và tiếp tục duyệt.  \n",
    "\n",
    "Ta có thể tìm hiểu thứ tự duyệt của DFS qua ví dụ trên tree dưới đây:\n",
    "\n",
    "![](./assets/dfs.gif)\n",
    "<div style='text-align: right'><i>Ảnh: commons.wikimedia.org</i></div>\n",
    "\n",
    "**Thuật toán** duyệt của DFS:\n",
    "1. Duyệt đỉnh xuất phát, đánh dấu đỉnh xuất phát đã được duyệt\n",
    "2. Xét các đỉnh kề với đỉnh đang duyệt:  \n",
    "   2.1. Nếu đỉnh đang xét chưa được duyệt => duyệt đỉnh đang xét  \n",
    "   2.2. Nếu đỉnh đang xét đã được duyệt   => bỏ qua\n",
    "   \n",
    "**Visualization**: https://visualgo.net/en/dfsbfs."
   ]
  },
  {
   "cell_type": "markdown",
   "metadata": {},
   "source": [
    "### Code\n",
    "\n",
    "DFS chính là thuật toán được dùng để duyệt cây và đồ thị ở bài trước: Bắt đầu từ một đỉnh, ta lần theo các cạnh để đi đến các đỉnh liền kề. Khi hết đường, ta quay lại đường đã đi để tiếp tục duyệt các nhánh chưa đi qua.  \n",
    "\n",
    "Thuật toán DFS có thể được cài đặt khá đơn giản với một hàm đệ quy như sau:"
   ]
  },
  {
   "cell_type": "code",
   "execution_count": 1,
   "metadata": {},
   "outputs": [],
   "source": [
    "# traverse graph recursively from `vertex`\n",
    "def dfs_recursive(vertex, graph, visited):\n",
    "    \n",
    "    # mark current vertex as visited\n",
    "    visited.add(vertex)\n",
    "    print(vertex, end=' ')\n",
    "    \n",
    "    # traverse adjacent branches recursively\n",
    "    for next_vertex in graph[vertex]:\n",
    "        if next_vertex not in visited:\n",
    "            dfs_recursive(next_vertex, graph, visited)\n",
    "    \n",
    "\n",
    "# traverse graph from `start` vertex\n",
    "def dfs(graph, start):\n",
    "    print('Treverse path: ', end='')\n",
    "    dfs_recursive(start, graph, set())  # init `visited` set"
   ]
  },
  {
   "cell_type": "markdown",
   "metadata": {},
   "source": [
    "**Ví dụ**: Thứ tự duyệt các đỉnh của DFS trên đồ thị sau:"
   ]
  },
  {
   "cell_type": "markdown",
   "metadata": {},
   "source": [
    "![](./assets/graph2.png)"
   ]
  },
  {
   "cell_type": "code",
   "execution_count": 2,
   "metadata": {},
   "outputs": [
    {
     "name": "stdout",
     "output_type": "stream",
     "text": [
      "Treverse path: 0 1 2 3 4 "
     ]
    }
   ],
   "source": [
    "graph = {\n",
    "    0: [1, 4],\n",
    "    1: [0, 2, 3, 4],\n",
    "    2: [1, 3],\n",
    "    3: [1, 2, 4],\n",
    "    4: [0, 1, 3]\n",
    "}\n",
    "\n",
    "# change starting vertex to see how the path changes\n",
    "dfs(graph, 0)"
   ]
  },
  {
   "cell_type": "markdown",
   "metadata": {},
   "source": [
    "### Độ Phức Tạp\n",
    "\n",
    "Giả sử ta có một đồ thị vô hướng liên thông (mọi đỉnh đều có kết nối với nhau) là *G=(V, E)*, với *V* là danh sách các đỉnh (vertex), *E* là danh sách các cạnh (edge). Ta có *|V |* là số đỉnh, *|E |* là số cạnh trong đồ thị.\n",
    "\n",
    "**Độ phức tạp thời gian**:\n",
    "- Ta gọi DFS đúng một lần trên mỗi đỉnh với độ phức tạp là *O(|V |)*.\n",
    "- Với đồ thị vô hướng, DFS duyệt qua mỗi cạnh đúng hai lần với độ phức tạp là *O(|2E |)* = *O(|E |)*.\n",
    "- Như vậy, độ phức tạp về thời gian của thuật toán là:\n",
    "  \\begin{equation} O(|V|) + O(|E|) = O(|V|+|E|) \\end{equation}\n",
    "\n",
    "**Độ phức tạp không gian**:\n",
    "- Việc lưu trữ đồ thị dưới dạng danh sách kề chiếm *O(|V | + |2E |)* = *O(|V | + |E |)* bộ nhớ.\n",
    "- Ta đánh dấu các đỉnh đã thăm với *O(|V |)* bộ nhớ.\n",
    "- Bên cạnh đó, việc gọi đệ quy cũng chiếm *O(|V |)* vùng nhớ stack.\n",
    "- Tổng hợp, độ phức tạp về không gian của thuật toán là:\n",
    "  \\begin{equation} O(|V|+|E|) + O(|V|) + O(|V|) = O(|V|+|E|) \\end{equation}\n",
    "  \n",
    "### Đặc Điểm:\n",
    "- Thuật toán DFS không đảm bảo tìm được đường đi ngắn nhất giữa hai đỉnh.\n",
    "- Để tránh bị tràn bộ nhớ do đệ quy, ta có thể dùng cấu trúc dữ liệu *stack* để lưu các đỉnh cần thăm tiếp theo.\n",
    "\n",
    "### Ứng dụng:\n",
    "\n",
    "DFS được dùng để duyệt các cấu trúc đồ thị và cây nên có thể được áp dụng cho những bài toán có cấu trúc dữ liệu dạng đồ thị:\n",
    "- Tìm đường để thoát khỏi mê cung\n",
    "- Xác định các vật thể khác nhau trong một bức ảnh\n",
    "\n",
    "Ngoài ra, DFS còn làm nền tảng cho các thuật toán phức tạp hơn trên đồ thị:\n",
    "- Xác định các thành phần liên thông của đồ thị\n",
    "- Sắp xếp tô-pô cho đồ thị\n",
    "- Xác định các thành phần liên thông mạnh của đồ thị có hướng\n",
    "- Kiểm tra một đồ thị có phải là đồ thị phẳng hay không"
   ]
  },
  {
   "cell_type": "markdown",
   "metadata": {},
   "source": [
    "# 2. Thực Hành"
   ]
  },
  {
   "cell_type": "markdown",
   "metadata": {},
   "source": [
    "## 2.1. In Biểu Thức\n",
    "\n",
    "**Yêu cầu**: Cho một cây biểu thức với các toán tử hai ngôi như bên dưới, hãy dùng thuật toán DFS để in ra biểu thức dạng *prefix, postfix, infix* từ cây trên.\n",
    "\n",
    "![](./assets/expression-tree.png)\n",
    "\n",
    "**Kết quả**:\n",
    "<pre>\n",
    "- Prefix:  + 3 * + 5 9 2\n",
    "- Postfix: 3 5 9 + 2 * + \n",
    "- Infix:   (3 + ((5 + 9) * 2))\n",
    "</pre>\n",
    "\n",
    "Cây biểu thức và hàm in biểu thức *prefix* đã được cho sẵn bên dưới, hãy viết hàm in ra biểu thức dạng *postfix* và *infix*.  \n",
    "\n",
    "*Lưu ý*: Dùng các dấu ngoặc ở mỗi phép tính trong biểu thức *infix* để đảm bảo các phép tính được thực hiện đúng thứ tự."
   ]
  },
  {
   "cell_type": "code",
   "execution_count": 3,
   "metadata": {},
   "outputs": [],
   "source": [
    "class Node:\n",
    "    def __init__(self, data):\n",
    "        self.data = data\n",
    "        self.left = None\n",
    "        self.right = None\n",
    "        \n",
    "root = Node('+')\n",
    "root.left, root.right = Node(3), Node('*')\n",
    "root.right.left, root.right.right = Node('+'), Node(2)\n",
    "root.right.left.left, root.right.left.right = Node(5), Node(9)"
   ]
  },
  {
   "cell_type": "code",
   "execution_count": 4,
   "metadata": {},
   "outputs": [
    {
     "name": "stdout",
     "output_type": "stream",
     "text": [
      "Prefix:  + 3 * + 5 9 2 "
     ]
    }
   ],
   "source": [
    "def print_prefix(node):\n",
    "    \n",
    "    # print current node\n",
    "    print(node.data, end=' ')\n",
    "    \n",
    "    # if node have left child, node would also have right child\n",
    "    if node.left is not None:\n",
    "        print_prefix(node.left)   # print left then right child\n",
    "        print_prefix(node.right)\n",
    "\n",
    "\n",
    "print('Prefix:  ', end='')\n",
    "print_prefix(root)"
   ]
  },
  {
   "cell_type": "code",
   "execution_count": 5,
   "metadata": {},
   "outputs": [
    {
     "name": "stdout",
     "output_type": "stream",
     "text": [
      "\n",
      "Postfix: 3 5 9 + 2 * + \n",
      "Infix:   (3 + ((5 + 9) * 2))"
     ]
    }
   ],
   "source": [
    "# SOLUTION\n",
    "\n",
    "def print_postfix(node):\n",
    "    \n",
    "    # if node have left child, node would also have right child\n",
    "    if node.left is not None:\n",
    "        print_postfix(node.left)\n",
    "        print_postfix(node.right)\n",
    "        \n",
    "    # print current node after printing sub-trees\n",
    "    print(node.data, end=' ')\n",
    "\n",
    "\n",
    "def print_infix(node):\n",
    "    \n",
    "    # if node have left child, node would also have right child\n",
    "    # if node have children, node is an operation\n",
    "    if node.left is not None:\n",
    "        print('(', end='')       # open bracket before each operation\n",
    "        print_infix(node.left)   \n",
    "        print(' ' + node.data + ' ', end='')  # print current operation in the middle\n",
    "        print_infix(node.right)\n",
    "        print(')', end='')       # open bracket before each operation\n",
    "                           \n",
    "    else:  # node does not have children => node is an operand\n",
    "        print(node.data, end='')  # print node and stop traversing\n",
    "\n",
    "\n",
    "print('\\nPostfix: ', end='')\n",
    "print_postfix(root)\n",
    "print('\\nInfix:   ', end='')\n",
    "print_infix(root)"
   ]
  },
  {
   "cell_type": "markdown",
   "metadata": {},
   "source": [
    "## 2.2. Kiểm Tra Cây\n",
    "\n",
    "**Yêu cầu**: Cho một đồ thị vô hướng không có trọng số. Hãy kiểm tra đồ thị có phải là cây hay không.  \n",
    "\n",
    "**Input**: Một đồ thị vô hướng không trọng số dưới dạng danh sách kề, với các đỉnh là các số nguyên được đánh số từ 0. Biết *0 < |V | < 100* và *0 <= |E | < 1000*.  \n",
    "**Output**: Trả về True nếu đồ thị là một cây, ngược lại trả về False.  \n",
    "**Ví dụ**:\n",
    "\n",
    "![](./assets/graph-tree.png)\n",
    "\n",
    "*Gợi ý*: Cây là một dạng đặc biệt của đồ thị với các tính chất:\n",
    "- Liên thông: tất cả các đỉnh đều được kết nối với nhau\n",
    "- Không có chu trình: bắt đầu từ một đỉnh bất kì, không tồn tại một đường đi nào để quay lại đỉnh đó mà không quay lại các cạnh đã đi\n",
    "- Từ hai điều trên, ta có thể suy ra một cây luôn có *|E | = |V | - 1*"
   ]
  },
  {
   "cell_type": "code",
   "execution_count": 6,
   "metadata": {},
   "outputs": [],
   "source": [
    "not_tree = {\n",
    "    0: [1, 4],\n",
    "    1: [0, 2, 3, 4],\n",
    "    2: [1, 3],\n",
    "    3: [1, 2, 4],\n",
    "    4: [0, 1, 3]\n",
    "}\n",
    "\n",
    "tree = {\n",
    "    0: [4],\n",
    "    1: [4],\n",
    "    2: [3],\n",
    "    3: [2, 4],\n",
    "    4: [0, 1, 3]\n",
    "}"
   ]
  },
  {
   "cell_type": "code",
   "execution_count": 8,
   "metadata": {},
   "outputs": [
    {
     "data": {
      "text/plain": [
       "False"
      ]
     },
     "execution_count": 8,
     "metadata": {},
     "output_type": "execute_result"
    }
   ],
   "source": [
    "# SOLUTION\n",
    "\n",
    "# traverse graph recursively from `vertex`\n",
    "def dfs_recursive(vertex, graph, visited):\n",
    "    \n",
    "    # mark current vertex as visited\n",
    "    visited.add(vertex)\n",
    "    \n",
    "    # traverse adjacent branches recursively\n",
    "    for next_vertex in graph[vertex]:\n",
    "        if next_vertex not in visited:\n",
    "            dfs_recursive(next_vertex, graph, visited)\n",
    "\n",
    "\n",
    "def is_tree(graph):\n",
    "    \n",
    "    # count |V| and |E|\n",
    "    v_num = len(graph)\n",
    "    e_num = 0\n",
    "    for _, adj_vertices in graph.items():\n",
    "        e_num += len(adj_vertices)\n",
    "    e_num //= 2\n",
    "    \n",
    "    # a tree must have |E| = |V| - 1\n",
    "    if e_num != v_num - 1:\n",
    "        return False\n",
    "    \n",
    "    # traverse the tree\n",
    "    visited = set()\n",
    "    dfs_recursive(0, graph, visited)\n",
    "    \n",
    "    # if we can visit every vertex with |V|-1 edges => the graph is a tree\n",
    "    return len(visited) == v_num\n",
    "\n",
    "\n",
    "# driver code\n",
    "is_tree(not_tree)"
   ]
  },
  {
   "cell_type": "code",
   "execution_count": null,
   "metadata": {},
   "outputs": [],
   "source": []
  }
 ],
 "metadata": {
  "kernelspec": {
   "display_name": "Python 3",
   "language": "python",
   "name": "python3"
  },
  "language_info": {
   "codemirror_mode": {
    "name": "ipython",
    "version": 3
   },
   "file_extension": ".py",
   "mimetype": "text/x-python",
   "name": "python",
   "nbconvert_exporter": "python",
   "pygments_lexer": "ipython3",
   "version": "3.8.3"
  }
 },
 "nbformat": 4,
 "nbformat_minor": 4
}
