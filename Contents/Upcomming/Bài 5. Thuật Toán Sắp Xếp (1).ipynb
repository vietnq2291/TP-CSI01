{
 "cells": [
  {
   "cell_type": "markdown",
   "metadata": {},
   "source": [
    "## <center>Computer Science Intensive Course - MindX</center>\n",
    "![](./assets/logo.png)\n",
    "# <center>BÀI 5. THUẬT TOÁN SẮP XẾP (1)</center>"
   ]
  },
  {
   "cell_type": "code",
   "execution_count": 7,
   "metadata": {},
   "outputs": [],
   "source": [
    "# run this cell FIRST\n",
    "import matplotlib.pyplot as plt\n",
    "\n",
    "def show_list(arr, title=''):\n",
    "    fig, ax = plt.subplots(figsize=(20, 4))\n",
    "    ax.bar(range(len(arr)), arr)\n",
    "    ax.set_title(title)\n",
    "    ax.set_xlabel('index')\n",
    "    ax.set_xticks(range(len(arr)))\n",
    "    ax.spines['top'].set_visible(False)\n",
    "    ax.spines['right'].set_visible(False)\n",
    "    plt.show()"
   ]
  },
  {
   "cell_type": "markdown",
   "metadata": {},
   "source": [
    "# 1. Selection Sort\n",
    "\n",
    "**Bài toán**: Cho một dãy gồm *0 < n < 10<sup>6</sup>* số nguyên, mỗi số có giá trị trong khoảng [0, 10<sup>9</sup>], sắp xếp dãy trên theo thứ tự tăng dần."
   ]
  },
  {
   "cell_type": "code",
   "execution_count": 8,
   "metadata": {},
   "outputs": [
    {
     "data": {
      "image/png": "[encoded data removed]",
      "text/plain": [
       "<Figure size 1440x288 with 1 Axes>"
      ]
     },
     "metadata": {
      "needs_background": "light"
     },
     "output_type": "display_data"
    }
   ],
   "source": [
    "number_list = [5, 9, 1, 12, 30, 35, 75, 10, 15, 20, 4, 0, 20, 0, 20, 3, 6, 14]\n",
    "show_list(number_list, title='number_list')"
   ]
  },
  {
   "cell_type": "markdown",
   "metadata": {},
   "source": [
    "**Cách tiếp cận**:  \n",
    "Selection Sort sử dụng cách tiếp cận đơn giản nhất:\n",
    "- Tìm phần tử nhỏ nhất và chuyển lên đầu dãy.\n",
    "- Sau đó, tiếp tục tìm phần tử nhỏ nhất trong phần còn lại của dãy và chuyển lên vị trí thứ hai.\n",
    "- Tiếp tục như vậy đến khi hết dãy.  \n",
    "\n",
    "Visualization: https://visualgo.net/en/sorting, thuật toán thứ hai."
   ]
  },
  {
   "cell_type": "markdown",
   "metadata": {},
   "source": [
    "### Code:"
   ]
  },
  {
   "cell_type": "code",
   "execution_count": 9,
   "metadata": {},
   "outputs": [],
   "source": [
    "# get the index of the smallest element, from the specified index to the end of list\n",
    "def find_min(data_list, from_index):\n",
    "    min_ind = from_index\n",
    "    for i in range(from_index+1, len(data_list)):\n",
    "        if data_list[i] < data_list[min_ind]:\n",
    "            min_ind = i\n",
    "    return min_ind\n",
    "\n",
    "\n",
    "def selection_sort(data_list):\n",
    "    for i in range(len(data_list)-1):\n",
    "        min_ind = find_min(data_list, i)  # get the index of the min\n",
    "        if min_ind != i:                  # swap current item and the min\n",
    "            data_list[i], data_list[min_ind] = data_list[min_ind], data_list[i]"
   ]
  },
  {
   "cell_type": "code",
   "execution_count": 16,
   "metadata": {},
   "outputs": [
    {
     "name": "stdout",
     "output_type": "stream",
     "text": [
      "Before sorting: [5, 9, 1, 12, 30, 35, 75, 10, 15, 20, 4, 0, 20, 0, 20, 3, 6, 14]\n",
      "After sorting:  [0, 0, 1, 3, 4, 5, 6, 9, 10, 12, 14, 15, 20, 20, 20, 30, 35, 75]\n"
     ]
    },
    {
     "data": {
      "image/png": "[encoded data removed]",
      "text/plain": [
       "<Figure size 1440x288 with 1 Axes>"
      ]
     },
     "metadata": {
      "needs_background": "light"
     },
     "output_type": "display_data"
    }
   ],
   "source": [
    "number_list_2 = number_list[:]  # shallow copy, only copy element references\n",
    "\n",
    "selection_sort(number_list_2)\n",
    "\n",
    "print(\"Before sorting: {}\".format(number_list))\n",
    "print(\"After sorting:  {}\".format(number_list_2))\n",
    "show_list(number_list_2, title='number_list_2')"
   ]
  },
  {
   "cell_type": "markdown",
   "metadata": {},
   "source": [
    "**Cách hoạt động**:  \n",
    "- Thuật toán Selection Sort chia danh sách cần sắp xếp thành 2 phần: đã được sắp xếp (nằm bên trái) và chưa được sắp xếp (bên phải).\n",
    "- Ở mỗi lần lặp, thuật toán tìm phần tử nhỏ nhất của phần chưa sắp xếp để đưa vào cuối phần đã sắp xếp.  \n",
    "\n",
    "**Độ phức tạp thời gian**:\n",
    "- Thuật toán tìm min *n-1* lần. Lần thứ nhất tìm trên dãy có *n* phần tử, lần thứ hai trên *n-1* phần tử, lần thứ ba trên *n-2* phần tử,...  \n",
    "- Bỏ qua các lệnh gán và swap (do mỗi lệnh có độ phức tạp *O(1)*), ta có thể tính xấp xỉ số câu lệnh thuật toán cần thực hiện là: \\begin{equation} n + (n-1) + (n-2) + ... + 3 + 2 = \\frac{(n+2)(n-1)}{2} = \\frac{n^2+n-2}{2} \\end{equation}\n",
    "- Do đó, thuật toán Selection Sort có độ phức tạp về thời gian là *O(n<sup>2</sup>)*  \n",
    "\n",
    "**Độ phức tạp không gian**:\n",
    "- Thuật toán có độ phức tạp về không gian là *O(n)* để lưu trữ danh sách cần sắp xếp."
   ]
  },
  {
   "cell_type": "markdown",
   "metadata": {},
   "source": [
    "# 2. Bubble Sort\n",
    "\n",
    "**Bài toán**: Bubble Sort (sắp xếp nổi bọt) cũng xử lý bài toán như Selection Sort, nhưng với cách tiếp cận khác.\n",
    "\n",
    "Bubble Sort sử dụng **cách tiếp cận** sau:\n",
    "- Xét lần lượt các cặp 2 phần tử liên tiếp. Nếu phần tử đứng sau nhỏ hơn phần tử đứng trước, ta đổi chỗ 2 phần tử đó.\n",
    "- Giả sử ta xét các cặp theo thứ tự index (0, 1), (1, 2), (2, 3),... thì sau một lần xét qua dãy, phần tử có giá trị lớn nhất sẽ nằm ở cuối dãy.\n",
    "- Như vậy, lúc này dãy cần sắp xếp cũng được chia thành 2 phần: đã được sắp xếp (nằm bên phải) và chưa được sắp xếp (bên trái). Ta tiếp tục thực hiện việc xét các cặp ở phần chưa được sắp xếp để đưa phần tử lớn nhất vào phần đã được sắp xếp.  \n",
    "\n",
    "Bubble Sort có tên như vậy vì sau mỗi lượt xét các cặp ở phần chưa được sắp xếp, một phần tử sẽ \"nổi lên\" ở phần đã được sắp xếp. Ngoài ra, Bubble Sort còn có tên là Sinking Sort (chìm xuống).\n",
    "\n",
    "Visualization: https://visualgo.net/en/sorting, thuật toán thứ nhất."
   ]
  },
  {
   "cell_type": "markdown",
   "metadata": {},
   "source": [
    "### Code:"
   ]
  },
  {
   "cell_type": "code",
   "execution_count": 18,
   "metadata": {},
   "outputs": [],
   "source": [
    "def bubble_sort(arr):\n",
    "    for i in range(len(arr)-1, 0, -1):  # i is the index between the sorted and unsorted part\n",
    "        for j in range(i):              # loop j through the pairs in the unsorted part\n",
    "            if arr[j] > arr[j+1]:\n",
    "                arr[j], arr[j+1] = arr[j+1], arr[j]"
   ]
  },
  {
   "cell_type": "code",
   "execution_count": 22,
   "metadata": {},
   "outputs": [
    {
     "name": "stdout",
     "output_type": "stream",
     "text": [
      "Before sorting: [5, 9, 1, 12, 30, 35, 75, 10, 15, 20, 4, 0, 20, 0, 20, 3, 6, 14]\n",
      "After sorting:  [0, 0, 1, 3, 4, 5, 6, 9, 10, 12, 14, 15, 20, 20, 20, 30, 35, 75]\n"
     ]
    },
    {
     "data": {
      "image/png": "[encoded data removed]",
      "text/plain": [
       "<Figure size 1440x288 with 1 Axes>"
      ]
     },
     "metadata": {
      "needs_background": "light"
     },
     "output_type": "display_data"
    }
   ],
   "source": [
    "number_list_2 = number_list[:]\n",
    "\n",
    "bubble_sort(number_list_2)\n",
    "\n",
    "print(\"Before sorting: {}\".format(number_list))\n",
    "print(\"After sorting:  {}\".format(number_list_2))\n",
    "show_list(number_list_2, title='number_list_2')"
   ]
  },
  {
   "cell_type": "markdown",
   "metadata": {},
   "source": [
    "**Độ phức tạp thời gian**:\n",
    "- Thuật toán Bubble Sort chạy vòng lặp trên biến i *n-1* lần. Lần thứ nhất kiểm tra *n-1* cặp số, lần thứ hai kiểm tra *n-2* cặp, lần thứ ba *n-3* cặp,...\n",
    "- Bỏ qua các lệnh gán và swap, ta có thể tính xấp xỉ số câu lệnh thuật toán cần thực hiện là: \\begin{equation} (n-1) + (n-2) + ... + 2 + 1 = \\frac{n(n-1)}{2} = \\frac{n^2-n}{2} \\end{equation}\n",
    "- Do đó, thuật toán Bubble Sort có độ phức tạp về thời gian là *O(n<sup>2</sup>)*  \n",
    "\n",
    "\n",
    "**Độ phức tạp không gian**:\n",
    "- Thuật toán có độ phức tạp về không gian là *O(n)* để lưu trữ danh sách cần sắp xếp."
   ]
  },
  {
   "cell_type": "markdown",
   "metadata": {},
   "source": [
    "# 3. Insertion Sort\n",
    "\n",
    "**Bài toán**: Insertion Sort (sắp xếp chèn) cũng là một cách tiếp cận khác của thuật toán sắp xếp.  \n",
    "\n",
    "Insertion Sort sử dụng **cách tiếp cận** sau:\n",
    "- Insertion sort cũng chia danh sách dữ liệu thành 2 phần: phần đã được sắp xếp nằm bên trái và chưa được sắp xếp nằm bên phải.\n",
    "- Giả sử ta đã sắp xếp xong i phần tử của dãy. Ta tiếp tục sắp xếp bằng cách tìm vị trí phù hợp của phần tử thứ i+1 và \"chèn\" nó vào đó.\n",
    "- Ta bắt đầu thuật toán bằng cách xem phần đã được sắp xếp là dãy gồm một phần tử đầu tiên, sau đó thực hiện chèn phần tử thứ 2, 3, 4,... vào dãy đã sắp xếp.\n",
    "\n",
    "Visualization: https://visualgo.net/en/sorting, thuật toán thứ ba."
   ]
  },
  {
   "cell_type": "markdown",
   "metadata": {},
   "source": [
    "### Code:"
   ]
  },
  {
   "cell_type": "code",
   "execution_count": 20,
   "metadata": {},
   "outputs": [],
   "source": [
    "def insertion_sort(arr):\n",
    "    for i in range(1, len(arr)):  # arr[i] is the element to be inserted\n",
    "        j = i\n",
    "        while j > 0 and arr[j] < arr[j-1]:  # move the element to the left until found the correct position\n",
    "            arr[j], arr[j-1] = arr[j-1], arr[j]\n",
    "            j -= 1"
   ]
  },
  {
   "cell_type": "code",
   "execution_count": 23,
   "metadata": {},
   "outputs": [
    {
     "name": "stdout",
     "output_type": "stream",
     "text": [
      "Before sorting: [5, 9, 1, 12, 30, 35, 75, 10, 15, 20, 4, 0, 20, 0, 20, 3, 6, 14]\n",
      "After sorting:  [0, 0, 1, 3, 4, 5, 6, 9, 10, 12, 14, 15, 20, 20, 20, 30, 35, 75]\n"
     ]
    },
    {
     "data": {
      "image/png": "[encoded data removed]",
      "text/plain": [
       "<Figure size 1440x288 with 1 Axes>"
      ]
     },
     "metadata": {
      "needs_background": "light"
     },
     "output_type": "display_data"
    }
   ],
   "source": [
    "number_list_2 = number_list[:]\n",
    "\n",
    "insertion_sort(number_list_2)\n",
    "\n",
    "print(\"Before sorting: {}\".format(number_list))\n",
    "print(\"After sorting:  {}\".format(number_list_2))\n",
    "show_list(number_list_2, title='number_list_2')"
   ]
  },
  {
   "cell_type": "markdown",
   "metadata": {},
   "source": [
    "**Độ phức tạp thời gian**:\n",
    "- Độ phức tạp về thời gian của thuật toán Insertion Sort cũng là *O(n<sup>2</sup>)* do trong trường hợp xấu nhất (dãy được sắp xếp từ lớn đến nhỏ), thuật toán phải dịch chuyển mỗi phần tử về vị trí đầu tiên của dãy.\n",
    "- Tuy nhiên, đối với dãy gần như đã theo thứ tự (ví dụ [1, 3, 5, 7, 6]), thuật toán này có tốc độ chạy gần với một thuật toán *O(n)*, do ta chỉ cần dịch chuyển một số ít phần tử. Ta có thể xem cách xử lý của thuật toán trong trường hợp này tại https://visualgo.net/en/sorting: Create -> Nearly Sorted.\n",
    "\n",
    "**Độ phức tạp không gian**:\n",
    "- Thuật toán có độ phức tạp về không gian là *O(n)* để lưu trữ danh sách cần sắp xếp."
   ]
  },
  {
   "cell_type": "markdown",
   "metadata": {},
   "source": [
    "# 4. Thực Hành"
   ]
  },
  {
   "cell_type": "markdown",
   "metadata": {},
   "source": [
    "## 4.1. Selection Sort\n",
    "\n",
    "**Yêu cầu**: Hiện thực thuật toán Selection Sort theo thứ tự từ nhỏ đến lớn mà không tách thành hai hàm như code mẫu trên bài học."
   ]
  },
  {
   "cell_type": "code",
   "execution_count": 25,
   "metadata": {},
   "outputs": [],
   "source": [
    "number_list = [5, 9, 1, 12, 30, 35, 75, 10, 15, 20, 4, 0, 20, 0, 20, 3, 6, 14]"
   ]
  },
  {
   "cell_type": "code",
   "execution_count": 26,
   "metadata": {},
   "outputs": [],
   "source": [
    "def selection_sort_v2(data_list):\n",
    "    length = len(data_list)\n",
    "    for i in range(length-1):\n",
    "        min_ind = i\n",
    "        for j in range(i+1, length):  # get the index of the min\n",
    "            if data_list[j] < data_list[min_ind]:\n",
    "                min_ind = j\n",
    "        if min_ind != i:              # swap current item and the min\n",
    "            data_list[i], data_list[min_ind] = data_list[min_ind], data_list[i]"
   ]
  },
  {
   "cell_type": "code",
   "execution_count": 27,
   "metadata": {},
   "outputs": [
    {
     "name": "stdout",
     "output_type": "stream",
     "text": [
      "Before sorting: [5, 9, 1, 12, 30, 35, 75, 10, 15, 20, 4, 0, 20, 0, 20, 3, 6, 14]\n",
      "After sorting:  [0, 0, 1, 3, 4, 5, 6, 9, 10, 12, 14, 15, 20, 20, 20, 30, 35, 75]\n"
     ]
    },
    {
     "data": {
      "image/png": "[encoded data removed]",
      "text/plain": [
       "<Figure size 1440x288 with 1 Axes>"
      ]
     },
     "metadata": {
      "needs_background": "light"
     },
     "output_type": "display_data"
    }
   ],
   "source": [
    "number_list_2 = number_list[:]\n",
    "\n",
    "selection_sort_v2(number_list_2)\n",
    "\n",
    "print(\"Before sorting: {}\".format(number_list))\n",
    "print(\"After sorting:  {}\".format(number_list_2))\n",
    "show_list(number_list_2, title='number_list_2')"
   ]
  },
  {
   "cell_type": "markdown",
   "metadata": {},
   "source": [
    "## 4.2. Tăng Dần Hoặc Giảm Dần\n",
    "\n",
    "**Yêu cầu**: Viết một hàm sử dụng thuật toán Bubble Sort để sắp xếp dãy số theo thứ tự tăng dần hoặc giảm dần. Hàm nhận tham số *ascending* với giá trị là *True* hoặc *False* để người sử dụng chọn tăng dần hoặc giảm dần. Hàm mặc định sắp xếp tăng dần nếu không nhận được tham số *ascending*."
   ]
  },
  {
   "cell_type": "code",
   "execution_count": 28,
   "metadata": {},
   "outputs": [],
   "source": [
    "# VERSION 1: Using lambda functions\n",
    "def bubble_sort_optional(arr, ascending=True):\n",
    "    \n",
    "    # choose compare function base on \"ascending\"\n",
    "    compare_func = None\n",
    "    if ascending:\n",
    "        compare_func = lambda num1, num2: num1 > num2\n",
    "    else:\n",
    "        compare_func = lambda num1, num2: num1 < num2\n",
    "    \n",
    "    # bubble sort\n",
    "    for i in range(len(arr)-1, 0, -1):  # i is the index between the sorted and unsorted part\n",
    "        for j in range(i):              # loop j through the pairs in the unsorted part\n",
    "            if compare_func(arr[j], arr[j+1]):\n",
    "                arr[j], arr[j+1] = arr[j+1], arr[j]\n",
    "                \n",
    "\n",
    "# VERSION 2: Using normal functions\n",
    "def is_bigger(num1, num2):\n",
    "    return num1 > num2\n",
    "def is_smaller(num1, num2):\n",
    "    return num1 < num2\n",
    "\n",
    "def bubble_sort_optional_v2(arr, ascending=True):\n",
    "    \n",
    "    # choose compare function base on \"ascending\"\n",
    "    compare_func = None\n",
    "    if ascending:\n",
    "        compare_func = is_bigger\n",
    "    else:\n",
    "        compare_func = is_smaller\n",
    "    \n",
    "    # bubble sort\n",
    "    for i in range(len(arr)-1, 0, -1):  # i is the index between the sorted and unsorted part\n",
    "        for j in range(i):              # loop j through the pairs in the unsorted part\n",
    "            if compare_func(arr[j], arr[j+1]):\n",
    "                arr[j], arr[j+1] = arr[j+1], arr[j]"
   ]
  },
  {
   "cell_type": "code",
   "execution_count": 30,
   "metadata": {},
   "outputs": [
    {
     "name": "stdout",
     "output_type": "stream",
     "text": [
      "Before sorting: [5, 9, 1, 12, 30, 35, 75, 10, 15, 20, 4, 0, 20, 0, 20, 3, 6, 14]\n",
      "After sorting:  [75, 35, 30, 20, 20, 20, 15, 14, 12, 10, 9, 6, 5, 4, 3, 1, 0, 0]\n"
     ]
    },
    {
     "data": {
      "image/png": "[encoded data removed]",
      "text/plain": [
       "<Figure size 1440x288 with 1 Axes>"
      ]
     },
     "metadata": {
      "needs_background": "light"
     },
     "output_type": "display_data"
    }
   ],
   "source": [
    "number_list_2 = number_list[:]\n",
    "\n",
    "bubble_sort_optional_v2(number_list_2, ascending=False)\n",
    "\n",
    "print(\"Before sorting: {}\".format(number_list))\n",
    "print(\"After sorting:  {}\".format(number_list_2))\n",
    "show_list(number_list_2, title='number_list_2')"
   ]
  },
  {
   "cell_type": "markdown",
   "metadata": {},
   "source": [
    "## 4.3. Bảng Thành Tích\n",
    "\n",
    "Một cuộc thi lập trình online có 1000 thí sinh tham gia. Mỗi thí sinh chỉ được nộp bài 1 lần. Bài nộp sẽ được hệ thống chấm điểm và cập nhật trên bảng điểm chung cuộc. Bảng điểm chung cuộc được sắp xếp theo thứ tự điểm từ cao đến thấp. Mỗi lần xử lý, hệ thống sẽ cập nhật tối đa điểm của 5 thí sinh.\n",
    "\n",
    "**Yêu cầu**: Cho bảng điểm hiện tại có không quá 1000 phần tử và danh sách điểm cần cập nhật có không quá 5 phần tử. Hãy cập nhật bảng điểm sao cho sau khi cập nhật, bảng điểm vẫn được công bố theo thứ tự điểm từ cao đến thấp. Điểm của mỗi thí sinh được lưu dưới dạng *(số báo danh, điểm)*.  \n",
    "\n",
    "**Ví dụ**:  \n",
    "- Input: *current_scores*, *updated_scores*\n",
    "- Output: *result_scores*"
   ]
  },
  {
   "cell_type": "code",
   "execution_count": 35,
   "metadata": {},
   "outputs": [
    {
     "data": {
      "image/png": "[encoded data removed]",
      "text/plain": [
       "<Figure size 1440x288 with 1 Axes>"
      ]
     },
     "metadata": {
      "needs_background": "light"
     },
     "output_type": "display_data"
    }
   ],
   "source": [
    "current_scores = [(324, 30), (257, 23), (111, 20), (345, 20), (897, 13), (667, 12), (909, 12)]\n",
    "updated_scores = [(786, 20), (332, 25)]\n",
    "result_scores = [(324, 30), (768, 25), (257, 23), (111, 20), (345, 20), (332, 20), (897, 13), (667, 12), (909, 12)]\n",
    "\n",
    "\n",
    "show_list(list(zip(*current_scores))[1], 'current_scores')"
   ]
  },
  {
   "cell_type": "code",
   "execution_count": 34,
   "metadata": {},
   "outputs": [],
   "source": [
    "def insertion_sort_highscores(arr1, arr2):\n",
    "    \n",
    "    # combine 2 arrays\n",
    "    length1 = len(arr1)\n",
    "    length2 = len(arr2)\n",
    "    arr1.extend(arr2)\n",
    "    \n",
    "    # insertion sort from the start of arr2\n",
    "    for i in range(length1, length1+length2):\n",
    "        j = i\n",
    "        while j > 0 and arr1[j][1] > arr1[j-1][1]:\n",
    "            arr1[j], arr1[j-1] = arr1[j-1], arr1[j]\n",
    "            j -= 1"
   ]
  },
  {
   "cell_type": "code",
   "execution_count": 36,
   "metadata": {},
   "outputs": [
    {
     "name": "stdout",
     "output_type": "stream",
     "text": [
      "Before update: [(324, 30), (257, 23), (111, 20), (345, 20), (897, 13), (667, 12), (909, 12)]\n",
      "After update:  [(324, 30), (332, 25), (257, 23), (111, 20), (345, 20), (786, 20), (897, 13), (667, 12), (909, 12)]\n"
     ]
    },
    {
     "data": {
      "image/png": "[encoded data removed]",
      "text/plain": [
       "<Figure size 1440x288 with 1 Axes>"
      ]
     },
     "metadata": {
      "needs_background": "light"
     },
     "output_type": "display_data"
    }
   ],
   "source": [
    "print(\"Before update: {}\".format(current_scores))\n",
    "\n",
    "insertion_sort_highscores(current_scores, updated_scores)\n",
    "\n",
    "print(\"After update:  {}\".format(current_scores))\n",
    "show_list(list(zip(*current_scores))[1], 'result')"
   ]
  },
  {
   "cell_type": "code",
   "execution_count": null,
   "metadata": {},
   "outputs": [],
   "source": []
  }
 ],
 "metadata": {
  "kernelspec": {
   "display_name": "Python 3",
   "language": "python",
   "name": "python3"
  },
  "language_info": {
   "codemirror_mode": {
    "name": "ipython",
    "version": 3
   },
   "file_extension": ".py",
   "mimetype": "text/x-python",
   "name": "python",
   "nbconvert_exporter": "python",
   "pygments_lexer": "ipython3",
   "version": "3.8.3"
  }
 },
 "nbformat": 4,
 "nbformat_minor": 4
}
