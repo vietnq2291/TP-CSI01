{
 "cells": [
  {
   "cell_type": "markdown",
   "metadata": {},
   "source": [
    "## <center>Computer Science Intensive Course - MindX</center>\n",
    "![](./assets/logo.png)\n",
    "# <center>TỔNG HỢP THUẬT TOÁN</center>"
   ]
  },
  {
   "cell_type": "markdown",
   "metadata": {},
   "source": [
    "# 1. Thuật Toán Tìm Kiếm"
   ]
  },
  {
   "cell_type": "markdown",
   "metadata": {},
   "source": [
    "## Linear Search"
   ]
  },
  {
   "cell_type": "code",
   "execution_count": null,
   "metadata": {},
   "outputs": [],
   "source": [
    "def linear_search(data_list, value):\n",
    "    for i, el in enumerate(data_list):\n",
    "        if el == value:\n",
    "            return i  # stop the loop and return the result when found\n",
    "    return -1  # special value implying \"not  found\""
   ]
  },
  {
   "cell_type": "markdown",
   "metadata": {},
   "source": [
    "## Binary Search"
   ]
  },
  {
   "cell_type": "code",
   "execution_count": null,
   "metadata": {},
   "outputs": [],
   "source": [
    "def binary_search(data_list, value):\n",
    "    \n",
    "    # initialize searching range\n",
    "    left = 0\n",
    "    right = len(data_list)-1\n",
    " \n",
    "    while left <= right:  # while searching range has at least 1 item...\n",
    "        \n",
    "        # get the middle item\n",
    "        mid = (left + right) // 2\n",
    "        mid_item = data_list[mid]\n",
    "        \n",
    "        # do comparisons\n",
    "        if mid_item < value:\n",
    "            left = mid + 1   # middle item is smaller => update the searching range to half-right\n",
    "        elif mid_item > value:\n",
    "            right = mid - 1  # middle item is larger => update the searching range to half-left\n",
    "        else:\n",
    "            return mid       # value found\n",
    "\n",
    "    return -1  # special value implying \"not  found\""
   ]
  },
  {
   "cell_type": "markdown",
   "metadata": {},
   "source": [
    "# 2. Thuật Toán Sắp Xếp"
   ]
  },
  {
   "cell_type": "markdown",
   "metadata": {},
   "source": [
    "## Selection Sort"
   ]
  },
  {
   "cell_type": "code",
   "execution_count": 9,
   "metadata": {},
   "outputs": [],
   "source": [
    "# get the index of the smallest element, from the specified index to the end of list\n",
    "def find_min(data_list, from_index):\n",
    "    min_ind = from_index\n",
    "    for i in range(from_index+1, len(data_list)):\n",
    "        if data_list[i] < data_list[min_ind]:\n",
    "            min_ind = i\n",
    "    return min_ind\n",
    "\n",
    "\n",
    "def selection_sort(data_list):\n",
    "    for i in range(len(data_list)-1):\n",
    "        min_ind = find_min(data_list, i)  # get the index of the min\n",
    "        if min_ind != i:                  # swap current item and the min\n",
    "            data_list[i], data_list[min_ind] = data_list[min_ind], data_list[i]"
   ]
  },
  {
   "cell_type": "markdown",
   "metadata": {},
   "source": [
    "## Bubble Sort"
   ]
  },
  {
   "cell_type": "code",
   "execution_count": 18,
   "metadata": {},
   "outputs": [],
   "source": [
    "def bubble_sort(arr):\n",
    "    for i in range(len(arr)-1, 0, -1):  # i is the index between the sorted and unsorted part\n",
    "        for j in range(i):              # loop j through the pairs in the unsorted part\n",
    "            if arr[j] > arr[j+1]:\n",
    "                arr[j], arr[j+1] = arr[j+1], arr[j]"
   ]
  },
  {
   "cell_type": "markdown",
   "metadata": {},
   "source": [
    "## Insertion Sort"
   ]
  },
  {
   "cell_type": "code",
   "execution_count": 20,
   "metadata": {},
   "outputs": [],
   "source": [
    "def insertion_sort(arr):\n",
    "    for i in range(1, len(arr)):  # arr[i] is the element to be inserted\n",
    "        j = i\n",
    "        while j > 0 and arr[j] < arr[j-1]:  # move the element to the left until found the correct position\n",
    "            arr[j], arr[j-1] = arr[j-1], arr[j]\n",
    "            j -= 1"
   ]
  },
  {
   "cell_type": "markdown",
   "metadata": {},
   "source": [
    "## Merge Sort"
   ]
  },
  {
   "cell_type": "code",
   "execution_count": 1,
   "metadata": {},
   "outputs": [],
   "source": [
    "# merge 2 sorted portions of arr\n",
    "def merge(arr, left, right, mid):\n",
    "\n",
    "    # make shallow copy of 2 portions for convenient merging\n",
    "    arr1 = arr[left:mid]\n",
    "    arr2 = arr[mid:right]\n",
    "    \n",
    "    n1 = len(arr1)\n",
    "    n2 = len(arr2)\n",
    "    i = j = 0\n",
    "    k = left\n",
    " \n",
    "    # traverse arr1 and arr2 until one is empty\n",
    "    while i < n1 and j < n2:\n",
    "        if arr1[i] < arr2[j]:\n",
    "            arr[k] = arr1[i]\n",
    "            i += 1\n",
    "        else:\n",
    "            arr[k] = arr2[j]\n",
    "            j += 1\n",
    "        k +=  1\n",
    "     \n",
    "    # get remaining elements\n",
    "    arr[k:k+n1-i] = arr1[i:n1]\n",
    "    k += n1-i\n",
    "    arr[k:k+n2-j] = arr2[j:n2]\n",
    "    \n",
    "\n",
    "def merge_sort_recursive(arr, left, right):\n",
    "    \n",
    "    # special cases, arr is sorted\n",
    "    if right-left <= 1:  # stop condition for recursion\n",
    "        return\n",
    "    \n",
    "    # split arr into 2 halves, then sort each half individually\n",
    "    mid = (left+right)//2\n",
    "    merge_sort_recursive(arr, left, mid)   # recursive call\n",
    "    merge_sort_recursive(arr, mid, right)  # recursive call\n",
    "\n",
    "    # merge 2 sorted halves\n",
    "    merge(arr, left, right, mid)\n",
    "    \n",
    "\n",
    "def merge_sort(arr):\n",
    "    merge_sort_recursive(arr, 0, len(arr))"
   ]
  },
  {
   "cell_type": "markdown",
   "metadata": {},
   "source": [
    "## Quicksort"
   ]
  },
  {
   "cell_type": "code",
   "execution_count": null,
   "metadata": {},
   "outputs": [],
   "source": [
    "# choose pivot, move every smaller element to the left side\n",
    "# return the index of pivot after moving\n",
    "def partition(arr, left, right):\n",
    "    pivot = arr[left]  # choose pivot as the left-most element\n",
    "    i = left\n",
    "    for j in range(left+1, right):\n",
    "        if arr[j] < pivot:  # if found smaller element...\n",
    "            i += 1\n",
    "            arr[i], arr[j] = arr[j], arr[i]  # ... move it to the left side\n",
    "    arr[i], arr[left] = arr[left], arr[i]    # after finishing, swap pivot to its position\n",
    "    return i\n",
    "\n",
    "\n",
    "def quick_sort_recursive(arr, left, right):\n",
    "    \n",
    "    if right-left <= 1:  # array already sorted / stop condition for recursion\n",
    "        return\n",
    "    \n",
    "    # split arr into 2 parts\n",
    "    partition_index = partition(arr, left, right)\n",
    "    \n",
    "    # sort each part individually\n",
    "    quick_sort_recursive(arr, left, partition_index)     # recursive call\n",
    "    quick_sort_recursive(arr, partition_index+1, right)  # recursive call\n",
    "    \n",
    "    \n",
    "def quick_sort(arr):\n",
    "    quick_sort_recursive(arr, 0, len(arr))"
   ]
  },
  {
   "cell_type": "markdown",
   "metadata": {},
   "source": [
    "## Counting Sort"
   ]
  },
  {
   "cell_type": "code",
   "execution_count": null,
   "metadata": {},
   "outputs": [],
   "source": [
    "def counting_sort(arr):\n",
    "    \n",
    "    # trivial cases\n",
    "    if len(arr) <= 1:\n",
    "        return\n",
    "    \n",
    "    # get the maximal value as the range of counting indices\n",
    "    max_val = max(arr)\n",
    " \n",
    "    # count occurences of each value\n",
    "    count = [0] * (max_val+1)\n",
    "    for el in arr:\n",
    "        count[el] += 1\n",
    " \n",
    "    # traverse `count` to place the values back to `arr`\n",
    "    index = 0\n",
    "    for i in range(max_val+1):\n",
    "        for j in range(count[i]):\n",
    "            arr[index] = i\n",
    "            index += 1"
   ]
  },
  {
   "cell_type": "markdown",
   "metadata": {},
   "source": [
    "# 3. Thuật Toán Tìm Đường"
   ]
  },
  {
   "cell_type": "markdown",
   "metadata": {},
   "source": [
    "## DFS"
   ]
  },
  {
   "cell_type": "code",
   "execution_count": 1,
   "metadata": {},
   "outputs": [],
   "source": [
    "# traverse graph recursively from `vertex`\n",
    "def dfs_recursive(vertex, graph, visited, path):\n",
    "    \n",
    "    # mark current vertex as visited\n",
    "    visited.add(vertex)\n",
    "    path.append(vertex)\n",
    "    \n",
    "    # traverse adjacent branches recursively\n",
    "    for next_vertex in graph[vertex]:\n",
    "        if next_vertex not in visited:\n",
    "            dfs_recursive(next_vertex, graph, visited, path)\n",
    "    \n",
    "\n",
    "# traverse graph from `start` vertex\n",
    "def dfs(graph, start):\n",
    "    path = []  # init traverse path\n",
    "    dfs_recursive(start, graph, set(), path)  # init `visited` set\n",
    "    return path"
   ]
  },
  {
   "cell_type": "markdown",
   "metadata": {},
   "source": [
    "## BFS"
   ]
  },
  {
   "cell_type": "code",
   "execution_count": null,
   "metadata": {},
   "outputs": [],
   "source": [
    "from collections import deque\n",
    "\n",
    "def bfs(graph, start):\n",
    "    \n",
    "    # init visited set, vertex queue to visit and traverse path\n",
    "    visited = set()\n",
    "    queue = deque()\n",
    "    path = []\n",
    "\n",
    "    # add starting vertex\n",
    "    queue.append(start)\n",
    "    visited.add(start)\n",
    "\n",
    "    # while there remains vertices to visit...\n",
    "    while len(queue) > 0:\n",
    "\n",
    "        # visit next vertex in queue\n",
    "        vertex = queue.popleft()\n",
    "        path.append(vertex)\n",
    "\n",
    "        # put adjacent vertices to queue and mark them as visited\n",
    "        for next_vertex in graph[vertex]:\n",
    "            if next_vertex not in visited:\n",
    "                queue.append(next_vertex)\n",
    "                visited.add(next_vertex)\n",
    "                \n",
    "    return path"
   ]
  }
 ],
 "metadata": {
  "kernelspec": {
   "display_name": "Python 3.10.4 64-bit",
   "language": "python",
   "name": "python3"
  },
  "language_info": {
   "codemirror_mode": {
    "name": "ipython",
    "version": 3
   },
   "file_extension": ".py",
   "mimetype": "text/x-python",
   "name": "python",
   "nbconvert_exporter": "python",
   "pygments_lexer": "ipython3",
   "version": "3.10.4"
  },
  "vscode": {
   "interpreter": {
    "hash": "916dbcbb3f70747c44a77c7bcd40155683ae19c65e1c03b4aa3499c5328201f1"
   }
  }
 },
 "nbformat": 4,
 "nbformat_minor": 4
}
