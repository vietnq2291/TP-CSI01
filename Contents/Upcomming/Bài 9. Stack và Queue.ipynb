{
 "cells": [
  {
   "cell_type": "markdown",
   "metadata": {},
   "source": [
    "## <center>Computer Science Intensive Course - MindX</center>\n",
    "![](./assets/logo.png)\n",
    "# <center>BÀI 9. STACK VÀ QUEUE</center>"
   ]
  },
  {
   "cell_type": "markdown",
   "metadata": {},
   "source": [
    "# 1. Stack (Ngăn Xếp)\n",
    "\n",
    "**Stack** là một cấu trúc dữ liệu tuần tự. Dữ liệu được lưu trong stack với tính chất _**vào sau ra trước**_.  \n",
    "\n",
    "Stack tương tự như một *list* với hai method quan trọng:\n",
    "- Thêm một phần tử vào cuối dãy.\n",
    "- Lấy một phần tử từ cuối dãy.\n",
    "\n",
    "Ta có thể tưởng tượng stack như một chồng sách: ta có thể đặt chồng lên một quyển sách hoặc lấy ra một quyển từ trên cùng.\n",
    "![](./assets/stack.png)\n",
    "<div style='text-align: right'><i>Ảnh: cdn.programiz.com/dsa/stack</i></div>\n",
    "\n",
    "Trên thực tế, tùy vào cách cài đặt, stack cũng có thể thực hiện thay đổi các phần tử ở đầu dãy hoặc giữa dãy. Tuy nhiên, ta nên tránh sử dụng các phương thức đó trên stack vì cấu trúc dữ liệu này được dùng để tận dụng tính chất *vào sau ra trước*. Trường hợp các phương thức của stack không thể hỗ trợ tốt cho thuật toán, ta có thể chuyển sang một cấu trúc dữ liệu khác phù hợp hơn."
   ]
  },
  {
   "cell_type": "markdown",
   "metadata": {},
   "source": [
    "### Ứng Dụng\n",
    "\n",
    "Stack được ứng dụng trên nhiều bài toán thực tế:\n",
    "- Lưu các trang đã xem và di chuyển về trang trước trên trình duyệt\n",
    "- Chức năng *undo* trên các phần mềm như Word, Visual Studio Code, Photoshop\n",
    "- Tính toán biểu thức nhiều toán tử\n",
    "- Lưu trữ các lệnh gọi đệ quy"
   ]
  },
  {
   "cell_type": "markdown",
   "metadata": {},
   "source": [
    "### Code\n",
    "\n",
    "Stack có thể được hiện thực bằng một *list*. Tuy nhiên, Python hỗ trợ class *deque* có độ hiệu quả cao hơn, với các phương thức thêm và lấy phần tử đều có độ phức tạp là *O(1)*."
   ]
  },
  {
   "cell_type": "code",
   "execution_count": 1,
   "metadata": {},
   "outputs": [
    {
     "name": "stdout",
     "output_type": "stream",
     "text": [
      "Initial stack: deque(['a', 'b', 'c'])\n",
      "\n",
      "Add element to stack: deque(['a', 'b', 'c', 'd'])\n",
      "Remove element from stack: deque(['a', 'b', 'c'])\n",
      "\n",
      "Get value of element from stack: c\n"
     ]
    }
   ],
   "source": [
    "from collections import deque\n",
    "\n",
    "# initialize the stack\n",
    "stack = deque(['a', 'b', 'c'])\n",
    "print('Initial stack: {}'.format(stack), end='\\n\\n')\n",
    "\n",
    "\n",
    "# add element to stack\n",
    "stack.append('d')\n",
    "print('Add element to stack: {}'.format(stack))\n",
    "\n",
    "# remove element from stack\n",
    "stack.pop()  # this method return the removed element\n",
    "print('Remove element from stack: {}'.format(stack), end='\\n\\n')\n",
    "\n",
    "\n",
    "# get value of element at the end of stack\n",
    "print('Get value of element from stack: {}'.format(stack[-1]))"
   ]
  },
  {
   "cell_type": "markdown",
   "metadata": {},
   "source": [
    "# 2. Queue (Hàng Đợi)\n",
    "\n",
    "**Queue** lưu trữ dữ liệu với tính chất _**vào trước ra trước**_.  \n",
    "\n",
    "Hai method quan trọng của queue là:\n",
    "- Thêm một phần tử vào cuối dãy.\n",
    "- Lấy một phần tử từ đầu dãy.\n",
    "\n",
    "Queue giống như một hàng người chờ thanh toán trong siêu thị: người đến trước được thanh toán trước.\n",
    "\n",
    "![](./assets/queue.png)\n",
    "<div style='text-align: right'><i>Ảnh: cdn.programiz.com/dsa/queue</i></div>"
   ]
  },
  {
   "cell_type": "markdown",
   "metadata": {},
   "source": [
    "### Ứng Dụng\n",
    "\n",
    "Queue cũng được sử dụng trên nhiều bài toán thực tế:\n",
    "- Tìm đường đi ngắn nhất trên đồ thị\n",
    "- Lưu trữ thứ tự xử lý các request đến một trang web\n",
    "- Xử lý các order trong quán trà sữa\n",
    "- Xử lý các yêu cầu đặt vé xem phim online\n",
    "- Sắp xếp người chơi vào phòng trong game online"
   ]
  },
  {
   "cell_type": "markdown",
   "metadata": {},
   "source": [
    "### Code\n",
    "\n",
    "Queue cũng có thể được hiện thực bằng một *list*. Tuy nhiên, class *deque* cũng hỗ trợ các phương thức thêm và lấy phần tử trong queue với độ phức tạp là *O(1)*."
   ]
  },
  {
   "cell_type": "code",
   "execution_count": 2,
   "metadata": {},
   "outputs": [
    {
     "name": "stdout",
     "output_type": "stream",
     "text": [
      "Initial queue: deque(['a', 'b', 'c'])\n",
      "\n",
      "Add element to queue: deque(['a', 'b', 'c', 'd'])\n",
      "Remove element from queue: deque(['b', 'c', 'd'])\n",
      "\n",
      "Get value of element from queue: b\n"
     ]
    }
   ],
   "source": [
    "from collections import deque\n",
    "\n",
    "# initialize the queue | same as stack\n",
    "queue = deque(['a', 'b', 'c'])\n",
    "print('Initial queue: {}'.format(queue), end='\\n\\n')\n",
    "\n",
    "\n",
    "# add element to queue | same as stack\n",
    "queue.append('d')\n",
    "print('Add element to queue: {}'.format(queue))\n",
    "\n",
    "# remove element from queue\n",
    "queue.popleft()  # this method return the removed element\n",
    "print('Remove element from queue: {}'.format(queue), end='\\n\\n')\n",
    "\n",
    "\n",
    "# get value of element at the front of queue\n",
    "print('Get value of element from queue: {}'.format(queue[0]))"
   ]
  },
  {
   "cell_type": "markdown",
   "metadata": {},
   "source": [
    "# 3. Deque (Hàng Đợi Hai Đầu)\n",
    "\n",
    "Class *deque* được dùng để hiện thực *stack* và *queue* trên cũng là một cấu trúc dữ liệu có tên *Deque*: *Double-ended Queue*. Cấu trúc dữ liệu này hỗ trợ thêm và xóa phần tử ở cả hai đầu của danh sách.\n",
    "\n",
    "![](./assets/deque.png)\n",
    "<div style='text-align: right'><i>Ảnh: cdn.programiz.com/dsa/deque</i></div>"
   ]
  },
  {
   "cell_type": "code",
   "execution_count": 3,
   "metadata": {},
   "outputs": [
    {
     "name": "stdout",
     "output_type": "stream",
     "text": [
      "Initial deque: deque(['a', 'b', 'c'])\n",
      "\n",
      "Add element to the right: deque(['a', 'b', 'c', 'd'])\n",
      "Add element to the left:  deque(['z', 'a', 'b', 'c', 'd'])\n",
      "\n",
      "Remove element from the right: deque(['z', 'a', 'b', 'c'])\n",
      "Remove element from the left:  deque(['a', 'b', 'c'])\n",
      "\n",
      "Get value of element from the right: c\n",
      "Get value of element from the left:  a\n"
     ]
    }
   ],
   "source": [
    "from collections import deque\n",
    "\n",
    "# initialize the deque\n",
    "deq = deque(['a', 'b', 'c'])\n",
    "print('Initial deque: {}'.format(deq), end='\\n\\n')\n",
    "\n",
    "\n",
    "# add element to deque\n",
    "deq.append('d')\n",
    "print('Add element to the right: {}'.format(deq))\n",
    "deq.appendleft('z')\n",
    "print('Add element to the left:  {}'.format(deq), end='\\n\\n')\n",
    "\n",
    "\n",
    "# remove element from deque\n",
    "deq.pop()\n",
    "print('Remove element from the right: {}'.format(deq))\n",
    "deq.popleft()\n",
    "print('Remove element from the left:  {}'.format(deq), end='\\n\\n')\n",
    "\n",
    "\n",
    "# get value of elements\n",
    "print('Get value of element from the right: {}'.format(deq[-1]))\n",
    "print('Get value of element from the left:  {}'.format(deq[0]))"
   ]
  },
  {
   "cell_type": "markdown",
   "metadata": {},
   "source": [
    "# 4. Thực Hành"
   ]
  },
  {
   "cell_type": "markdown",
   "metadata": {},
   "source": [
    "## 4.1. Dãy Ngoặc Đúng\n",
    "\n",
    "Trong Python, ta có thể dùng dấu ngoặc để nhóm các phép tính trong một biểu thức, ví dụ <code>(3+4)*((2-3)/4)</code> là một phép tính hợp lệ.  \n",
    "Tương tự như vậy, ta định nghĩa một dãy ngoặc hợp lệ là một dãy ngoặc sao cho mỗi ngoặc mở đều có ngoặc đóng tương ứng và ngược lại. Ví dụ:\n",
    "- <code>()(())</code> là một dãy ngoặc đúng\n",
    "- <code>(()()</code> không phải một dãy ngoặc đúng, do ngoặc mở đầu tiên không có ngoặc đóng tương ứng.\n",
    "\n",
    "**Yêu cầu**: Cho một chuỗi ký tự có độ dài > 0 chỉ bao gồm các dấu ngoặc mở và đóng, kiểm tra dãy ngoặc đã cho có hợp lệ hay không.  \n",
    "\n",
    "*Gợi ý*: Đưa lần lượt từng ngoặc vào một stack, xử lý sao cho dấu ngoặc đóng triệt tiêu dấu ngoặc mở."
   ]
  },
  {
   "cell_type": "code",
   "execution_count": 4,
   "metadata": {},
   "outputs": [],
   "source": [
    "def is_valid(sequence):\n",
    "    \n",
    "    # init stack\n",
    "    stack = deque()\n",
    "    \n",
    "    # traverse the sequence\n",
    "    for par in sequence:\n",
    "        if par == '(':  #  if open parenthesis: add to stack\n",
    "            stack.append(par)\n",
    "        else:           # if close parenthesis...\n",
    "            if len(stack) > 0:  # if stack has open parenthesis to match => remove that open parenthesis\n",
    "                stack.pop()\n",
    "            else:               # if stack has no open parenthesis to match => invalid sequence\n",
    "                return False\n",
    "    \n",
    "    # return True if stack has no open parenthesis left\n",
    "    return len(stack) == 0"
   ]
  },
  {
   "cell_type": "code",
   "execution_count": 6,
   "metadata": {},
   "outputs": [
    {
     "data": {
      "text/plain": [
       "True"
      ]
     },
     "execution_count": 6,
     "metadata": {},
     "output_type": "execute_result"
    }
   ],
   "source": [
    "is_valid(\"((()))(())\")"
   ]
  },
  {
   "cell_type": "markdown",
   "metadata": {},
   "source": [
    "## 4.2. Xử Lý Order\n",
    "\n",
    "Một quán cà phê có một nhân viên pha chế và một máy pha cà phê. Nhân viên pha chế có nhiệm vụ nhận order từ khách hàng và sử dụng máy pha cà phê để pha. Máy pha cà phê chỉ có thể làm một cốc một lần, mỗi cốc mất đúng 2 giây.  \n",
    "\n",
    "Trong quá trình máy pha cà phê hoạt động, khách hàng có thể tiếp tục order. Nhân viên có nhiệm vụ ghi nhận order và sử dụng máy pha cà phê sau khi máy trống.  \n",
    "\n",
    "**Yêu cầu**: Hãy viết một đoạn code giả lập quá trình nhân viên nhận order từ khách hàng, sau đó sử dụng máy pha cà phê để pha chế. Cụ thể hơn, hãy hiện thực hai phương thức <code>receive_order()</code> và <code>receive_drink()</code> trong class <code>Barista</code>. Chú ý các order phải được phục vụ theo đúng thứ tự gọi.  \n",
    "\n",
    "Các class và method đã cho sẵn:\n",
    "- Customer:\n",
    "  + order(): gọi phương thức <code>receive_order()</code> của Barista để gọi nước và nhận kết quả trả về là ID của order.\n",
    "- CoffeeMachine:\n",
    "  + receive_request(order): Nhận yêu cầu làm cà phê từ Barista. Trả về True nếu yêu cầu được nhận, trả về False nếu máy đang bận. Giá trị của tham số *order* không ảnh hưởng đến hàm.\n",
    "  + Sau khi làm xong ly được yêu cầu, CoffeeMachine trả lại order đã nhận cho Barista bằng cách gọi đến phương thức <code>receive_drink()</code>."
   ]
  },
  {
   "cell_type": "code",
   "execution_count": 8,
   "metadata": {},
   "outputs": [],
   "source": [
    "from threading import Thread, Lock\n",
    "from time import sleep\n",
    "\n",
    "\n",
    "# a casual customer\n",
    "class Customer:\n",
    "    \n",
    "    def __init__(self, barista):\n",
    "        self.barista = barista\n",
    "\n",
    "    # order a drink\n",
    "    def order(self, drink):\n",
    "        order_id = self.barista.receive_order(drink)\n",
    "        print(\"Order #{}: {} recorded.\".format(order_id, drink))\n",
    "        \n",
    "\n",
    "# best barista in town\n",
    "class Barista:\n",
    "    \n",
    "    def __init__(self):\n",
    "        # some attribute suggestions...\n",
    "        self.order_queue = deque()\n",
    "        self.order_count = 0\n",
    "    \n",
    "    def set_coffee_machine(self, machine):\n",
    "        self.machine = machine\n",
    "    \n",
    "    # take order from the customer\n",
    "    def receive_order(self, drink):\n",
    "        #### YOUR CODE HERE ####\n",
    "        pass\n",
    "    \n",
    "    # get notified of the finished order from the machine\n",
    "    def receive_drink(self, order):\n",
    "        ##### YOUR CODE HERE ####\n",
    "        pass\n",
    "\n",
    "\n",
    "# coffee machine bought on Shopee\n",
    "class CoffeeMachine:\n",
    "    \n",
    "    def __init__(self, barista):\n",
    "        self.__lock = Lock()\n",
    "        self.barista = barista\n",
    "    \n",
    "    # receive coffee making request from barista\n",
    "    # return True if not currently busy\n",
    "    def receive_request(self, order):\n",
    "        busy = self.__lock.locked()\n",
    "        if not busy:\n",
    "            thread = Thread(target=self.__make_drink, args=(order,))\n",
    "            thread.start()\n",
    "        return not busy\n",
    "    \n",
    "    # make a drink in 2 seconds\n",
    "    # annount the barista when finish through receive_drink() method\n",
    "    def __make_drink(self, order):\n",
    "        self.__lock.acquire()\n",
    "        sleep(2)\n",
    "        self.__lock.release()\n",
    "        barista.receive_drink(order)"
   ]
  },
  {
   "cell_type": "markdown",
   "metadata": {},
   "source": [
    "Kết quả mong đợi như đoạn code bên dưới:"
   ]
  },
  {
   "cell_type": "code",
   "execution_count": 11,
   "metadata": {},
   "outputs": [
    {
     "name": "stdout",
     "output_type": "stream",
     "text": [
      "Order #1: Vietnamese Coffee recorded.\n",
      "Order #2: Capuchino recorded.\n",
      "==> Order #1: Vietnamese Coffee served.\n",
      "Order #3: Latte recorded.\n",
      "==> Order #2: Capuchino served.\n",
      "Order #4: Mocha recorded.\n",
      "==> Order #3: Latte served.\n",
      "==> Order #4: Mocha served.\n"
     ]
    }
   ],
   "source": [
    "# init objects\n",
    "barista = Barista()\n",
    "machine = CoffeeMachine(barista)\n",
    "barista.set_coffee_machine(machine)\n",
    "customer = Customer(barista)\n",
    "\n",
    "# simulation\n",
    "customer.order(\"Vietnamese Coffee\")\n",
    "customer.order(\"Capuchino\")\n",
    "sleep(3)\n",
    "customer.order(\"Latte\")\n",
    "sleep(2)\n",
    "customer.order(\"Mocha\")"
   ]
  },
  {
   "cell_type": "markdown",
   "metadata": {},
   "source": [
    "![](./assets/queue_ex.gif)"
   ]
  },
  {
   "cell_type": "code",
   "execution_count": 9,
   "metadata": {},
   "outputs": [],
   "source": [
    "# SOLUTION\n",
    "class Barista:\n",
    "    \n",
    "    def __init__(self):\n",
    "        self.order_queue = deque()\n",
    "        self.order_count = 0\n",
    "    \n",
    "    def set_coffee_machine(self, machine):\n",
    "        self.machine = machine\n",
    "    \n",
    "    # take order from the customer\n",
    "    def receive_order(self, drink):\n",
    "        \n",
    "        self.order_count += 1  # increase order ID\n",
    "        \n",
    "        # ask the machine to make the drink\n",
    "        # if the machine is busy => add order to queue\n",
    "        if not self.machine.receive_request((self.order_count, drink)):\n",
    "            self.order_queue.append((self.order_count, drink))  # an order is a tuple of (id, drink)\n",
    "            \n",
    "        return self.order_count\n",
    "    \n",
    "    # get notified of the finished order from the machine\n",
    "    def receive_drink(self, order):\n",
    "        \n",
    "        print(\"==> Order #{}: {} served.\".format(order[0], order[1]))\n",
    "        \n",
    "        # make the next drink in queue if exist\n",
    "        if len(self.order_queue) > 0 and self.machine.receive_request(self.order_queue[0]):\n",
    "            self.order_queue.popleft()"
   ]
  }
 ],
 "metadata": {
  "kernelspec": {
   "display_name": "Python 3",
   "language": "python",
   "name": "python3"
  },
  "language_info": {
   "codemirror_mode": {
    "name": "ipython",
    "version": 3
   },
   "file_extension": ".py",
   "mimetype": "text/x-python",
   "name": "python",
   "nbconvert_exporter": "python",
   "pygments_lexer": "ipython3",
   "version": "3.8.3"
  }
 },
 "nbformat": 4,
 "nbformat_minor": 4
}
