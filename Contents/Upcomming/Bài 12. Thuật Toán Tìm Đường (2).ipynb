{
 "cells": [
  {
   "cell_type": "markdown",
   "metadata": {},
   "source": [
    "## <center>Computer Science Intensive Course - MindX</center>\n",
    "![](./assets/logo.png)\n",
    "# <center>BÀI 12. THUẬT TOÁN TÌM ĐƯỜNG (2)</center>"
   ]
  },
  {
   "cell_type": "markdown",
   "metadata": {},
   "source": [
    "# 1. Tìm Kiếm Theo Chiều Rộng (Breadth-First Search / BFS)\n",
    "\n",
    "Tương tự như DFS, **BFS** cũng là thuật toán duyệt qua các đỉnh trong một đồ thị. Với BFS, các đỉnh gần điểm bắt đầu nhất sẽ được duyệt trước, sau đó đến các đỉnh xa hơn.  \n",
    "\n",
    "Thứ tự duyệt của BFS được thể hiện qua ví dụ dưới đây:\n",
    "\n",
    "![](./assets/bfs.gif)\n",
    "<div style='text-align: right'><i>Ảnh: commons.wikimedia.org</i></div>\n",
    "\n",
    "Nhờ đặc điểm này, thuật toán BFS đảm bảo tìm được đường đi ngắn nhất giữa hai đỉnh bất kì (nếu tồn tại).\n",
    "\n",
    "**Thuật toán** duyệt của BFS:\n",
    "0. Khởi tạo một *queue* rỗng để chứa các đỉnh chờ duyệt\n",
    "1. Đưa đỉnh xuất phát vào *queue*, đánh dấu đỉnh xuất phát đã được duyệt\n",
    "2. Khi *queue* vẫn còn phần tử, lấy ra đỉnh tiếp theo trong *queue*, xét các đỉnh kề với đỉnh vừa lấy:  \n",
    "   2.1. Nếu đỉnh đang xét chưa được duyệt => đưa đỉnh đang xét vào *queue*, đánh dấu đã được duyệt  \n",
    "   2.2. Nếu đỉnh đang xét đã được duyệt   => bỏ qua\n",
    "   \n",
    "**Visualization**: https://visualgo.net/en/dfsbfs."
   ]
  },
  {
   "cell_type": "markdown",
   "metadata": {},
   "source": [
    "### Code\n",
    "\n",
    "BFS không duyệt các đỉnh bằng đệ quy như DFS mà sử dụng vòng lặp và một *queue* để lưu các đỉnh chờ được duyệt."
   ]
  },
  {
   "cell_type": "code",
   "execution_count": 1,
   "metadata": {},
   "outputs": [],
   "source": [
    "from collections import deque\n",
    "\n",
    "def bfs(graph, start):\n",
    "    \n",
    "    # init visited set and vertex queue to visit\n",
    "    visited = set()\n",
    "    queue = deque()\n",
    "\n",
    "    # add starting vertex\n",
    "    queue.append(start)\n",
    "    visited.add(start)\n",
    "\n",
    "    # while there remains vertices to visit...\n",
    "    while len(queue) > 0:\n",
    "\n",
    "        # visit next vertex in queue\n",
    "        vertex = queue.popleft()\n",
    "        print(vertex, end=' ')\n",
    "\n",
    "        # put adjacent vertices to queue and mark them as visited\n",
    "        for next_vertex in graph[vertex]:\n",
    "            if next_vertex not in visited:\n",
    "                queue.append(next_vertex)\n",
    "                visited.add(next_vertex)"
   ]
  },
  {
   "cell_type": "markdown",
   "metadata": {},
   "source": [
    "**Ví dụ**: Thứ tự duyệt các đỉnh của BFS trên đồ thị sau:"
   ]
  },
  {
   "cell_type": "markdown",
   "metadata": {},
   "source": [
    "![](./assets/graph2.png)"
   ]
  },
  {
   "cell_type": "code",
   "execution_count": 2,
   "metadata": {},
   "outputs": [
    {
     "name": "stdout",
     "output_type": "stream",
     "text": [
      "0 1 4 2 3 "
     ]
    }
   ],
   "source": [
    "graph = {\n",
    "    0: [1, 4],\n",
    "    1: [0, 2, 3, 4],\n",
    "    2: [1, 3],\n",
    "    3: [1, 2, 4],\n",
    "    4: [0, 1, 3]\n",
    "}\n",
    "\n",
    "# change starting vertex to see how the path changes\n",
    "bfs(graph, 0)"
   ]
  },
  {
   "cell_type": "markdown",
   "metadata": {},
   "source": [
    "### Độ Phức Tạp\n",
    "\n",
    "Giả sử ta có một đồ thị vô hướng liên thông *G=(V, E)*.\n",
    "\n",
    "**Độ phức tạp thời gian**:  \n",
    "- Tương tự như DFS, BFS cũng duyệt mỗi đỉnh đúng một lần và mỗi cạnh đúng hai lần.\n",
    "- Do đó, độ phức tạp về thời gian của thuật toán là:\n",
    "  \\begin{equation} O(|V|) + O(2|E|) = O(|V|+|E|) \\end{equation}\n",
    "\n",
    "**Độ phức tạp không gian**:\n",
    "- BFS sử dụng không gian nhớ tương tự như DFS. Nếu DFS sử dụng vùng nhớ stack cho đệ quy thì BFS sử dụng *queue* để lưu các đỉnh chưa thăm. Cả hai phương pháp đều chiếm *O(|V |)* vùng nhớ.\n",
    "- Như vậy, độ phức tạp về không gian của BFS cũng tương tự DFS:\n",
    "  \\begin{equation} O(|V|) + O(|E|) = O(|V|+|E|) \\end{equation}\n",
    "  \n",
    "### Đặc Điểm:\n",
    "- Thuật toán BFS đảm bảo tìm được đường đi ngắn nhất giữa hai đỉnh.\n",
    "- BFS không bị tràn bộ nhớ do đệ quy như DFS. Tuy nhiên, việc cài đặt BFS có phần phức tạp hơn do sử dụng *queue*.\n",
    "\n",
    "### Ứng dụng:\n",
    "Tương tự như DFS, BFS được dùng để duyệt các cấu trúc đồ thị, cây và làm nền tảng cho các thuật toán phức tạp hơn trên đồ thị. Tuy nhiên, BFS có thể tìm được đường đi ngắn nhất hay số bước ít nhất để giải một bài toán:\n",
    "- Tìm ít bước xoay nhất để giải một khối rubic\n",
    "- Tìm đường ngắn nhất để thoát khỏi mê cung\n",
    "- Xác định hướng truy đuổi cho các con \"ma\" trong game Pacman"
   ]
  },
  {
   "cell_type": "markdown",
   "metadata": {},
   "source": [
    "# 2. Thực Hành"
   ]
  },
  {
   "cell_type": "markdown",
   "metadata": {},
   "source": [
    "## 2.1. Tìm Đường Đi Ngắn Nhất\n",
    "\n",
    "**Yêu cầu**: Cho một đồ thị vô hướng không có trọng số như bên dưới và hai đỉnh A, B bất kì (A khác B). Hãy tìm đường đi ngắn nhất từ A đến B dưới dạng list. Trả về list rỗng nếu không tồn tại đường đi.\n",
    "\n",
    "![](./assets/complex-graph.png)\n",
    "\n",
    "**Ví dụ**:\n",
    "- Đường đi ngắn nhất từ 2 đến 7 là [2, 1, 7] hoặc [2, 8, 7]\n",
    "- Đường đi ngắn nhất từ 0 đến 8 là [0, 7, 8]\n",
    "\n",
    "**Gợi ý**:\n",
    "- Sử dụng thuật toán BFS để duyệt từ đỉnh A cho đến khi gặp đỉnh B.\n",
    "- Khi đưa một đỉnh mới vào queue, lưu lại đỉnh liền trước nó để truy vấn ngược lại đường đi."
   ]
  },
  {
   "cell_type": "code",
   "execution_count": 3,
   "metadata": {},
   "outputs": [],
   "source": [
    "graph = {\n",
    "    0: [1, 7],\n",
    "    1: [0, 2, 7],\n",
    "    2: [1, 3, 5, 8],\n",
    "    3: [2, 4, 5],\n",
    "    4: [3, 5],\n",
    "    5: [2, 3, 4, 6],\n",
    "    6: [5, 7, 8],\n",
    "    7: [0, 1, 6, 8],\n",
    "    8: [2, 6, 7]\n",
    "}"
   ]
  },
  {
   "cell_type": "code",
   "execution_count": 4,
   "metadata": {},
   "outputs": [],
   "source": [
    "def find_path(graph, vertex_a, vertex_b):\n",
    "    pass"
   ]
  },
  {
   "cell_type": "code",
   "execution_count": 5,
   "metadata": {},
   "outputs": [
    {
     "data": {
      "text/plain": [
       "[4, 3, 2, 8]"
      ]
     },
     "execution_count": 5,
     "metadata": {},
     "output_type": "execute_result"
    }
   ],
   "source": [
    "# SOLUTION\n",
    "from collections import deque\n",
    "\n",
    "def bfs(graph, vertex_a, vertex_b):\n",
    "    \n",
    "    # init visited set, vertex queue and before dict\n",
    "    visited = set()\n",
    "    queue = deque()\n",
    "    before = {}  # stores the preceding vertex of visited vertices\n",
    "\n",
    "    # add starting vertex\n",
    "    queue.append(vertex_a)\n",
    "    visited.add(vertex_a)\n",
    "\n",
    "    # while there remains vertices to visit...\n",
    "    while len(queue) > 0:\n",
    "        \n",
    "        # visit next vertex in queue\n",
    "        vertex = queue.popleft()\n",
    "        \n",
    "        # put adjacent vertices to queue and mark them as visited\n",
    "        for next_vertex in graph[vertex]:\n",
    "            if next_vertex not in visited:\n",
    "\n",
    "                # stores current vertex as preceding to next vertex\n",
    "                before[next_vertex] = vertex\n",
    "                if next_vertex == vertex_b:  # if found B...\n",
    "                    return before            # return `before` dict to track the path\n",
    "\n",
    "                queue.append(next_vertex)\n",
    "                visited.add(next_vertex)\n",
    "\n",
    "    # B not found\n",
    "    return None\n",
    "\n",
    "\n",
    "def find_path(graph, vertex_a, vertex_b):\n",
    "    \n",
    "    # traverse graph with BFS from A to find B\n",
    "    # retrieve the `before` dict to track the path\n",
    "    before = bfs(graph, vertex_a, vertex_b)\n",
    "    \n",
    "    # B not found\n",
    "    if before is None:\n",
    "        return []\n",
    "    \n",
    "    # get the path from B to A by tracking back `before`\n",
    "    path = []\n",
    "    vertex = vertex_b\n",
    "    while vertex != vertex_a:\n",
    "        path.append(vertex)\n",
    "        vertex = before[vertex]\n",
    "    path.append(vertex_a)\n",
    "    \n",
    "    # reverse the path to get from A to B\n",
    "    path.reverse()\n",
    "    return path\n",
    "\n",
    "\n",
    "find_path(graph, 4, 8)"
   ]
  },
  {
   "cell_type": "markdown",
   "metadata": {},
   "source": [
    "## 3.2. Biến Đổi Số\n",
    "\n",
    "Cho hai số nguyên tố A, B khác nhau và có 4 chữ số, hãy tìm số bước ngắn nhất để biến đổi số A thành số B. Biết ở mỗi bước, ta có thể thay đổi một trong 4 chữ số của số hiện tại để tạo thành một số nguyên tố mới có 4 chữ số.  \n",
    "\n",
    "Trả về một list là các số trong quá trình biến đổi. Trả về list rỗng nếu không thể biến đổi A thành B.  \n",
    "\n",
    "**Ví dụ**:\n",
    "- Input: A = 8179, B = 1733\n",
    "- Output: [8179, 8779, 3779, 3739, 3733, 1733]\n",
    "- Giải thích: Ta biến đổi 8179 thành 8779 bằng cách thay đổi một chữ số; tương tự với các bước biến đổi khác. Mỗi số trong quá trình biến đổi đều là số nguyên tố có 4 chữ số.  \n",
    "\n",
    "*Chú ý*: Chữ số đầu tiên không được bằng 0 trong quá trình biến đổi.  \n",
    "\n",
    "**Hướng dẫn**: Ta có thể đưa về bài toán duyệt đồ thị:\n",
    "- Mỗi số nguyên tố có 4 chữ số là một đỉnh.  \n",
    "- Hai đỉnh liền kề nhau là hai số khác nhau đúng một chữ số."
   ]
  },
  {
   "cell_type": "code",
   "execution_count": 6,
   "metadata": {},
   "outputs": [
    {
     "data": {
      "text/plain": [
       "[8179, 8779, 3779, 3739, 3733, 1733]"
      ]
     },
     "execution_count": 6,
     "metadata": {},
     "output_type": "execute_result"
    }
   ],
   "source": [
    "from collections import deque\n",
    "\n",
    "# prime sieve, find every primes < max_num as boolean array\n",
    "def get_prime_arr(max_num):\n",
    "    \n",
    "    # initialize prime array\n",
    "    prime_arr = [True] * max_num  # init every number to be prime\n",
    "    prime_arr[0] = False          # 0 is not prime\n",
    "    prime_arr[1] = False          # 1 is not prime\n",
    "    \n",
    "    # loop through the array\n",
    "    for i in range(2, max_num):\n",
    "        if prime_arr[i]:\n",
    "            for j in range(i, ((max_num-1)//i)+1):\n",
    "                prime_arr[i*j] = False  # every multiple of i is not a prime\n",
    "                \n",
    "    return prime_arr\n",
    "\n",
    "\n",
    "# get the list of adjacent prime numbers with 4 digits\n",
    "def get_adjacent_nums(num):\n",
    "    \n",
    "    # convert current number to an array of digits\n",
    "    num_digits = [int(digit) for digit in str(num)]\n",
    "    \n",
    "    # init list of adjacent numbers\n",
    "    adjacent_nums = []\n",
    "    \n",
    "    # loop through every possible adjacent numbers\n",
    "    for digit_loc in range(4):  # loop from first to last digit\n",
    "        new_digits = num_digits.copy()\n",
    "        for digit in range(digit_loc == 0, 10):  # loop from 1 for first digit, from 0 for other digits\n",
    "            if digit == num_digits[digit_loc]:   # same as starting number\n",
    "                continue\n",
    "            # add newly found number to result\n",
    "            new_digits[digit_loc] = digit\n",
    "            adjacent_nums.append(new_digits[0]*1000 + new_digits[1]*100 + new_digits[2]*10 + new_digits[3])\n",
    "            \n",
    "    return adjacent_nums\n",
    "        \n",
    "\n",
    "# traverse from A to find B\n",
    "def bfs(num_a, num_b, is_prime_arr):\n",
    "    \n",
    "    # init visited set, vertex queue and before dict\n",
    "    visited = set()\n",
    "    queue = deque()\n",
    "    before = {}  # stores the preceding vertex of visited vertices\n",
    "\n",
    "    # add starting vertex\n",
    "    queue.append(num_a)\n",
    "    visited.add(num_a)\n",
    "\n",
    "    # while there remains vertices to visit...\n",
    "    while len(queue) > 0:\n",
    "        \n",
    "        # visit next vertex in queue\n",
    "        current_num = queue.popleft()\n",
    "        \n",
    "        # put adjacent vertices to queue and mark them as visited\n",
    "        for next_num in get_adjacent_nums(current_num):\n",
    "            # additional check for prime\n",
    "            if is_prime_arr[next_num] and next_num not in visited:\n",
    "\n",
    "                # stores current vertex as preceding to next vertex\n",
    "                before[next_num] = current_num\n",
    "                if next_num == num_b:  # if found B...\n",
    "                    return before      # return `before` dict to track the path\n",
    "\n",
    "                queue.append(next_num)\n",
    "                visited.add(next_num)\n",
    "\n",
    "    # B not found\n",
    "    return None\n",
    "\n",
    "\n",
    "# find the path of transformations from A to B\n",
    "def find_path(num_a, num_b):\n",
    "    \n",
    "    # find every primes with 4 digits\n",
    "    is_prime_arr = get_prime_arr(10000)\n",
    "    \n",
    "    # traverse \"graph\" with BFS from A to find B\n",
    "    # retrive the `before` dict to track the path\n",
    "    before = bfs(num_a, num_b, is_prime_arr)\n",
    "    \n",
    "    # B not found\n",
    "    if before is None:\n",
    "        return []\n",
    "    \n",
    "    # get the path from B to A by tracking back `before`\n",
    "    path = []\n",
    "    num = num_b\n",
    "    while num != num_a:\n",
    "        path.append(num)\n",
    "        num = before[num]\n",
    "    path.append(num)\n",
    "    \n",
    "    # reverse the path to get from A to B\n",
    "    path.reverse()\n",
    "    return path\n",
    "\n",
    "\n",
    "# driver code\n",
    "find_path(8179, 1733)"
   ]
  },
  {
   "cell_type": "code",
   "execution_count": null,
   "metadata": {},
   "outputs": [],
   "source": []
  }
 ],
 "metadata": {
  "kernelspec": {
   "display_name": "Python 3",
   "language": "python",
   "name": "python3"
  },
  "language_info": {
   "codemirror_mode": {
    "name": "ipython",
    "version": 3
   },
   "file_extension": ".py",
   "mimetype": "text/x-python",
   "name": "python",
   "nbconvert_exporter": "python",
   "pygments_lexer": "ipython3",
   "version": "3.8.3"
  }
 },
 "nbformat": 4,
 "nbformat_minor": 4
}
