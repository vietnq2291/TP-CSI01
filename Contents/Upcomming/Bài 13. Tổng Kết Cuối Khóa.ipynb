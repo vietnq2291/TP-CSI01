{
 "cells": [
  {
   "cell_type": "markdown",
   "metadata": {},
   "source": [
    "## <center>Computer Science Intensive Course - MindX</center>\n",
    "![](./assets/logo.png)\n",
    "# <center>BÀI 13. TỔNG KẾT CUỐI KHÓA</center>"
   ]
  },
  {
   "cell_type": "code",
   "execution_count": 1,
   "metadata": {},
   "outputs": [],
   "source": [
    "# run this cell FIRST\n",
    "\n",
    "# students can check this file for detailed algorithm implementations\n",
    "%run algorithm_implementations.ipynb\n",
    "\n",
    "import matplotlib.pyplot as plt\n",
    "def show_list(arr, title=''):\n",
    "    fig, ax = plt.subplots(figsize=(20, 4))\n",
    "    ax.bar(range(len(arr)), arr)\n",
    "    ax.set_title(title)\n",
    "    ax.set_xlabel('index')\n",
    "    ax.set_xticks(range(len(arr)))\n",
    "    ax.spines['top'].set_visible(False)\n",
    "    ax.spines['right'].set_visible(False)\n",
    "    plt.show()"
   ]
  },
  {
   "cell_type": "markdown",
   "metadata": {},
   "source": [
    "# 1. Các CTDL trong Python"
   ]
  },
  {
   "cell_type": "markdown",
   "metadata": {},
   "source": [
    "## 1.1. CTDL Có Thứ Tự"
   ]
  },
  {
   "cell_type": "code",
   "execution_count": 2,
   "metadata": {},
   "outputs": [],
   "source": [
    "my_list = ['a', 'b', 'c']\n",
    "my_tuple = ('a', 'b', 'c')\n",
    "my_string = 'abc def ghi'"
   ]
  },
  {
   "cell_type": "markdown",
   "metadata": {},
   "source": [
    "**Đặc điểm**:  \n",
    "- Thứ tự các phần tử được đảm bảo\n",
    "- Các phần tử có thể trùng lặp\n",
    "- Việc truy vấn một phần tử dựa vào index có độ phức tạp là O(1)\n",
    "- Việc truy vấn một phần tử dựa vào giá trị có độ phức tạp là O(n)"
   ]
  },
  {
   "cell_type": "markdown",
   "metadata": {},
   "source": [
    "### Một Số Phương Thức"
   ]
  },
  {
   "cell_type": "code",
   "execution_count": 3,
   "metadata": {},
   "outputs": [
    {
     "data": {
      "text/plain": [
       "'abc,def,ghi'"
      ]
     },
     "execution_count": 3,
     "metadata": {},
     "output_type": "execute_result"
    }
   ],
   "source": [
    "# list methods\n",
    "my_list.append('d')\n",
    "my_list.remove('b')\n",
    "my_list.sort(reverse=True)\n",
    "new_list = my_list.copy()\n",
    "\n",
    "# string methods\n",
    "tokens = my_string.split(' ')\n",
    "my_string = ' '.join(tokens)\n",
    "my_string.upper()\n",
    "my_string.find('def')\n",
    "my_string.replace(' ', ',')"
   ]
  },
  {
   "cell_type": "markdown",
   "metadata": {},
   "source": [
    "## 1.2. CTDL Không Có Thứ Tự"
   ]
  },
  {
   "cell_type": "code",
   "execution_count": 4,
   "metadata": {},
   "outputs": [],
   "source": [
    "my_set = {'a', 'b', 'c'}\n",
    "my_dict = {'a': 1, 'b': 2, 'c': 3}"
   ]
  },
  {
   "cell_type": "markdown",
   "metadata": {},
   "source": [
    "**Đặc điểm**:\n",
    "- Thứ tự các phần tử không được đảm bảo\n",
    "- Các phần tử trong *set* và key trong *dict* không thể trùng lặp\n",
    "- Đối với *set*: Việc truy vấn một phần tử dựa vào giá trị có độ phức tạp là O(1)\n",
    "- Đối với *dict*:\n",
    "  + Việc truy vấn một phần tử dựa vào key có độ phức tạp là O(1)\n",
    "  + Việc truy vấn một phần tử dựa vào giá trị có độ phức tạp là O(n)"
   ]
  },
  {
   "cell_type": "markdown",
   "metadata": {},
   "source": [
    "### Một Số Phương Thức"
   ]
  },
  {
   "cell_type": "code",
   "execution_count": 5,
   "metadata": {},
   "outputs": [
    {
     "data": {
      "text/plain": [
       "0"
      ]
     },
     "execution_count": 5,
     "metadata": {},
     "output_type": "execute_result"
    }
   ],
   "source": [
    "# set methods\n",
    "my_set.add('d')\n",
    "my_set.remove('b')\n",
    "my_set.issubset({'d', 'e', 'f'})\n",
    "my_set.intersection({'d', 'e', 'f'})\n",
    "\n",
    "# dictionary methods\n",
    "my_dict.keys()\n",
    "my_dict.values()\n",
    "my_dict.items()\n",
    "my_dict.get('d', 0)"
   ]
  },
  {
   "cell_type": "markdown",
   "metadata": {},
   "source": [
    "# 2. Thuật Toán Tìm Kiếm"
   ]
  },
  {
   "cell_type": "markdown",
   "metadata": {},
   "source": [
    "Bảng sau tổng kết các thuật toán tìm kiếm đã học và độ phức tạp về thời gian, không gian của từng thuật toán:  \n",
    "\n",
    "| <span style='font-size: 16px; font-weight: bold'>Thuật Toán</span> | <span style='font-size: 16px; font-weight: bold'>Cách Hoạt Động</span> | <span style='font-size: 16px; font-weight: bold'>Thời&nbsp;Gian</span> | <span style='font-size: 16px; font-weight: bold'>Không&nbsp;Gian</span>\n",
    "| :- | :- | :- | :-\n",
    "| <span style='font-size: 16px; font-weight: bold'>Tìm Kiếm Tuần Tự</span><br><span style='font-size: 14px'>Linear&nbsp;Search</span> | <span style='font-size: 14px'>Kiểm tra tuần tự các giá trị trong danh sách ngẫu nhiên cho trước.</span> | <span style='font-size: 14px'>O(N)</span> | <span style='font-size: 14px'>O(N)</span> |\n",
    "| <span style='font-size: 16px; font-weight: bold'>Tìm Kiếm Nhị Phân</span><br><span style='font-size: 14px'>Binary&nbsp;Search</span> | <span style='font-size: 14px'>Kiểm tra các giá trị trong danh sách đã được sắp xếp, thu hẹp nửa khoảng tìm kiếm sau mỗi bước.</span> | <span style='font-size: 14px'>O(N.log(N))</span> | <span style='font-size: 14px'>O(N)</span> |"
   ]
  },
  {
   "cell_type": "markdown",
   "metadata": {},
   "source": [
    "**Chạy thử thuật toán**:"
   ]
  },
  {
   "cell_type": "code",
   "execution_count": 6,
   "metadata": {},
   "outputs": [
    {
     "data": {
      "text/plain": [
       "5"
      ]
     },
     "execution_count": 6,
     "metadata": {},
     "output_type": "execute_result"
    }
   ],
   "source": [
    "number_list = [5, 9, 1, 12, 30, 35, 75, -10, -15, -20, -4, 0, 20, 0, 20, 3, 6, -14]\n",
    "linear_search(number_list, 35)"
   ]
  },
  {
   "cell_type": "code",
   "execution_count": 7,
   "metadata": {},
   "outputs": [
    {
     "data": {
      "text/plain": [
       "4"
      ]
     },
     "execution_count": 7,
     "metadata": {},
     "output_type": "execute_result"
    }
   ],
   "source": [
    "number_list = [-20, -15, -14, -10, -4, 0, 0, 1, 3, 5, 6, 9, 12, 20, 20, 30, 35, 75]\n",
    "binary_search(number_list, -4)"
   ]
  },
  {
   "cell_type": "markdown",
   "metadata": {},
   "source": [
    "# 3. Thuật Toán Sắp Xếp"
   ]
  },
  {
   "cell_type": "markdown",
   "metadata": {},
   "source": [
    "| <span style='font-size: 16px; font-weight: bold'>Thuật Toán</span> | <span style='font-size: 16px; font-weight: bold'>Cách Hoạt Động</span> | <span style='font-size: 16px; font-weight: bold'>Thời&nbsp;Gian</span> | <span style='font-size: 16px; font-weight: bold'>Không&nbsp;Gian</span>\n",
    "| :- | :- | :- | :-\n",
    "| <span style='font-size: 16px; font-weight: bold'>Sắp Xếp Chọn</span><br><span style='font-size: 14px'>Selection&nbsp;Sort</span> | <span style='font-size: 14px'>Lần lượt tìm các phần tử nhỏ nhất/ lớn nhất và chuyển lên đầu dãy.</span> | <span style='font-size: 14px'>O(N<sup>2</sup>)</span> | <span style='font-size: 14px'>O(N)</span> |\n",
    "| <span style='font-size: 16px; font-weight: bold'>Sắp&nbsp;Xếp&nbsp;Nổi&nbsp;Bọt</span><br><span style='font-size: 14px'>Bubble&nbsp;Sort</span> | <span style='font-size: 14px'>Xét lần lượt các cặp 2 phần tử liên tiếp, đổi chỗ 2 phần tử nếu không đúng thứ tự mong muốn.</span> | <span style='font-size: 14px'>O(N<sup>2</sup>)</span> | <span style='font-size: 14px'>O(N)</span> |\n",
    "| <span style='font-size: 16px; font-weight: bold'>Sắp Xếp Chèn</span><br><span style='font-size: 14px'>Insertion&nbsp;Sort</span> | <span style='font-size: 14px'>Chèn lần lượt các phần tử ở phần chưa sắp xếp vào phần đã sắp xếp.</span> | <span style='font-size: 14px'>O(N<sup>2</sup>)</span> | <span style='font-size: 14px'>O(N)</span> |\n",
    "| <span style='font-size: 16px; font-weight: bold'>Sắp Xếp Trộn</span><br><span style='font-size: 14px'>Merge&nbsp;Sort</span> | <span style='font-size: 14px'>Chia dãy cần sắp xếp thành hai phần có độ dài tương đương nhau, sắp xếp riêng từng phần, sau đó nhập hai phần đã sắp xếp lại.</span> | <span style='font-size: 14px'>O(N.log(N))</span> | <span style='font-size: 14px'>O(N)</span> |\n",
    "| <span style='font-size: 16px; font-weight: bold'>Sắp Xếp Nhanh</span><br><span style='font-size: 14px'>Quicksort</span> | <span style='font-size: 14px'>Chọn một phần tử trong dãy làm mốc, đem tất cả các phần tử nhỏ hơn hoặc bằng mốc về phía bên trái (sắp xếp tăng dần) hoặc bên phải (giảm dần), sau đó sắp xếp riêng từng phần bên trái và phải.</span> | <span style='font-size: 14px'>O(N<sup>2</sup>)<br>Θ(N.log(N))</span> | <span style='font-size: 14px'>O(N)</span> |\n",
    "| <span style='font-size: 16px; font-weight: bold'>Sắp Xếp Đếm Phân Phối</span><br><span style='font-size: 14px'>Counting Sort</span> | <span style='font-size: 14px'>Đếm số lần xuất hiện của từng giá trị, sau đó sử dụng kết quả đếm được để đưa các phần tử vào dãy mới theo thứ tự đã sắp xếp.</span> | <span style='font-size: 14px'>O(N+K)</span> | <span style='font-size: 14px'>O(N+K)</span> |"
   ]
  },
  {
   "cell_type": "markdown",
   "metadata": {},
   "source": [
    "**Chạy thử thuật toán**:"
   ]
  },
  {
   "cell_type": "code",
   "execution_count": 8,
   "metadata": {},
   "outputs": [
    {
     "data": {
      "image/png": "[encoded data removed]",
      "text/plain": [
       "<Figure size 1440x288 with 1 Axes>"
      ]
     },
     "metadata": {
      "needs_background": "light"
     },
     "output_type": "display_data"
    },
    {
     "data": {
      "image/png": "[encoded data removed]",
      "text/plain": [
       "<Figure size 1440x288 with 1 Axes>"
      ]
     },
     "metadata": {
      "needs_background": "light"
     },
     "output_type": "display_data"
    }
   ],
   "source": [
    "number_list = [5, 9, 1, 12, 30, 35, 75, 10, 15, 20, 4, 0, 20, 0, 20, 3, 6, 14]\n",
    "show_list(number_list, title='number_list')\n",
    "\n",
    "selection_sort(number_list)\n",
    "# bubble_sort(number_list)\n",
    "# insertion_sort(number_list)\n",
    "# merge_sort(number_list)\n",
    "# quick_sort(number_list)\n",
    "# counting_sort(number_list)\n",
    "\n",
    "show_list(number_list, title='sorted number_list')"
   ]
  },
  {
   "cell_type": "markdown",
   "metadata": {},
   "source": [
    "# 4. Cấu Trúc Dữ Liệu"
   ]
  },
  {
   "cell_type": "markdown",
   "metadata": {},
   "source": [
    "## 4.1. Ngăn Xếp (Stack)\n",
    "\n",
    "Dữ liệu được lưu trong stack với tính chất _**vào sau ra trước**_ :\n",
    "- Thêm một phần tử vào cuối dãy.\n",
    "- Lấy một phần tử từ cuối dãy."
   ]
  },
  {
   "cell_type": "code",
   "execution_count": 9,
   "metadata": {},
   "outputs": [
    {
     "data": {
      "text/plain": [
       "'c'"
      ]
     },
     "execution_count": 9,
     "metadata": {},
     "output_type": "execute_result"
    }
   ],
   "source": [
    "from collections import deque\n",
    "\n",
    "stack = deque(['a', 'b', 'c'])\n",
    "stack.append('d')\n",
    "stack.pop()\n",
    "stack[-1]"
   ]
  },
  {
   "cell_type": "markdown",
   "metadata": {},
   "source": [
    "## 4.2. Hàng Đợi (Queue)\n",
    "\n",
    "Queue lưu trữ dữ liệu với tính chất _**vào trước ra trước**_ :\n",
    "- Thêm một phần tử vào cuối dãy.\n",
    "- Lấy một phần tử từ đầu dãy."
   ]
  },
  {
   "cell_type": "code",
   "execution_count": 10,
   "metadata": {},
   "outputs": [
    {
     "data": {
      "text/plain": [
       "'b'"
      ]
     },
     "execution_count": 10,
     "metadata": {},
     "output_type": "execute_result"
    }
   ],
   "source": [
    "from collections import deque\n",
    "\n",
    "queue = deque(['a', 'b', 'c'])\n",
    "queue.append('d')\n",
    "queue.popleft()\n",
    "queue[0]"
   ]
  },
  {
   "cell_type": "markdown",
   "metadata": {},
   "source": [
    "## 4.3. Cây (Tree)\n",
    "\n",
    "Cây là một cấu trúc dữ liệu có tính phân cấp:\n",
    "- Cây bắt đầu từ node gốc và mở rộng xuống các node con.\n",
    "- Mỗi node có thể không có hoặc có nhiều phần tử con.\n",
    "- Trừ node gốc, mỗi node đều chỉ có đúng một phần tử cha.\n",
    "\n",
    "![](./assets/html-tree.png)"
   ]
  },
  {
   "cell_type": "code",
   "execution_count": 11,
   "metadata": {},
   "outputs": [],
   "source": [
    "class TreeNode:\n",
    "    def __init__(self, data):\n",
    "        self.data = data\n",
    "        self.children = []\n",
    "\n",
    "root = TreeNode('html')\n",
    "head = TreeNode('head')\n",
    "body = TreeNode('body')\n",
    "meta = TreeNode('meta')\n",
    "\n",
    "root.children = [head, body]\n",
    "head.children = [meta]"
   ]
  },
  {
   "cell_type": "markdown",
   "metadata": {},
   "source": [
    "### Cây Nhị Phân (Binary Tree)\n",
    "\n",
    "Cây nhị phân là một cây với tính chất: mỗi phần tử chỉ có tối đa hai con. Một node con có thể là node trái hoặc node phải.\n",
    "\n",
    "![](./assets/binary-search-tree.png)"
   ]
  },
  {
   "cell_type": "code",
   "execution_count": 12,
   "metadata": {},
   "outputs": [],
   "source": [
    "class BTNode:\n",
    "    def __init__(self, data):\n",
    "        self.data = data\n",
    "        self.left = None\n",
    "        self.right = None\n",
    "\n",
    "root = BTNode(8)\n",
    "root.left, root.right = BTNode(3), BTNode(10)\n",
    "root.left.left, root.left.right = BTNode(1), BTNode(6)\n",
    "root.left.right.left, root.left.right.right = BTNode(4), BTNode(7)\n",
    "root.right.right = BTNode(14)\n",
    "root.right.right.left = BTNode(13)"
   ]
  },
  {
   "cell_type": "markdown",
   "metadata": {},
   "source": [
    "## 4.4. Đồ Thị (Graph)\n",
    "\n",
    "Graph là một cấu trúc dữ liệu gồm các *đỉnh* được nối với nhau bởi các *cạnh*.\n",
    "\n",
    "![](./assets/graph.png)\n",
    "\n",
    "Một trong những cách thông dụng để lưu trữ graph là theo dạng **_danh sách kề_**: từ mỗi đỉnh, ta lưu trữ tất cả các đỉnh liền kề với nó."
   ]
  },
  {
   "cell_type": "code",
   "execution_count": 13,
   "metadata": {},
   "outputs": [],
   "source": [
    "graph = {\n",
    "    0: [1, 4],\n",
    "    1: [0, 2, 3, 4],\n",
    "    2: [1, 3],\n",
    "    3: [1, 2, 4],\n",
    "    4: [0, 1, 3]\n",
    "}"
   ]
  },
  {
   "cell_type": "markdown",
   "metadata": {},
   "source": [
    "# 5. Thuật Toán Tìm Đường"
   ]
  },
  {
   "cell_type": "markdown",
   "metadata": {},
   "source": [
    "## 5.1. Tìm Kiếm Theo Chiều Sâu (Depth-First Search / DFS)\n",
    "\n",
    "DFS duyệt qua các đỉnh trong một đồ thị với tư tưởng: bắt đầu từ một đỉnh bất kì, duyệt theo các đỉnh kề để đến đỉnh xa nhất có thể trên mỗi nhánh, sau đó trở lại các điểm rẽ nhánh và tiếp tục duyệt.  \n",
    "\n",
    "Độ phức tạp: Thời gian: O(|V| + |E|) | Không gian: O(|V| + |E|)\n",
    "\n",
    "![](./assets/graph2.png)"
   ]
  },
  {
   "cell_type": "code",
   "execution_count": 14,
   "metadata": {},
   "outputs": [
    {
     "name": "stdout",
     "output_type": "stream",
     "text": [
      "DFS Searching Path: [0, 1, 2, 3, 4]\n"
     ]
    }
   ],
   "source": [
    "graph = {0: [1, 4], 1: [0, 2, 3, 4], 2: [1, 3], 3: [1, 2, 4], 4: [0, 1, 3]}\n",
    "\n",
    "# change starting vertex to see how the path changes\n",
    "print('DFS Searching Path: {}'.format(dfs(graph, 0)))"
   ]
  },
  {
   "cell_type": "markdown",
   "metadata": {},
   "source": [
    "## 5.2. Tìm Kiếm Theo Chiều Rộng (Breadth-First Search / BFS)\n",
    "\n",
    "BFS duyệt các đỉnh gần điểm bắt đầu trước, sau đó đến các đỉnh xa hơn.  \n",
    "\n",
    "Độ phức tạp: Thời gian: O(|V| + |E|) | Không gian: O(|V| + |E|)\n",
    "\n",
    "![](./assets/graph2.png)"
   ]
  },
  {
   "cell_type": "code",
   "execution_count": 15,
   "metadata": {},
   "outputs": [
    {
     "name": "stdout",
     "output_type": "stream",
     "text": [
      "BFS Searching Path: [0, 1, 4, 2, 3]\n"
     ]
    }
   ],
   "source": [
    "graph = {0: [1, 4], 1: [0, 2, 3, 4], 2: [1, 3], 3: [1, 2, 4], 4: [0, 1, 3]}\n",
    "\n",
    "# change starting vertex to see how the path changes\n",
    "print('BFS Searching Path: {}'.format(bfs(graph, 0)))"
   ]
  },
  {
   "cell_type": "markdown",
   "metadata": {},
   "source": [
    "# END"
   ]
  }
 ],
 "metadata": {
  "kernelspec": {
   "display_name": "Python 3",
   "language": "python",
   "name": "python3"
  },
  "language_info": {
   "codemirror_mode": {
    "name": "ipython",
    "version": 3
   },
   "file_extension": ".py",
   "mimetype": "text/x-python",
   "name": "python",
   "nbconvert_exporter": "python",
   "pygments_lexer": "ipython3",
   "version": "3.8.3"
  }
 },
 "nbformat": 4,
 "nbformat_minor": 4
}
