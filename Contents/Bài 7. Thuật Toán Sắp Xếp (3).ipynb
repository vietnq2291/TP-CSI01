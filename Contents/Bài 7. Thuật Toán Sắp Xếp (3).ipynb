{
 "cells": [
  {
   "cell_type": "markdown",
   "metadata": {},
   "source": [
    "## <center>Computer Science Intensive Course - MindX</center>\n",
    "![](./assets/logo.png)\n",
    "# <center>BÀI 7. THUẬT TOÁN SẮP XẾP (3)</center>"
   ]
  },
  {
   "cell_type": "code",
   "execution_count": 4,
   "metadata": {},
   "outputs": [],
   "source": [
    "# run this cell FIRST\n",
    "import matplotlib.pyplot as plt\n",
    "\n",
    "def show_list(arr, title=''):\n",
    "    fig, ax = plt.subplots(figsize=(20, 4))\n",
    "    ax.bar(range(len(arr)), arr)\n",
    "    ax.set_title(title)\n",
    "    ax.set_xlabel('index')\n",
    "    ax.set_xticks(range(len(arr)))\n",
    "    ax.spines['top'].set_visible(False)\n",
    "    ax.spines['right'].set_visible(False)\n",
    "    plt.show()"
   ]
  },
  {
   "cell_type": "markdown",
   "metadata": {},
   "source": [
    "# 1. Counting Sort\n",
    "\n",
    "**Bài toán**: Cho một dãy gồm *0 < n < 10<sup>6</sup>* số nguyên, mỗi số có giá trị trong khoảng [0, 99], sắp xếp dãy trên theo thứ tự tăng dần."
   ]
  },
  {
   "cell_type": "code",
   "execution_count": 5,
   "metadata": {},
   "outputs": [
    {
     "data": {
      "image/png": "[encoded data removed]",
      "text/plain": [
       "<Figure size 1440x288 with 1 Axes>"
      ]
     },
     "metadata": {
      "needs_background": "light"
     },
     "output_type": "display_data"
    }
   ],
   "source": [
    "number_list = [5, 9, 1, 12, 30, 35, 75, 10, 15, 20, 4, 0, 20, 0, 20, 3, 6, 14]\n",
    "show_list(number_list, title='number_list')"
   ]
  },
  {
   "cell_type": "markdown",
   "metadata": {},
   "source": [
    "Chú ý điểm đặc biệt của bài toán trên: mỗi phần tử trong dãy là một số nguyên có giá trị từ 0 đến 99, có nghĩa là ta chỉ có tối đa 100 giá trị riêng biệt trong dãy.  \n",
    "Counting Sort sử dụng đặc tính này của dữ liệu để làm nền tảng cho thuật toán.  \n",
    "\n",
    "**Cách tiếp cận** của Counting Sort:\n",
    "1. Duyệt qua dãy để đếm số lần xuất hiện của từng giá trị.\n",
    "2. Sử dụng các giá trị đếm được để đưa các phần tử vào dãy mới theo thứ tự đã sắp xếp.\n",
    "\n",
    "**Ví dụ**: Ta cần sắp xếp dãy [1, 4, 1, 2, 7, 5, 2] chứa các giá trị từ 0 đến 7.  \n",
    "Bước 1. Tạo mảng *count* chứa số lần xuất hiện của mỗi phần tử:\n",
    "<pre>\n",
    "       i:  0  1  2  3  4  5  6  7\n",
    "count[i]:  0  2  2  0  1  1  0  1\n",
    "</pre>  \n",
    "Bước 2. Duyệt *count* theo thứ tự từ đầu đến cuối để đưa các giá trị vào dãy mới.\n",
    "<pre>\n",
    "sorted_arr = []\n",
    "i = 0; count[0] = 0  =>  sorted_arr = []\n",
    "i = 1; count[1] = 2  =>  sorted_arr = [1, 1]\n",
    "i = 2; count[2] = 2  =>  sorted_arr = [1, 1, 2, 2]\n",
    "i = 3; count[3] = 0  =>  sorted_arr = [1, 1, 2, 2]\n",
    "i = 4; count[4] = 1  =>  sorted_arr = [1, 1, 2, 2, 4]\n",
    "i = 5; count[5] = 1  =>  sorted_arr = [1, 1, 2, 2, 4, 5]\n",
    "i = 6; count[6] = 0  =>  sorted_arr = [1, 1, 2, 2, 4, 5]\n",
    "i = 7; count[7] = 1  =>  sorted_arr = [1, 1, 2, 2, 4, 5, 7]\n",
    "</pre> \n",
    "\n",
    "**Visualization**: https://visualgo.net/en/sorting, thuật toán thứ bảy."
   ]
  },
  {
   "cell_type": "markdown",
   "metadata": {},
   "source": [
    "### Code:"
   ]
  },
  {
   "cell_type": "code",
   "execution_count": 6,
   "metadata": {},
   "outputs": [],
   "source": [
    "def counting_sort(arr):\n",
    "    \n",
    "    # trivial cases\n",
    "    if len(arr) <= 1:\n",
    "        return\n",
    "    \n",
    "    # get the maximal value as the range of counting indices\n",
    "    max_val = max(arr)\n",
    " \n",
    "    # count occurences of each value\n",
    "    count = [0] * (max_val+1)\n",
    "    for el in arr:\n",
    "        count[el] += 1\n",
    " \n",
    "    # traverse `count` to place the values back to `arr`\n",
    "    index = 0\n",
    "    for i in range(max_val+1):\n",
    "        for j in range(count[i]):\n",
    "            arr[index] = i\n",
    "            index += 1"
   ]
  },
  {
   "cell_type": "code",
   "execution_count": 7,
   "metadata": {},
   "outputs": [
    {
     "name": "stdout",
     "output_type": "stream",
     "text": [
      "Before sorting: [5, 9, 1, 12, 30, 35, 75, 10, 15, 20, 4, 0, 20, 0, 20, 3, 6, 14]\n",
      "After sorting:  [0, 0, 1, 3, 4, 5, 6, 9, 10, 12, 14, 15, 20, 20, 20, 30, 35, 75]\n"
     ]
    },
    {
     "data": {
      "image/png": "[encoded data removed]",
      "text/plain": [
       "<Figure size 1440x288 with 1 Axes>"
      ]
     },
     "metadata": {
      "needs_background": "light"
     },
     "output_type": "display_data"
    }
   ],
   "source": [
    "number_list_2 = number_list[:]\n",
    "\n",
    "counting_sort(number_list_2)\n",
    "\n",
    "print(\"Before sorting: {}\".format(number_list))\n",
    "print(\"After sorting:  {}\".format(number_list_2))\n",
    "show_list(number_list_2, title='number_list_2')"
   ]
  },
  {
   "cell_type": "markdown",
   "metadata": {},
   "source": [
    "**Độ phức tạp thời gian**:\n",
    "- Thuật toán Counting Sort duyệt qua dãy để đếm các phần tử với độ phức tạp *O(n)*.\n",
    "- Sau đó, thuật toán duyệt qua mảng *count* để đưa các phần tử vào mảng đã sắp xếp. Số phần tử của mảng *count* tương đương với giá trị lớn nhất của dãy. Gọi giá trị này là *k*, ta có độ phức tạp của bước này là *O(k+1) + O(n)* = *O(n+k)*, do ta duyệt qua cả mảng *count* và dãy đã được sắp xếp.  \n",
    "- Như vậy, độ phức tạp về thời gian của thuật toán là:\n",
    "  \\begin{equation} O(n)+O(n+k) = O(n+k) \\end{equation}\n",
    "\n",
    "**Độ phức tạp không gian**:\n",
    "- Thuật toán lưu trữ danh sách gốc với *O(n)* bộ nhớ và mảng *count* với *O(k)* bộ nhớ.\n",
    "- Trong code trên, ta lưu dãy đã được sắp xếp bằng cách ghi đè lên dãy gốc, do đó ta không dùng thêm không gian nhớ cho dãy đã được sắp xếp.\n",
    "- Tổng hợp, độ phức tạp về không gian của thuật toán là:\n",
    "  \\begin{equation} O(n) + O(k) = O(n+k) \\end{equation}\n",
    "  \n",
    "**Đặc điểm**:\n",
    "- Trong các trường hợp *n* lớn và *k* nhỏ, thuật toán Counting Sort đặc biệt nhanh hơn các thuật toán sắp xếp đã học.\n",
    "- Counting Sort có tính chất đặc trưng này vì đây là thuật toán sắp xếp không dựa vào cơ chế so sánh. Tức ta không thực hiện phép so sánh giữa các phần tử trong quá trình sắp xếp.\n",
    "- Tuy nhiên, Counting Sort có một nhược điểm rất lớn là chỉ hoạt động tốt trên dãy có ít giá trị riêng biệt. Ví dụ nếu dãy cần sắp xếp là các số thực với giá trị ngẫu nhiên, thuật toán này gần như không có ý nghĩa ứng dụng.\n",
    "\n",
    "**Mở rộng**:\n",
    "- Trong code trên, thuật toán chỉ chạy được với các số nguyên không âm. Tuy nhiên, Counting Sort có thể được chỉnh sửa để chạy được với số âm và các loại dữ liệu có tính chất rời rạc khác."
   ]
  },
  {
   "cell_type": "markdown",
   "metadata": {},
   "source": [
    "# 2. So Sánh Các Thuật Toán Sắp Xếp\n",
    "\n",
    "Ta đã học các thuật toán sắp xếp với độ phức tạp khác nhau:\n",
    "- O(n<sup>2</sup>): Selection Sort, Bubble Sort, Insertion Sort\n",
    "- O(nlog(n)): Merge Sort; Θ(nlog(n)): Quicksort\n",
    "- O(n+k): Counting Sort\n",
    "\n",
    "Mỗi thuật toán có đặc trưng riêng về cách xử lý và yêu cầu về input.  \n",
    "Do đó, mỗi thuật toán sẽ có thời gian chạy khác nhau trên dữ liệu thực tế.  "
   ]
  },
  {
   "cell_type": "markdown",
   "metadata": {},
   "source": [
    "## Độ Phức Tạp & Thời Gian Chạy\n",
    "\n",
    "Ta có thể đánh giá sự tương quan về độ phức tạp tính toán và thời gian chạy thực tế của các thuật toán bằng cách chạy đoạn code bên dưới.  \n",
    "Học viên có thể thay đổi các thông số để chạy thử trên các trường hợp khác nhau."
   ]
  },
  {
   "cell_type": "code",
   "execution_count": 8,
   "metadata": {},
   "outputs": [],
   "source": [
    "%run algorithm_implementations.ipynb\n",
    "\n",
    "import numpy as np\n",
    "import time\n",
    "\n",
    "def cal_time(func):\n",
    "    start_time = time.time()\n",
    "    result = func()\n",
    "    real_time = time.time() - start_time\n",
    "    return real_time, result"
   ]
  },
  {
   "cell_type": "code",
   "execution_count": 9,
   "metadata": {},
   "outputs": [
    {
     "name": "stdout",
     "output_type": "stream",
     "text": [
      "Testing execution time of sorting algorithms on random arrays | n=10000, k=1000\n",
      "    O(n+k) Algorithm: Counting Sort ==== 0.003989458084106445 secs\n",
      "O(nlog(n)) Algorithm: Merge Sort    ==== 0.046874284744262695 secs\n",
      "Θ(nlog(n)) Algorithm: Quicksort     ==== 0.027124643325805664 secs\n",
      "    O(n^2) Algorithm: Bubble Sort   ==== 9.36295223236084 secs\n",
      "  Python Built-in sorted() function ==== 0.001995086669921875 secs\n"
     ]
    }
   ],
   "source": [
    "def test_execution_time():\n",
    "    \n",
    "    # change the parameters here for exploration\n",
    "    test_list = [('    O(n+k) Algorithm: Counting Sort', counting_sort),  # requires integer inputs, starting from 0\n",
    "                 ('O(nlog(n)) Algorithm: Merge Sort   ', merge_sort),\n",
    "                 ('Θ(nlog(n)) Algorithm: Quicksort    ', quick_sort),\n",
    "                 ('    O(n^2) Algorithm: Bubble Sort  ', bubble_sort),\n",
    "                 ('  Python Built-in sorted() function', sorted)]\n",
    "    arr_size = 10000\n",
    "    max_val = 1000\n",
    "    \n",
    "    arr = list(np.random.randint(0, max_val, arr_size))\n",
    "    \n",
    "    print('Testing execution time of sorting algorithms on random arrays | n={}, k={}'.format(arr_size, max_val))\n",
    "    for name, func in test_list:\n",
    "        arr2 = arr[:]\n",
    "        print('{} ==== {} secs'.format(name, cal_time(lambda: func(arr2))[0]))\n",
    "\n",
    "\n",
    "# driver code\n",
    "test_execution_time()"
   ]
  },
  {
   "cell_type": "markdown",
   "metadata": {},
   "source": [
    "**Nhận xét**:  \n",
    "\n",
    "Với n=10000 và k=1000, ta có thể tạm tính:\n",
    "<pre>\n",
    "n+k     = 11000\n",
    "nlog(n) = 40000\n",
    "n^2     = 100000000\n",
    "</pre>\n",
    "\n",
    "Giá trị tương đối của các kết quả này khớp với thời gian chạy thực tế mà ta tính toán được: Counting Sort < Merge Sort, Quicksort < Bubble Sort.  \n",
    "Merge Sort và Quicksort tuy tương đồng nhau về độ phức tạp nhưng có khác biệt trong thời gian chạy thực tế.\n",
    "\n",
    "**Thuật toán trong hàm sorted()**:  \n",
    "\n",
    "Thuật toán được dùng trong hàm *sorted()* có sẵn của Python là thuật toán Timsort (https://en.wikipedia.org/wiki/Timsort). Đây là một dạng thuật toán lai kết hợp giữa Merge Sort và Insertion Sort. Thuật toán này có độ phức tạp trung bình là Θ(nlog(n)).  \n",
    "\n",
    "Tuy nhiên, ta có thể thấy thời gian chạy của hàm *sorted()* nhanh hơn hẳn các thuật toán O(nlog(n)) phía trên. Có hai lý do chính là cho việc này là:\n",
    "- Hàm được tối ưu hóa bằng nhiều kỹ thuật khác nhau chứ không chỉ đơn thuần là kết hợp Merge Sort và Insertion Sort.\n",
    "- Hàm được viết dưới ngôn ngữ C để tối ưu hóa thời gian thực chạy.\n",
    "\n",
    "**Kết luận**:\n",
    "- Độ phức tạp của một thuật toán không thể hiện chính xác thời gian chạy trên thực tế, nhưng đó là một công cụ hữu dụng để ta phân tích độ hiệu quả về mặt thời gian và dữ liệu.\n",
    "- Các thuật toán tương đồng nhau về độ phức tạp có thể có khác biệt lớn về thời gian chạy thực tế, nhờ vào các yếu tố như cách xử lý, tối ưu hóa và môi trường chạy."
   ]
  },
  {
   "cell_type": "markdown",
   "metadata": {},
   "source": [
    "# 3. Thực Hành"
   ]
  },
  {
   "cell_type": "markdown",
   "metadata": {},
   "source": [
    "## 3.1. Counting Sort Trên Số Âm\n",
    "\n",
    "**Yêu cầu**: Cho một dãy gồm *0 < n < 10<sup>6</sup>* số nguyên, mỗi số có giá trị trong khoảng [-99, 99]. Hãy chỉnh sửa thuật toán Counting Sort để sắp xếp dãy trên theo thứ tự tăng dần.  \n",
    "\n",
    "*Gợi ý*: Ta có thể xem khoảng giá trị [-99, 99] tương tự như khoảng [0, 198] bằng cách cộng 99 vào mỗi phần tử."
   ]
  },
  {
   "cell_type": "code",
   "execution_count": 10,
   "metadata": {},
   "outputs": [],
   "source": [
    "number_list = [5, 9, -1, 12, -30, 35, -75, 10, 15, -20, 4, 0, -20, 0, -20, -3, 6, -14]"
   ]
  },
  {
   "cell_type": "code",
   "execution_count": 11,
   "metadata": {},
   "outputs": [],
   "source": [
    "def counting_sort_negative(arr):\n",
    "    \n",
    "    # trivial cases\n",
    "    if len(arr) <= 1:\n",
    "        return\n",
    "    \n",
    "    # get the range of counting indices\n",
    "    min_val = min(arr)\n",
    "    max_val = max(arr)\n",
    "    val_range = max_val - min_val + 1\n",
    " \n",
    "    # count occurences of each value\n",
    "    count = [0] * val_range\n",
    "    for el in arr:\n",
    "        count[el-min_val] += 1  # subtract here...\n",
    " \n",
    "    # traverse `count` to place the values back to `arr`\n",
    "    index = 0\n",
    "    for i in range(val_range):\n",
    "        for j in range(count[i]):\n",
    "            arr[index] = i + min_val  # ... then add back here\n",
    "            index += 1"
   ]
  },
  {
   "cell_type": "code",
   "execution_count": 12,
   "metadata": {},
   "outputs": [
    {
     "name": "stdout",
     "output_type": "stream",
     "text": [
      "Before sorting: [5, 9, -1, 12, -30, 35, -75, 10, 15, -20, 4, 0, -20, 0, -20, -3, 6, -14]\n",
      "After sorting:  [-75, -30, -20, -20, -20, -14, -3, -1, 0, 0, 4, 5, 6, 9, 10, 12, 15, 35]\n"
     ]
    },
    {
     "data": {
      "image/png": "[encoded data removed]",
      "text/plain": [
       "<Figure size 1440x288 with 1 Axes>"
      ]
     },
     "metadata": {
      "needs_background": "light"
     },
     "output_type": "display_data"
    }
   ],
   "source": [
    "number_list_2 = number_list[:]\n",
    "\n",
    "counting_sort_negative(number_list_2)\n",
    "\n",
    "print(\"Before sorting: {}\".format(number_list))\n",
    "print(\"After sorting:  {}\".format(number_list_2))\n",
    "show_list(number_list_2, title='number_list_2')"
   ]
  },
  {
   "cell_type": "markdown",
   "metadata": {},
   "source": [
    "## 3.2. Danh Sách Điểm\n",
    "\n",
    "Bài toán sắp xếp thường không chỉ giải quyết vấn đề sắp xếp phần tử đơn giản, mà còn sắp xếp các phần tử là object dựa theo các thuộc tính của chúng.  \n",
    "\n",
    "**Yêu cầu**: Cho danh sách điểm của học sinh với định dạng bên dưới. Hãy sắp xếp danh sách theo thứ tự điểm Toán tăng dần.\n",
    "Biết danh sách có thể có điếm của *0 < n < 10<sup>6</sup>* học sinh, mỗi điểm được làm tròn đến số nguyên từ 0 đến 10."
   ]
  },
  {
   "cell_type": "code",
   "execution_count": 13,
   "metadata": {},
   "outputs": [],
   "source": [
    "student_grade_list = [\n",
    "    {'id': 984, 'math': 9, 'literature': 5},\n",
    "    {'id': 12, 'math': 10, 'literature': 4},\n",
    "    {'id': 324, 'math': 10, 'literature': 5},\n",
    "    {'id': 890, 'math': 5, 'literature': 7},\n",
    "    {'id': 223, 'math': 8, 'literature': 5},\n",
    "    {'id': 543, 'math': 8, 'literature': 8},\n",
    "]"
   ]
  },
  {
   "cell_type": "code",
   "execution_count": 14,
   "metadata": {},
   "outputs": [],
   "source": [
    "# METHOD 1: Store indices in the `indices` array\n",
    "# Use extra O(n+k) space\n",
    "def counting_sort_grade_v1(arr):\n",
    "    \n",
    "    # trivial cases\n",
    "    if len(arr) <= 1:\n",
    "        return\n",
    "    \n",
    "    # get the range of counting indices\n",
    "    val_range = 11\n",
    " \n",
    "    # save indices of each value\n",
    "    indices = [[] for i in range(val_range)]\n",
    "    for i, grade in enumerate(arr):\n",
    "        indices[grade['math']].append(i)\n",
    "    \n",
    "    # traverse `count` to place the values into `sorted_arr`\n",
    "    sorted_arr = [None] * len(arr)\n",
    "    index = 0\n",
    "    for i in range(val_range):\n",
    "        for original_index in indices[i]:\n",
    "            sorted_arr[index] = arr[original_index]\n",
    "            index += 1\n",
    "            \n",
    "    return sorted_arr"
   ]
  },
  {
   "cell_type": "code",
   "execution_count": 15,
   "metadata": {},
   "outputs": [],
   "source": [
    "# METHOD 2: Build `next_indices` array\n",
    "# Use extra O(k) space\n",
    "# Can overwrite `count` to eliminate extra space, but would make the code more complex\n",
    "# Reference: https://www.interviewcake.com/concept/java/counting-sort\n",
    "def counting_sort_grade_v2(arr):\n",
    "    \n",
    "    # trivial cases\n",
    "    if len(arr) <= 1:\n",
    "        return\n",
    "    \n",
    "    # get the range of counting indices\n",
    "    val_range = 11\n",
    " \n",
    "    # count occurences of each value\n",
    "    count = [0] * val_range\n",
    "    for i, grade in enumerate(arr):\n",
    "        count[grade['math']] += 1\n",
    "        \n",
    "    # build `next_indices`\n",
    "    next_indices = [None] * val_range\n",
    "    next_indices[0] = 0\n",
    "    for i in range(1, val_range):\n",
    "        next_indices[i] = next_indices[i-1] + count[i-1]\n",
    " \n",
    "    # traverse `arr` to place the values into `sorted_arr`\n",
    "    sorted_arr = [None] * len(arr)\n",
    "    for grade in arr:\n",
    "        sorted_arr[next_indices[grade['math']]] = grade\n",
    "        next_indices[grade['math']] += 1\n",
    "        \n",
    "    return sorted_arr"
   ]
  },
  {
   "cell_type": "code",
   "execution_count": 16,
   "metadata": {},
   "outputs": [
    {
     "name": "stdout",
     "output_type": "stream",
     "text": [
      "Before sorting:\n"
     ]
    },
    {
     "data": {
      "text/plain": [
       "[{'id': 984, 'math': 9, 'literature': 5},\n",
       " {'id': 12, 'math': 10, 'literature': 4},\n",
       " {'id': 324, 'math': 10, 'literature': 5},\n",
       " {'id': 890, 'math': 5, 'literature': 7},\n",
       " {'id': 223, 'math': 8, 'literature': 5},\n",
       " {'id': 543, 'math': 8, 'literature': 8}]"
      ]
     },
     "metadata": {},
     "output_type": "display_data"
    },
    {
     "name": "stdout",
     "output_type": "stream",
     "text": [
      "After sorting:\n"
     ]
    },
    {
     "data": {
      "text/plain": [
       "[{'id': 890, 'math': 5, 'literature': 7},\n",
       " {'id': 223, 'math': 8, 'literature': 5},\n",
       " {'id': 543, 'math': 8, 'literature': 8},\n",
       " {'id': 984, 'math': 9, 'literature': 5},\n",
       " {'id': 12, 'math': 10, 'literature': 4},\n",
       " {'id': 324, 'math': 10, 'literature': 5}]"
      ]
     },
     "metadata": {},
     "output_type": "display_data"
    }
   ],
   "source": [
    "student_grade_list_2 = student_grade_list[:]\n",
    "\n",
    "student_grade_list_2 = counting_sort_grade_v2(student_grade_list_2)\n",
    "\n",
    "print(\"Before sorting:\")\n",
    "display(student_grade_list)\n",
    "print(\"After sorting:\")\n",
    "display(student_grade_list_2)"
   ]
  },
  {
   "cell_type": "code",
   "execution_count": null,
   "metadata": {},
   "outputs": [],
   "source": []
  }
 ],
 "metadata": {
  "kernelspec": {
   "display_name": "Python 3",
   "language": "python",
   "name": "python3"
  },
  "language_info": {
   "codemirror_mode": {
    "name": "ipython",
    "version": 3
   },
   "file_extension": ".py",
   "mimetype": "text/x-python",
   "name": "python",
   "nbconvert_exporter": "python",
   "pygments_lexer": "ipython3",
   "version": "3.8.3"
  }
 },
 "nbformat": 4,
 "nbformat_minor": 4
}
